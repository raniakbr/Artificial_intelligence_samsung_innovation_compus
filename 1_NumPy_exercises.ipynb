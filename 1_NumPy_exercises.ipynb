{
  "cells": [
    {
      "cell_type": "markdown",
      "metadata": {
        "id": "dgSSsTbbHnYw"
      },
      "source": [
        "\n",
        "# NumPy exercises\n"
      ]
    },
    {
      "cell_type": "code",
      "execution_count": 279,
      "metadata": {
        "id": "NRQeWTdSHnY3"
      },
      "outputs": [
        {
          "name": "stdout",
          "output_type": "stream",
          "text": [
            "1.21.0\n"
          ]
        }
      ],
      "source": [
        "# Import the numpy package under the name np\n",
        "import numpy as np\n",
        "\n",
        "# Print the numpy version and the configuration\n",
        "print(np.__version__)"
      ]
    },
    {
      "cell_type": "markdown",
      "metadata": {
        "id": "VLZ2z7rYHnY4"
      },
      "source": [
        "![purple-divider](https://user-images.githubusercontent.com/7065401/52071927-c1cd7100-2562-11e9-908a-dde91ba14e59.png)\n",
        "\n",
        "## Array creation"
      ]
    },
    {
      "cell_type": "markdown",
      "metadata": {
        "id": "8iKuHC_KHnY4"
      },
      "source": [
        "### Create a numpy array of size 10, filled with zeros."
      ]
    },
    {
      "cell_type": "code",
      "execution_count": 280,
      "metadata": {
        "id": "hbqNuGNvHnY5"
      },
      "outputs": [
        {
          "data": {
            "text/plain": [
              "array([0., 0., 0., 0., 0., 0., 0., 0., 0., 0.])"
            ]
          },
          "execution_count": 280,
          "metadata": {},
          "output_type": "execute_result"
        }
      ],
      "source": [
        "# your code goes here\r\n",
        "np.zeros(10)\r\n"
      ]
    },
    {
      "cell_type": "markdown",
      "metadata": {
        "id": "kujttpUMHnY5"
      },
      "source": [
        "\n",
        "\n",
        "### Create a numpy array with values ranging from 10 to 49"
      ]
    },
    {
      "cell_type": "code",
      "execution_count": 281,
      "metadata": {
        "id": "pNOuMIT0HnY6"
      },
      "outputs": [
        {
          "data": {
            "text/plain": [
              "array([10, 11, 12, 13, 14, 15, 16, 17, 18, 19, 20, 21, 22, 23, 24, 25, 26,\n",
              "       27, 28, 29, 30, 31, 32, 33, 34, 35, 36, 37, 38, 39, 40, 41, 42, 43,\n",
              "       44, 45, 46, 47, 48, 49])"
            ]
          },
          "execution_count": 281,
          "metadata": {},
          "output_type": "execute_result"
        }
      ],
      "source": [
        "# your code goes here\r\n",
        "np.array(range(10,50))\r\n"
      ]
    },
    {
      "cell_type": "markdown",
      "metadata": {
        "id": "HlFkNOf2HnY6"
      },
      "source": [
        "\n",
        "\n",
        "### Create a numpy matrix of 2*2 integers, filled with ones."
      ]
    },
    {
      "cell_type": "code",
      "execution_count": 282,
      "metadata": {
        "id": "zADtXIk2HnY7"
      },
      "outputs": [
        {
          "data": {
            "text/plain": [
              "array([[1, 1],\n",
              "       [1, 1]])"
            ]
          },
          "execution_count": 282,
          "metadata": {},
          "output_type": "execute_result"
        }
      ],
      "source": [
        "# your code goes here\r\n",
        "np.ones((2,2),dtype=int)\r\n"
      ]
    },
    {
      "cell_type": "markdown",
      "metadata": {
        "id": "LRgNeykFHnY7"
      },
      "source": [
        "\n",
        "\n",
        "### Create a numpy matrix of 3*2 float numbers, filled with ones."
      ]
    },
    {
      "cell_type": "code",
      "execution_count": 283,
      "metadata": {
        "id": "CNA-39v-HnY8"
      },
      "outputs": [
        {
          "data": {
            "text/plain": [
              "array([[1., 1.],\n",
              "       [1., 1.],\n",
              "       [1., 1.]])"
            ]
          },
          "execution_count": 283,
          "metadata": {},
          "output_type": "execute_result"
        }
      ],
      "source": [
        "# your code goes here\r\n",
        "np.ones((3,2))"
      ]
    },
    {
      "cell_type": "markdown",
      "metadata": {
        "id": "4A4f1T4XHnY8"
      },
      "source": [
        "\n",
        "\n",
        "### Given the X numpy array, create a new numpy array with the same shape and type as X, filled with ones."
      ]
    },
    {
      "cell_type": "code",
      "execution_count": 284,
      "metadata": {
        "id": "NjM2VHDqHnY9"
      },
      "outputs": [
        {
          "data": {
            "text/plain": [
              "array([[1, 1, 1, 1]])"
            ]
          },
          "execution_count": 284,
          "metadata": {},
          "output_type": "execute_result"
        }
      ],
      "source": [
        "# your code goes here\r\n",
        "x = np.array([[1,5,10,4]])\r\n",
        "np.full_like(x,1)"
      ]
    },
    {
      "cell_type": "markdown",
      "metadata": {
        "id": "VCHn-zTYHnY9"
      },
      "source": [
        "\n",
        "\n",
        "### Given the X numpy matrix, create a new numpy matrix with the same shape and type as X, filled with zeros."
      ]
    },
    {
      "cell_type": "code",
      "execution_count": 285,
      "metadata": {
        "id": "hANNmXCZHnY-"
      },
      "outputs": [
        {
          "data": {
            "text/plain": [
              "array([[0, 0],\n",
              "       [0, 0],\n",
              "       [0, 0]])"
            ]
          },
          "execution_count": 285,
          "metadata": {},
          "output_type": "execute_result"
        }
      ],
      "source": [
        "# your code goes here\r\n",
        "x = np.array([[1,5],[6,8],[10,4]])\r\n",
        "np.full_like(x,0)\r\n"
      ]
    },
    {
      "cell_type": "markdown",
      "metadata": {
        "id": "9rp_wd0-HnY-"
      },
      "source": [
        "\n",
        "\n",
        "### Create a numpy matrix of 4*4 integers, filled with fives."
      ]
    },
    {
      "cell_type": "code",
      "execution_count": 286,
      "metadata": {
        "id": "PQrlLId_HnY_"
      },
      "outputs": [
        {
          "data": {
            "text/plain": [
              "array([[5, 5, 5, 5],\n",
              "       [5, 5, 5, 5],\n",
              "       [5, 5, 5, 5],\n",
              "       [5, 5, 5, 5]])"
            ]
          },
          "execution_count": 286,
          "metadata": {},
          "output_type": "execute_result"
        }
      ],
      "source": [
        "# your code goes here\r\n",
        "np.full((4,4),5)\r\n"
      ]
    },
    {
      "cell_type": "markdown",
      "metadata": {
        "id": "3yw0KuZUHnY_"
      },
      "source": [
        "\n",
        "\n",
        "### Given the X numpy matrix, create a new numpy matrix with the same shape and type as X, filled with sevens."
      ]
    },
    {
      "cell_type": "code",
      "execution_count": 287,
      "metadata": {
        "id": "X3JGuAbqHnY_"
      },
      "outputs": [
        {
          "data": {
            "text/plain": [
              "array([[7, 7, 7, 7],\n",
              "       [7, 7, 7, 7],\n",
              "       [7, 7, 7, 7],\n",
              "       [7, 7, 7, 7]])"
            ]
          },
          "execution_count": 287,
          "metadata": {},
          "output_type": "execute_result"
        }
      ],
      "source": [
        "# your code goes here\r\n",
        "X = np.full((4,4),5)\r\n",
        "np.full_like(X,7)\r\n"
      ]
    },
    {
      "cell_type": "markdown",
      "metadata": {
        "id": "hbN5I-YZHnZA"
      },
      "source": [
        "\n",
        "\n",
        "### Create a 3*3 identity numpy matrix with ones on the diagonal and zeros elsewhere."
      ]
    },
    {
      "cell_type": "code",
      "execution_count": 288,
      "metadata": {
        "id": "a3ET5xPJHnZB"
      },
      "outputs": [
        {
          "data": {
            "text/plain": [
              "array([[1., 0., 0.],\n",
              "       [0., 1., 0.],\n",
              "       [0., 0., 1.]])"
            ]
          },
          "execution_count": 288,
          "metadata": {},
          "output_type": "execute_result"
        }
      ],
      "source": [
        "# your code goes here\r\n",
        "np.identity(3)"
      ]
    },
    {
      "cell_type": "markdown",
      "metadata": {
        "id": "7hZ5hlVJHnZB"
      },
      "source": [
        "\n",
        "\n",
        "### Create a numpy array, filled with 3 random integer values between 1 and 10."
      ]
    },
    {
      "cell_type": "code",
      "execution_count": 289,
      "metadata": {
        "id": "5n18AcZIHnZC"
      },
      "outputs": [
        {
          "data": {
            "text/plain": [
              "array([6, 8, 4])"
            ]
          },
          "execution_count": 289,
          "metadata": {},
          "output_type": "execute_result"
        }
      ],
      "source": [
        "# your code goes here\r\n",
        "np.random.randint(1,10,3)\r\n"
      ]
    },
    {
      "cell_type": "markdown",
      "metadata": {
        "id": "Kmk6cDC8HnZC"
      },
      "source": [
        "\n",
        "\n",
        "### Create a 3\\*3\\*3 numpy matrix, filled with random float values."
      ]
    },
    {
      "cell_type": "code",
      "execution_count": 290,
      "metadata": {
        "id": "kyNO16eNHnZD"
      },
      "outputs": [
        {
          "data": {
            "text/plain": [
              "array([[[0.47679419, 0.36075931, 0.46390992],\n",
              "        [0.49759745, 0.82745116, 0.66852269],\n",
              "        [0.52819597, 0.11896201, 0.49053342]],\n",
              "\n",
              "       [[0.04968979, 0.54864777, 0.62379925],\n",
              "        [0.80564992, 0.14756806, 0.60643372],\n",
              "        [0.25553793, 0.43852945, 0.81191315]],\n",
              "\n",
              "       [[0.50645887, 0.45472787, 0.85761669],\n",
              "        [0.37650576, 0.07842996, 0.35036106],\n",
              "        [0.09986129, 0.34625472, 0.02403748]]])"
            ]
          },
          "execution_count": 290,
          "metadata": {},
          "output_type": "execute_result"
        }
      ],
      "source": [
        "# your code goes here\r\n",
        "np.random.rand(3,3,3)"
      ]
    },
    {
      "cell_type": "markdown",
      "metadata": {
        "id": "-OSWUwp6HnZD"
      },
      "source": [
        "\n",
        "\n",
        "### Given the X python list convert it to an Y numpy array"
      ]
    },
    {
      "cell_type": "code",
      "execution_count": 291,
      "metadata": {
        "id": "8pfKTouMHnZD"
      },
      "outputs": [
        {
          "data": {
            "text/plain": [
              "array([ 1,  5,  6,  8, 10,  4])"
            ]
          },
          "execution_count": 291,
          "metadata": {},
          "output_type": "execute_result"
        }
      ],
      "source": [
        "# your code goes here\r\n",
        "x = [1,5,6,8,10,4]\r\n",
        "np.array(x)\r\n"
      ]
    },
    {
      "cell_type": "markdown",
      "metadata": {
        "id": "WABw14rNHnZD"
      },
      "source": [
        "\n",
        "\n",
        "### Given the X numpy array, make a copy and store it on Y."
      ]
    },
    {
      "cell_type": "code",
      "execution_count": 292,
      "metadata": {
        "id": "zmcql2y8HnZE"
      },
      "outputs": [
        {
          "name": "stdout",
          "output_type": "stream",
          "text": [
            "[ 1  5  6  8 10  4]\n"
          ]
        }
      ],
      "source": [
        "# your code goes here\r\n",
        "x = np.array([1,5,6,8,10,4] )\r\n",
        "y = np.copy(x)\r\n",
        "print(y)\r\n"
      ]
    },
    {
      "cell_type": "markdown",
      "metadata": {
        "id": "eTKj2YuiHnZE"
      },
      "source": [
        "\n",
        "\n",
        "### Create a numpy array with numbers from 1 to 10"
      ]
    },
    {
      "cell_type": "code",
      "execution_count": 293,
      "metadata": {
        "id": "03zkkjDxHnZE"
      },
      "outputs": [
        {
          "data": {
            "text/plain": [
              "array([ 1,  2,  3,  4,  5,  6,  7,  8,  9, 10])"
            ]
          },
          "execution_count": 293,
          "metadata": {},
          "output_type": "execute_result"
        }
      ],
      "source": [
        "# your code goes here\r\n",
        "\r\n",
        "np.array(range(1,11))\r\n"
      ]
    },
    {
      "cell_type": "markdown",
      "metadata": {
        "id": "hxZLhv5QHnZE"
      },
      "source": [
        "\n",
        "\n",
        "### Create a numpy array with the odd numbers between 1 to 10"
      ]
    },
    {
      "cell_type": "code",
      "execution_count": 353,
      "metadata": {
        "id": "5yXS3n-AHnZF"
      },
      "outputs": [
        {
          "data": {
            "text/plain": [
              "array([0, 2, 4, 6, 8])"
            ]
          },
          "execution_count": 353,
          "metadata": {},
          "output_type": "execute_result"
        }
      ],
      "source": [
        "# your code goes here\r\n",
        "np.array(range(0,10,2))\r\n"
      ]
    },
    {
      "cell_type": "markdown",
      "metadata": {
        "id": "RvGHRuQIHnZF"
      },
      "source": [
        "\n",
        "\n",
        "### Create a 3*3 numpy matrix, filled with values ranging from 0 to 8"
      ]
    },
    {
      "cell_type": "code",
      "execution_count": 295,
      "metadata": {
        "id": "5N3ueNG3HnZF"
      },
      "outputs": [
        {
          "data": {
            "text/plain": [
              "array([[0, 1, 2],\n",
              "       [3, 4, 5],\n",
              "       [6, 7, 8]])"
            ]
          },
          "execution_count": 295,
          "metadata": {},
          "output_type": "execute_result"
        }
      ],
      "source": [
        "# your code goes here\r\n",
        "np.arange(0,9).reshape(3,3)\r\n"
      ]
    },
    {
      "cell_type": "markdown",
      "metadata": {
        "id": "58YyO3SkHnZG"
      },
      "source": [
        "\n",
        "\n",
        "### Show the memory size of the given Z numpy matrix"
      ]
    },
    {
      "cell_type": "code",
      "execution_count": 296,
      "metadata": {
        "id": "gnbtSzkLHnZG"
      },
      "outputs": [
        {
          "data": {
            "text/plain": [
              "36"
            ]
          },
          "execution_count": 296,
          "metadata": {},
          "output_type": "execute_result"
        }
      ],
      "source": [
        "# your code goes here\r\n",
        "z = np.arange(0,9).reshape(3,3)\r\n",
        "\r\n",
        "z.nbytes\r\n",
        "\r\n"
      ]
    },
    {
      "cell_type": "markdown",
      "metadata": {
        "id": "_vOseAiRHnZG"
      },
      "source": [
        "![purple-divider](https://user-images.githubusercontent.com/7065401/52071927-c1cd7100-2562-11e9-908a-dde91ba14e59.png)\n",
        "\n",
        "## Array indexation\n"
      ]
    },
    {
      "cell_type": "markdown",
      "metadata": {
        "id": "H8a-Du6dHnZH"
      },
      "source": [
        "### Given the X numpy array, show it's first element"
      ]
    },
    {
      "cell_type": "code",
      "execution_count": 297,
      "metadata": {
        "id": "IQLYCAM-HnZH"
      },
      "outputs": [
        {
          "data": {
            "text/plain": [
              "1"
            ]
          },
          "execution_count": 297,
          "metadata": {},
          "output_type": "execute_result"
        }
      ],
      "source": [
        "# your code goes here\r\n",
        "x= np.array([1, 3, 5, 7, 9])\r\n",
        "x[0]\r\n"
      ]
    },
    {
      "cell_type": "markdown",
      "metadata": {
        "id": "6gndtKOdHnZH"
      },
      "source": [
        "\n",
        "\n",
        "### Given the X numpy array, show it's last element"
      ]
    },
    {
      "cell_type": "code",
      "execution_count": 354,
      "metadata": {
        "id": "Z2IfwSv_HnZH"
      },
      "outputs": [
        {
          "data": {
            "text/plain": [
              "9"
            ]
          },
          "execution_count": 354,
          "metadata": {},
          "output_type": "execute_result"
        }
      ],
      "source": [
        "# your code goes here\r\n",
        "x= np.array([1, 3, 5, 7, 9])\r\n",
        "x[-1]\r\n",
        "\r\n"
      ]
    },
    {
      "cell_type": "markdown",
      "metadata": {
        "id": "YIkveqx4HnZI"
      },
      "source": [
        "\n",
        "\n",
        "### Given the X numpy array, show it's first three elements"
      ]
    },
    {
      "cell_type": "code",
      "execution_count": 355,
      "metadata": {
        "id": "MUYZhQKwHnZI"
      },
      "outputs": [
        {
          "data": {
            "text/plain": [
              "array([1, 3, 5])"
            ]
          },
          "execution_count": 355,
          "metadata": {},
          "output_type": "execute_result"
        }
      ],
      "source": [
        "# your code goes here\r\n",
        "x= np.array([1, 3, 5, 7, 9])\r\n",
        "x[:3]\r\n"
      ]
    },
    {
      "cell_type": "markdown",
      "metadata": {
        "id": "E9cJQGSZHnZI"
      },
      "source": [
        "\n",
        "\n",
        "### Create a numpy array with numbers from 1 to 10, in descending order."
      ]
    },
    {
      "cell_type": "code",
      "execution_count": 300,
      "metadata": {
        "id": "Yv4OsaDeHnZJ"
      },
      "outputs": [
        {
          "data": {
            "text/plain": [
              "array([10,  9,  8,  7,  6,  5,  4,  3,  2,  1])"
            ]
          },
          "execution_count": 300,
          "metadata": {},
          "output_type": "execute_result"
        }
      ],
      "source": [
        "# your code goes here\r\n",
        "np.array(range(10,0,-1))\r\n"
      ]
    },
    {
      "cell_type": "markdown",
      "metadata": {
        "id": "AWtUF9yVHnZJ"
      },
      "source": [
        "\n",
        "\n",
        "### Given the X numpy array, show all middle elements"
      ]
    },
    {
      "cell_type": "code",
      "execution_count": 301,
      "metadata": {
        "id": "seJ8yvHrHnZJ"
      },
      "outputs": [
        {
          "data": {
            "text/plain": [
              "array([3, 5, 7])"
            ]
          },
          "execution_count": 301,
          "metadata": {},
          "output_type": "execute_result"
        }
      ],
      "source": [
        "# your code goes here\r\n",
        "x= np.array([1, 3, 5, 7, 9])\r\n",
        "x[1:len(x)-1]\r\n"
      ]
    },
    {
      "cell_type": "markdown",
      "metadata": {
        "id": "dbdvRa5SHnZK"
      },
      "source": [
        "\n",
        "\n",
        "### Given the X numpy array, show the elements in reverse position"
      ]
    },
    {
      "cell_type": "code",
      "execution_count": 302,
      "metadata": {
        "id": "OdzLu2-eHnZK"
      },
      "outputs": [
        {
          "data": {
            "text/plain": [
              "array([9, 7, 5, 3, 1])"
            ]
          },
          "execution_count": 302,
          "metadata": {},
          "output_type": "execute_result"
        }
      ],
      "source": [
        "# your code goes here\r\n",
        "x= np.array([1, 3, 5, 7, 9])\r\n",
        "x[::-1]\r\n"
      ]
    },
    {
      "cell_type": "markdown",
      "metadata": {
        "id": "WihbQTLoHnZL"
      },
      "source": [
        "\n",
        "\n",
        "### Given the X numpy array, show the elements in an odd position"
      ]
    },
    {
      "cell_type": "code",
      "execution_count": 303,
      "metadata": {
        "id": "zJmSUi2bHnZL"
      },
      "outputs": [
        {
          "data": {
            "text/plain": [
              "array([3, 7])"
            ]
          },
          "execution_count": 303,
          "metadata": {},
          "output_type": "execute_result"
        }
      ],
      "source": [
        "# your code goes here\r\n",
        "x= np.array([1, 3, 5, 7, 9])\r\n",
        "x[1::2]\r\n"
      ]
    },
    {
      "cell_type": "markdown",
      "metadata": {
        "id": "A5o9a7fCHnZM"
      },
      "source": [
        "\n",
        "\n",
        "### Given the X numpy matrix, show the first row elements"
      ]
    },
    {
      "cell_type": "code",
      "execution_count": 356,
      "metadata": {
        "id": "vOLmfZucHnZM"
      },
      "outputs": [
        {
          "data": {
            "text/plain": [
              "array([1, 3])"
            ]
          },
          "execution_count": 356,
          "metadata": {},
          "output_type": "execute_result"
        }
      ],
      "source": [
        "# your code goes here\r\n",
        "x= np.array([[1, 3], [5, 7],[2, 9]])\r\n",
        "\r\n",
        "x[0]\r\n"
      ]
    },
    {
      "cell_type": "markdown",
      "metadata": {
        "id": "Q2T66RgSHnZN"
      },
      "source": [
        "\n",
        "\n",
        "### Given the X numpy matrix, show the last row elements"
      ]
    },
    {
      "cell_type": "code",
      "execution_count": 305,
      "metadata": {
        "id": "4ktpmZIeHnZN"
      },
      "outputs": [
        {
          "data": {
            "text/plain": [
              "array([3, 7, 9])"
            ]
          },
          "execution_count": 305,
          "metadata": {},
          "output_type": "execute_result"
        }
      ],
      "source": [
        "# your code goes here\r\n",
        "x= np.array([[1, 3], [5, 7],[2, 9]])\r\n",
        "\r\n",
        "x[:,-1]\r\n"
      ]
    },
    {
      "cell_type": "markdown",
      "metadata": {
        "id": "OIywmCbFHnZN"
      },
      "source": [
        "\n",
        "\n",
        "### Given the X numpy matrix, show the first element on first row"
      ]
    },
    {
      "cell_type": "code",
      "execution_count": 306,
      "metadata": {
        "id": "d_CShw8ZHnZN"
      },
      "outputs": [
        {
          "data": {
            "text/plain": [
              "1"
            ]
          },
          "execution_count": 306,
          "metadata": {},
          "output_type": "execute_result"
        }
      ],
      "source": [
        "# your code goes here\r\n",
        "x= np.array([[1, 3], [5, 7],[2, 9]])\r\n",
        "\r\n",
        "x[0,0]\r\n"
      ]
    },
    {
      "cell_type": "markdown",
      "metadata": {
        "id": "cjQvWWfmHnZO"
      },
      "source": [
        "\n",
        "\n",
        "### Given the X numpy matrix, show the last element on last row"
      ]
    },
    {
      "cell_type": "code",
      "execution_count": 307,
      "metadata": {
        "id": "Ainz4U3pHnZO"
      },
      "outputs": [
        {
          "data": {
            "text/plain": [
              "9"
            ]
          },
          "execution_count": 307,
          "metadata": {},
          "output_type": "execute_result"
        }
      ],
      "source": [
        "# your code goes here\r\n",
        "x= np.array([[1, 3], [5, 7],[2, 9]])\r\n",
        "\r\n",
        "x[-1,-1]\r\n"
      ]
    },
    {
      "cell_type": "markdown",
      "metadata": {
        "id": "9IBWFuXiHnZO"
      },
      "source": [
        "\n",
        "\n",
        "### Given the X numpy matrix, show the middle row elements"
      ]
    },
    {
      "cell_type": "code",
      "execution_count": 308,
      "metadata": {
        "id": "UHw5Ogx0HnZO"
      },
      "outputs": [
        {
          "data": {
            "text/plain": [
              "array([ 6,  5, 15])"
            ]
          },
          "execution_count": 308,
          "metadata": {},
          "output_type": "execute_result"
        }
      ],
      "source": [
        "# your code goes here\r\n",
        "x= np.array([[1,6,3], [5,5, 7],[2,15, 9]])\r\n",
        "\r\n",
        "x[: , int(x.shape[1]/2)]\r\n"
      ]
    },
    {
      "cell_type": "markdown",
      "metadata": {
        "id": "aW5fjRhRHnZP"
      },
      "source": [
        "\n",
        "\n",
        "### Given the X numpy matrix, show the first two elements on the first two rows"
      ]
    },
    {
      "cell_type": "code",
      "execution_count": 309,
      "metadata": {
        "id": "xfPF2soOHnZP"
      },
      "outputs": [
        {
          "data": {
            "text/plain": [
              "array([[1, 6],\n",
              "       [5, 5]])"
            ]
          },
          "execution_count": 309,
          "metadata": {},
          "output_type": "execute_result"
        }
      ],
      "source": [
        "# your code goes here\r\n",
        "x= np.array([[1,6,3], [5,5, 7],[2,15, 9]])\r\n",
        "\r\n",
        "x[0:2 , 0:2]\r\n",
        "\r\n"
      ]
    },
    {
      "cell_type": "markdown",
      "metadata": {
        "id": "SiYapLUfHnZP"
      },
      "source": [
        "\n",
        "\n",
        "### Given the X numpy matrix, show the last two elements on the last two rows"
      ]
    },
    {
      "cell_type": "code",
      "execution_count": 310,
      "metadata": {
        "id": "a2llfffdHnZQ"
      },
      "outputs": [
        {
          "data": {
            "text/plain": [
              "array([[ 5,  7],\n",
              "       [15,  9]])"
            ]
          },
          "execution_count": 310,
          "metadata": {},
          "output_type": "execute_result"
        }
      ],
      "source": [
        "# your code goes here\r\n",
        "x= np.array([[1,6,3], [5,5, 7],[2,15, 9]])\r\n",
        "\r\n",
        "x[-2:: , -2:: ]\r\n"
      ]
    },
    {
      "cell_type": "markdown",
      "metadata": {
        "id": "J-TxZYRdHnZQ"
      },
      "source": [
        "![purple-divider](https://user-images.githubusercontent.com/7065401/52071927-c1cd7100-2562-11e9-908a-dde91ba14e59.png)\n",
        "\n",
        "## Array manipulation\n"
      ]
    },
    {
      "cell_type": "markdown",
      "metadata": {
        "id": "_WTALQ7DHnZR"
      },
      "source": [
        "### Convert the given integer numpy array to float"
      ]
    },
    {
      "cell_type": "code",
      "execution_count": 311,
      "metadata": {
        "id": "xJup17YXHnZR"
      },
      "outputs": [
        {
          "data": {
            "text/plain": [
              "array([[ 1.,  6.,  3.,  5.,  5.,  7.,  2., 15.,  9.]])"
            ]
          },
          "execution_count": 311,
          "metadata": {},
          "output_type": "execute_result"
        }
      ],
      "source": [
        "# your code goes here\r\n",
        "x = np.array([[1,6,3,5,5, 7,2,15, 9]])\r\n",
        "x.astype(float)"
      ]
    },
    {
      "cell_type": "markdown",
      "metadata": {
        "id": "Z6bMxHKaHnZS"
      },
      "source": [
        "\n",
        "\n",
        "### Reverse the given numpy array (first element becomes last)"
      ]
    },
    {
      "cell_type": "code",
      "execution_count": 312,
      "metadata": {
        "id": "OJOn6iRGHnZS"
      },
      "outputs": [
        {
          "data": {
            "text/plain": [
              "array([ 9, 15,  2,  7,  5,  5,  3,  6,  1])"
            ]
          },
          "execution_count": 312,
          "metadata": {},
          "output_type": "execute_result"
        }
      ],
      "source": [
        "# your code goes here\r\n",
        "x = np.array([1,6,3,5,5, 7,2,15, 9])\r\n",
        "np.flip(x)\r\n",
        "\r\n"
      ]
    },
    {
      "cell_type": "markdown",
      "metadata": {
        "id": "5JUiEl2NHnZS"
      },
      "source": [
        "\n",
        "\n",
        "### Order (sort) the given numpy array"
      ]
    },
    {
      "cell_type": "code",
      "execution_count": 313,
      "metadata": {
        "id": "NYwfYL2tHnZT"
      },
      "outputs": [
        {
          "data": {
            "text/plain": [
              "array([ 1,  2,  3,  5,  5,  6,  7,  9, 15])"
            ]
          },
          "execution_count": 313,
          "metadata": {},
          "output_type": "execute_result"
        }
      ],
      "source": [
        "# your code goes here\r\n",
        "x = np.array([1,6,3,5,5, 7,2,15, 9])\r\n",
        "#sorted(x)\r\n",
        "np.sort(x)\r\n"
      ]
    },
    {
      "cell_type": "markdown",
      "metadata": {
        "id": "ZRKfXIBuHnZT"
      },
      "source": [
        "\n",
        "\n",
        "### Given the X numpy array, set the fifth element equal to 1"
      ]
    },
    {
      "cell_type": "code",
      "execution_count": 314,
      "metadata": {
        "id": "OPPtdD_sHnZU"
      },
      "outputs": [
        {
          "data": {
            "text/plain": [
              "array([ 1,  6,  3,  5,  1,  7,  2, 15,  9])"
            ]
          },
          "execution_count": 314,
          "metadata": {},
          "output_type": "execute_result"
        }
      ],
      "source": [
        "# your code goes here\r\n",
        "x = np.array([1,6,3,5,5, 7,2,15, 9])\r\n",
        "x[4] = 1\r\n",
        "\r\n",
        "x\r\n"
      ]
    },
    {
      "cell_type": "markdown",
      "metadata": {
        "id": "uwZU_3N-HnZU"
      },
      "source": [
        "\n",
        "\n",
        "### Given the X numpy array, change the 50 with a 40"
      ]
    },
    {
      "cell_type": "code",
      "execution_count": 315,
      "metadata": {
        "id": "Z2MBhbFgHnZU"
      },
      "outputs": [
        {
          "data": {
            "text/plain": [
              "array([ 1,  6,  3,  5, 40,  7,  2, 15, 40])"
            ]
          },
          "execution_count": 315,
          "metadata": {},
          "output_type": "execute_result"
        }
      ],
      "source": [
        "# your code goes here\r\n",
        "\r\n",
        "x = np.array([1,6,3,5,50, 7,2,15, 50])\r\n",
        "x[np.where(x==50)] = 40\r\n",
        "x"
      ]
    },
    {
      "cell_type": "markdown",
      "metadata": {
        "id": "An13osDlHnZV"
      },
      "source": [
        "\n",
        "### Given the X numpy matrix, change the last row with all 1"
      ]
    },
    {
      "cell_type": "code",
      "execution_count": 316,
      "metadata": {
        "id": "dSEEx87wHnZV"
      },
      "outputs": [
        {
          "data": {
            "text/plain": [
              "array([[ 1,  6,  1],\n",
              "       [ 5,  5,  1],\n",
              "       [ 2, 15,  1]])"
            ]
          },
          "execution_count": 316,
          "metadata": {},
          "output_type": "execute_result"
        }
      ],
      "source": [
        "# your code goes here\r\n",
        "x= np.array([[1,6,3], [5,5, 7],[2,15, 9]])\r\n",
        "\r\n",
        "x[: , -1]=1\r\n",
        "x\r\n"
      ]
    },
    {
      "cell_type": "markdown",
      "metadata": {
        "id": "pX5feCZmHnZV"
      },
      "source": [
        "\n",
        "### Given the X numpy matrix, change the last item on the last row with a 0"
      ]
    },
    {
      "cell_type": "code",
      "execution_count": 317,
      "metadata": {
        "id": "2lseJYp6HnZV"
      },
      "outputs": [
        {
          "data": {
            "text/plain": [
              "array([[ 1,  6,  3],\n",
              "       [ 5,  5,  7],\n",
              "       [ 2, 15,  0]])"
            ]
          },
          "execution_count": 317,
          "metadata": {},
          "output_type": "execute_result"
        }
      ],
      "source": [
        "# your code goes here\r\n",
        "x= np.array([[1,6,3], [5,5, 7],[2,15, 9]])\r\n",
        "\r\n",
        "x[-1, -1]=0\r\n",
        "x\r\n"
      ]
    },
    {
      "cell_type": "markdown",
      "metadata": {
        "id": "pJ_Xo2iUHnZW"
      },
      "source": [
        "\n",
        "### Given the X numpy matrix, add 5 to every element"
      ]
    },
    {
      "cell_type": "code",
      "execution_count": 318,
      "metadata": {
        "id": "iAEwMz91HnZW"
      },
      "outputs": [
        {
          "data": {
            "text/plain": [
              "array([[ 6, 11,  8],\n",
              "       [10, 10, 12],\n",
              "       [ 7, 20, 14]])"
            ]
          },
          "execution_count": 318,
          "metadata": {},
          "output_type": "execute_result"
        }
      ],
      "source": [
        "# your code goes here\r\n",
        "x= np.array([[1,6,3], [5,5, 7],[2,15, 9]])\r\n",
        "\r\n",
        "np.add(x,5)\r\n",
        "\r\n",
        "x+5"
      ]
    },
    {
      "cell_type": "markdown",
      "metadata": {
        "id": "An8d-xg7HnZW"
      },
      "source": [
        "\n",
        "## Boolean arrays _(also called masks)_\n"
      ]
    },
    {
      "cell_type": "markdown",
      "metadata": {
        "id": "_xr7PyITHnZW"
      },
      "source": [
        "### Given the X numpy array, make a mask showing negative elements"
      ]
    },
    {
      "cell_type": "code",
      "execution_count": 319,
      "metadata": {
        "id": "gY1FoZe6HnZX"
      },
      "outputs": [
        {
          "data": {
            "text/plain": [
              "array([False, False,  True, False, False,  True, False,  True, False])"
            ]
          },
          "execution_count": 319,
          "metadata": {},
          "output_type": "execute_result"
        }
      ],
      "source": [
        "# your code goes here\r\n",
        "x = np.array([1,6,-3,5,50, -7,2,-15, 50])\r\n",
        "\r\n",
        "x<0\r\n",
        "\r\n",
        "\r\n",
        "\r\n"
      ]
    },
    {
      "cell_type": "markdown",
      "metadata": {
        "id": "o8i61n03HnZX"
      },
      "source": [
        "\n",
        "### Given the X numpy array, get the negative elements"
      ]
    },
    {
      "cell_type": "code",
      "execution_count": 383,
      "metadata": {
        "id": "JMGzgIvzHnZY"
      },
      "outputs": [
        {
          "name": "stdout",
          "output_type": "stream",
          "text": [
            "[ -3  -7 -15]\n"
          ]
        }
      ],
      "source": [
        "# your code goes here\r\n",
        "x = np.array([1,6,-3,5,50, -7,2,-15, 50])\r\n",
        "\r\n",
        "y= x<0\r\n",
        "print (x[y])"
      ]
    },
    {
      "cell_type": "markdown",
      "metadata": {
        "id": "6yK7EuRWHnZY"
      },
      "source": [
        "\n",
        "### Given the X numpy array, get numbers higher than 5"
      ]
    },
    {
      "cell_type": "code",
      "execution_count": 339,
      "metadata": {
        "id": "LlDKo3jVHnZY"
      },
      "outputs": [
        {
          "data": {
            "text/plain": [
              "array([ 6,  9, 50])"
            ]
          },
          "execution_count": 339,
          "metadata": {},
          "output_type": "execute_result"
        }
      ],
      "source": [
        "# your code goes here\r\n",
        "x = np.array([1,6,-3,5,9, -7,2,-15, 50])\r\n",
        "\r\n",
        "x[np.where(x>5)]\r\n"
      ]
    },
    {
      "cell_type": "markdown",
      "metadata": {
        "id": "fZt60Wp_HnZZ"
      },
      "source": [
        "\n",
        "### Given the X numpy array, get numbers higher than the elements mean"
      ]
    },
    {
      "cell_type": "code",
      "execution_count": 340,
      "metadata": {
        "id": "2YE_HBzkHnZZ"
      },
      "outputs": [
        {
          "data": {
            "text/plain": [
              "array([ 6,  9, 50])"
            ]
          },
          "execution_count": 340,
          "metadata": {},
          "output_type": "execute_result"
        }
      ],
      "source": [
        "# your code goes here\r\n",
        "x = np.array([1,6,-3,5,9, -7,2,-15, 50])\r\n",
        "x[np.where(x>np.mean(x))]\r\n",
        "\r\n"
      ]
    },
    {
      "cell_type": "markdown",
      "metadata": {
        "id": "pKHcDK8RHnZZ"
      },
      "source": [
        "\n",
        "### Given the X numpy array, get numbers equal to 2 or 10"
      ]
    },
    {
      "cell_type": "code",
      "execution_count": 350,
      "metadata": {
        "id": "4k5YwZACHnZZ"
      },
      "outputs": [
        {
          "data": {
            "text/plain": [
              "array([ 2, 10])"
            ]
          },
          "execution_count": 350,
          "metadata": {},
          "output_type": "execute_result"
        }
      ],
      "source": [
        "# your code goes here\r\n",
        "\r\n",
        "x = np.array([1,6,-3,5,9, -7,2,-15, 10])\r\n",
        "x[np.where((x == 2) |( x == 10))]"
      ]
    },
    {
      "cell_type": "markdown",
      "metadata": {
        "id": "l3pwRmYMHnZa"
      },
      "source": [
        "\n",
        "## Logic functions\n"
      ]
    },
    {
      "cell_type": "markdown",
      "metadata": {
        "id": "VBizkIxKHnZa"
      },
      "source": [
        "### Given the X numpy array, return True if none of its elements is zero"
      ]
    },
    {
      "cell_type": "code",
      "execution_count": 352,
      "metadata": {
        "id": "ELsWOPTMHnZa"
      },
      "outputs": [],
      "source": [
        "# your code goes here\r\n",
        "x = np.array([1,6,-3,5,9, -7,2,-15, 10])\r\n",
        "\r\n",
        "\r\n"
      ]
    },
    {
      "cell_type": "markdown",
      "metadata": {
        "id": "0pNMtKC2HnZb"
      },
      "source": [
        "\n",
        "## Summary statistics"
      ]
    },
    {
      "cell_type": "markdown",
      "metadata": {
        "id": "sIMD7lIfHnZc"
      },
      "source": [
        "### Given the X numpy array, show the sum of its elements"
      ]
    },
    {
      "cell_type": "code",
      "execution_count": 325,
      "metadata": {
        "id": "Qdp3Ww0JHnZc"
      },
      "outputs": [],
      "source": [
        "# your code goes here\n"
      ]
    },
    {
      "cell_type": "markdown",
      "metadata": {
        "id": "JpXwIX3THnZc"
      },
      "source": [
        "\n",
        "### Given the X numpy array, show the mean value of its elements"
      ]
    },
    {
      "cell_type": "code",
      "execution_count": 326,
      "metadata": {
        "id": "bYLDvSrnHnZc"
      },
      "outputs": [],
      "source": [
        "# your code goes here\n"
      ]
    },
    {
      "cell_type": "markdown",
      "metadata": {
        "id": "m0IkNO2KHnZd"
      },
      "source": [
        "\n",
        "### Given the X numpy matrix, show the sum of its columns"
      ]
    },
    {
      "cell_type": "code",
      "execution_count": 327,
      "metadata": {
        "id": "ce45G8geHnZd"
      },
      "outputs": [],
      "source": [
        "# your code goes here\n"
      ]
    },
    {
      "cell_type": "markdown",
      "metadata": {
        "id": "XQNyj7hgHnZd"
      },
      "source": [
        "\n",
        "### Given the X numpy matrix, show the mean value of its rows"
      ]
    },
    {
      "cell_type": "code",
      "execution_count": 328,
      "metadata": {
        "id": "rgT3MRhfHnZd"
      },
      "outputs": [],
      "source": [
        "# your code goes here\n"
      ]
    },
    {
      "cell_type": "markdown",
      "metadata": {
        "id": "tE5v9xRsHnZe"
      },
      "source": [
        "### Given the X numpy array, show the max value of its elements"
      ]
    },
    {
      "cell_type": "markdown",
      "metadata": {
        "id": "qdvFtNbVfZlk"
      },
      "source": [
        "![purple-divider](https://user-images.githubusercontent.com/7065401/52071927-c1cd7100-2562-11e9-908a-dde91ba14e59.png)\n",
        "\n"
      ]
    },
    {
      "cell_type": "markdown",
      "metadata": {
        "id": "K6Gga-cweNJO"
      },
      "source": [
        "# Answer The following questions!"
      ]
    },
    {
      "cell_type": "code",
      "execution_count": 358,
      "metadata": {
        "id": "iLFpFLhbHnZe"
      },
      "outputs": [],
      "source": [
        "# your code goes here\n",
        "import seaborn as sns"
      ]
    },
    {
      "cell_type": "code",
      "execution_count": 359,
      "metadata": {
        "colab": {
          "base_uri": "https://localhost:8080/"
        },
        "id": "sxKouX1nfr55",
        "outputId": "356ab7f8-ce73-4c8c-9a46-1dede4897dd1"
      },
      "outputs": [
        {
          "data": {
            "text/plain": [
              "['anagrams',\n",
              " 'anscombe',\n",
              " 'attention',\n",
              " 'brain_networks',\n",
              " 'car_crashes',\n",
              " 'diamonds',\n",
              " 'dots',\n",
              " 'exercise',\n",
              " 'flights',\n",
              " 'fmri',\n",
              " 'gammas',\n",
              " 'geyser',\n",
              " 'iris',\n",
              " 'mpg',\n",
              " 'penguins',\n",
              " 'planets',\n",
              " 'tips',\n",
              " 'titanic']"
            ]
          },
          "execution_count": 359,
          "metadata": {},
          "output_type": "execute_result"
        }
      ],
      "source": [
        "\r\n",
        "sns.get_dataset_names()"
      ]
    },
    {
      "cell_type": "code",
      "execution_count": 376,
      "metadata": {
        "colab": {
          "base_uri": "https://localhost:8080/",
          "height": 676
        },
        "id": "-UERzQs3gQ8-",
        "outputId": "324a0e60-48d9-4251-c538-cb58bb637018"
      },
      "outputs": [
        {
          "data": {
            "text/html": [
              "<div>\n",
              "<style scoped>\n",
              "    .dataframe tbody tr th:only-of-type {\n",
              "        vertical-align: middle;\n",
              "    }\n",
              "\n",
              "    .dataframe tbody tr th {\n",
              "        vertical-align: top;\n",
              "    }\n",
              "\n",
              "    .dataframe thead th {\n",
              "        text-align: right;\n",
              "    }\n",
              "</style>\n",
              "<table border=\"1\" class=\"dataframe\">\n",
              "  <thead>\n",
              "    <tr style=\"text-align: right;\">\n",
              "      <th></th>\n",
              "      <th>survived</th>\n",
              "      <th>pclass</th>\n",
              "      <th>sex</th>\n",
              "      <th>age</th>\n",
              "      <th>sibsp</th>\n",
              "      <th>parch</th>\n",
              "      <th>fare</th>\n",
              "      <th>embarked</th>\n",
              "      <th>class</th>\n",
              "      <th>who</th>\n",
              "      <th>adult_male</th>\n",
              "      <th>deck</th>\n",
              "      <th>embark_town</th>\n",
              "      <th>alive</th>\n",
              "      <th>alone</th>\n",
              "    </tr>\n",
              "  </thead>\n",
              "  <tbody>\n",
              "    <tr>\n",
              "      <th>0</th>\n",
              "      <td>0</td>\n",
              "      <td>3</td>\n",
              "      <td>male</td>\n",
              "      <td>22.0</td>\n",
              "      <td>1</td>\n",
              "      <td>0</td>\n",
              "      <td>7.2500</td>\n",
              "      <td>S</td>\n",
              "      <td>Third</td>\n",
              "      <td>man</td>\n",
              "      <td>True</td>\n",
              "      <td>NaN</td>\n",
              "      <td>Southampton</td>\n",
              "      <td>no</td>\n",
              "      <td>False</td>\n",
              "    </tr>\n",
              "    <tr>\n",
              "      <th>1</th>\n",
              "      <td>1</td>\n",
              "      <td>1</td>\n",
              "      <td>female</td>\n",
              "      <td>38.0</td>\n",
              "      <td>1</td>\n",
              "      <td>0</td>\n",
              "      <td>71.2833</td>\n",
              "      <td>C</td>\n",
              "      <td>First</td>\n",
              "      <td>woman</td>\n",
              "      <td>False</td>\n",
              "      <td>C</td>\n",
              "      <td>Cherbourg</td>\n",
              "      <td>yes</td>\n",
              "      <td>False</td>\n",
              "    </tr>\n",
              "    <tr>\n",
              "      <th>2</th>\n",
              "      <td>1</td>\n",
              "      <td>3</td>\n",
              "      <td>female</td>\n",
              "      <td>26.0</td>\n",
              "      <td>0</td>\n",
              "      <td>0</td>\n",
              "      <td>7.9250</td>\n",
              "      <td>S</td>\n",
              "      <td>Third</td>\n",
              "      <td>woman</td>\n",
              "      <td>False</td>\n",
              "      <td>NaN</td>\n",
              "      <td>Southampton</td>\n",
              "      <td>yes</td>\n",
              "      <td>True</td>\n",
              "    </tr>\n",
              "    <tr>\n",
              "      <th>3</th>\n",
              "      <td>1</td>\n",
              "      <td>1</td>\n",
              "      <td>female</td>\n",
              "      <td>35.0</td>\n",
              "      <td>1</td>\n",
              "      <td>0</td>\n",
              "      <td>53.1000</td>\n",
              "      <td>S</td>\n",
              "      <td>First</td>\n",
              "      <td>woman</td>\n",
              "      <td>False</td>\n",
              "      <td>C</td>\n",
              "      <td>Southampton</td>\n",
              "      <td>yes</td>\n",
              "      <td>False</td>\n",
              "    </tr>\n",
              "    <tr>\n",
              "      <th>4</th>\n",
              "      <td>0</td>\n",
              "      <td>3</td>\n",
              "      <td>male</td>\n",
              "      <td>35.0</td>\n",
              "      <td>0</td>\n",
              "      <td>0</td>\n",
              "      <td>8.0500</td>\n",
              "      <td>S</td>\n",
              "      <td>Third</td>\n",
              "      <td>man</td>\n",
              "      <td>True</td>\n",
              "      <td>NaN</td>\n",
              "      <td>Southampton</td>\n",
              "      <td>no</td>\n",
              "      <td>True</td>\n",
              "    </tr>\n",
              "    <tr>\n",
              "      <th>5</th>\n",
              "      <td>0</td>\n",
              "      <td>3</td>\n",
              "      <td>male</td>\n",
              "      <td>NaN</td>\n",
              "      <td>0</td>\n",
              "      <td>0</td>\n",
              "      <td>8.4583</td>\n",
              "      <td>Q</td>\n",
              "      <td>Third</td>\n",
              "      <td>man</td>\n",
              "      <td>True</td>\n",
              "      <td>NaN</td>\n",
              "      <td>Queenstown</td>\n",
              "      <td>no</td>\n",
              "      <td>True</td>\n",
              "    </tr>\n",
              "    <tr>\n",
              "      <th>6</th>\n",
              "      <td>0</td>\n",
              "      <td>1</td>\n",
              "      <td>male</td>\n",
              "      <td>54.0</td>\n",
              "      <td>0</td>\n",
              "      <td>0</td>\n",
              "      <td>51.8625</td>\n",
              "      <td>S</td>\n",
              "      <td>First</td>\n",
              "      <td>man</td>\n",
              "      <td>True</td>\n",
              "      <td>E</td>\n",
              "      <td>Southampton</td>\n",
              "      <td>no</td>\n",
              "      <td>True</td>\n",
              "    </tr>\n",
              "    <tr>\n",
              "      <th>7</th>\n",
              "      <td>0</td>\n",
              "      <td>3</td>\n",
              "      <td>male</td>\n",
              "      <td>2.0</td>\n",
              "      <td>3</td>\n",
              "      <td>1</td>\n",
              "      <td>21.0750</td>\n",
              "      <td>S</td>\n",
              "      <td>Third</td>\n",
              "      <td>child</td>\n",
              "      <td>False</td>\n",
              "      <td>NaN</td>\n",
              "      <td>Southampton</td>\n",
              "      <td>no</td>\n",
              "      <td>False</td>\n",
              "    </tr>\n",
              "    <tr>\n",
              "      <th>8</th>\n",
              "      <td>1</td>\n",
              "      <td>3</td>\n",
              "      <td>female</td>\n",
              "      <td>27.0</td>\n",
              "      <td>0</td>\n",
              "      <td>2</td>\n",
              "      <td>11.1333</td>\n",
              "      <td>S</td>\n",
              "      <td>Third</td>\n",
              "      <td>woman</td>\n",
              "      <td>False</td>\n",
              "      <td>NaN</td>\n",
              "      <td>Southampton</td>\n",
              "      <td>yes</td>\n",
              "      <td>False</td>\n",
              "    </tr>\n",
              "    <tr>\n",
              "      <th>9</th>\n",
              "      <td>1</td>\n",
              "      <td>2</td>\n",
              "      <td>female</td>\n",
              "      <td>14.0</td>\n",
              "      <td>1</td>\n",
              "      <td>0</td>\n",
              "      <td>30.0708</td>\n",
              "      <td>C</td>\n",
              "      <td>Second</td>\n",
              "      <td>child</td>\n",
              "      <td>False</td>\n",
              "      <td>NaN</td>\n",
              "      <td>Cherbourg</td>\n",
              "      <td>yes</td>\n",
              "      <td>False</td>\n",
              "    </tr>\n",
              "    <tr>\n",
              "      <th>10</th>\n",
              "      <td>1</td>\n",
              "      <td>3</td>\n",
              "      <td>female</td>\n",
              "      <td>4.0</td>\n",
              "      <td>1</td>\n",
              "      <td>1</td>\n",
              "      <td>16.7000</td>\n",
              "      <td>S</td>\n",
              "      <td>Third</td>\n",
              "      <td>child</td>\n",
              "      <td>False</td>\n",
              "      <td>G</td>\n",
              "      <td>Southampton</td>\n",
              "      <td>yes</td>\n",
              "      <td>False</td>\n",
              "    </tr>\n",
              "    <tr>\n",
              "      <th>11</th>\n",
              "      <td>1</td>\n",
              "      <td>1</td>\n",
              "      <td>female</td>\n",
              "      <td>58.0</td>\n",
              "      <td>0</td>\n",
              "      <td>0</td>\n",
              "      <td>26.5500</td>\n",
              "      <td>S</td>\n",
              "      <td>First</td>\n",
              "      <td>woman</td>\n",
              "      <td>False</td>\n",
              "      <td>C</td>\n",
              "      <td>Southampton</td>\n",
              "      <td>yes</td>\n",
              "      <td>True</td>\n",
              "    </tr>\n",
              "    <tr>\n",
              "      <th>12</th>\n",
              "      <td>0</td>\n",
              "      <td>3</td>\n",
              "      <td>male</td>\n",
              "      <td>20.0</td>\n",
              "      <td>0</td>\n",
              "      <td>0</td>\n",
              "      <td>8.0500</td>\n",
              "      <td>S</td>\n",
              "      <td>Third</td>\n",
              "      <td>man</td>\n",
              "      <td>True</td>\n",
              "      <td>NaN</td>\n",
              "      <td>Southampton</td>\n",
              "      <td>no</td>\n",
              "      <td>True</td>\n",
              "    </tr>\n",
              "    <tr>\n",
              "      <th>13</th>\n",
              "      <td>0</td>\n",
              "      <td>3</td>\n",
              "      <td>male</td>\n",
              "      <td>39.0</td>\n",
              "      <td>1</td>\n",
              "      <td>5</td>\n",
              "      <td>31.2750</td>\n",
              "      <td>S</td>\n",
              "      <td>Third</td>\n",
              "      <td>man</td>\n",
              "      <td>True</td>\n",
              "      <td>NaN</td>\n",
              "      <td>Southampton</td>\n",
              "      <td>no</td>\n",
              "      <td>False</td>\n",
              "    </tr>\n",
              "    <tr>\n",
              "      <th>14</th>\n",
              "      <td>0</td>\n",
              "      <td>3</td>\n",
              "      <td>female</td>\n",
              "      <td>14.0</td>\n",
              "      <td>0</td>\n",
              "      <td>0</td>\n",
              "      <td>7.8542</td>\n",
              "      <td>S</td>\n",
              "      <td>Third</td>\n",
              "      <td>child</td>\n",
              "      <td>False</td>\n",
              "      <td>NaN</td>\n",
              "      <td>Southampton</td>\n",
              "      <td>no</td>\n",
              "      <td>True</td>\n",
              "    </tr>\n",
              "    <tr>\n",
              "      <th>15</th>\n",
              "      <td>1</td>\n",
              "      <td>2</td>\n",
              "      <td>female</td>\n",
              "      <td>55.0</td>\n",
              "      <td>0</td>\n",
              "      <td>0</td>\n",
              "      <td>16.0000</td>\n",
              "      <td>S</td>\n",
              "      <td>Second</td>\n",
              "      <td>woman</td>\n",
              "      <td>False</td>\n",
              "      <td>NaN</td>\n",
              "      <td>Southampton</td>\n",
              "      <td>yes</td>\n",
              "      <td>True</td>\n",
              "    </tr>\n",
              "    <tr>\n",
              "      <th>16</th>\n",
              "      <td>0</td>\n",
              "      <td>3</td>\n",
              "      <td>male</td>\n",
              "      <td>2.0</td>\n",
              "      <td>4</td>\n",
              "      <td>1</td>\n",
              "      <td>29.1250</td>\n",
              "      <td>Q</td>\n",
              "      <td>Third</td>\n",
              "      <td>child</td>\n",
              "      <td>False</td>\n",
              "      <td>NaN</td>\n",
              "      <td>Queenstown</td>\n",
              "      <td>no</td>\n",
              "      <td>False</td>\n",
              "    </tr>\n",
              "    <tr>\n",
              "      <th>17</th>\n",
              "      <td>1</td>\n",
              "      <td>2</td>\n",
              "      <td>male</td>\n",
              "      <td>NaN</td>\n",
              "      <td>0</td>\n",
              "      <td>0</td>\n",
              "      <td>13.0000</td>\n",
              "      <td>S</td>\n",
              "      <td>Second</td>\n",
              "      <td>man</td>\n",
              "      <td>True</td>\n",
              "      <td>NaN</td>\n",
              "      <td>Southampton</td>\n",
              "      <td>yes</td>\n",
              "      <td>True</td>\n",
              "    </tr>\n",
              "    <tr>\n",
              "      <th>18</th>\n",
              "      <td>0</td>\n",
              "      <td>3</td>\n",
              "      <td>female</td>\n",
              "      <td>31.0</td>\n",
              "      <td>1</td>\n",
              "      <td>0</td>\n",
              "      <td>18.0000</td>\n",
              "      <td>S</td>\n",
              "      <td>Third</td>\n",
              "      <td>woman</td>\n",
              "      <td>False</td>\n",
              "      <td>NaN</td>\n",
              "      <td>Southampton</td>\n",
              "      <td>no</td>\n",
              "      <td>False</td>\n",
              "    </tr>\n",
              "    <tr>\n",
              "      <th>19</th>\n",
              "      <td>1</td>\n",
              "      <td>3</td>\n",
              "      <td>female</td>\n",
              "      <td>NaN</td>\n",
              "      <td>0</td>\n",
              "      <td>0</td>\n",
              "      <td>7.2250</td>\n",
              "      <td>C</td>\n",
              "      <td>Third</td>\n",
              "      <td>woman</td>\n",
              "      <td>False</td>\n",
              "      <td>NaN</td>\n",
              "      <td>Cherbourg</td>\n",
              "      <td>yes</td>\n",
              "      <td>True</td>\n",
              "    </tr>\n",
              "  </tbody>\n",
              "</table>\n",
              "</div>"
            ],
            "text/plain": [
              "    survived  pclass     sex   age  sibsp  parch     fare embarked   class  \\\n",
              "0          0       3    male  22.0      1      0   7.2500        S   Third   \n",
              "1          1       1  female  38.0      1      0  71.2833        C   First   \n",
              "2          1       3  female  26.0      0      0   7.9250        S   Third   \n",
              "3          1       1  female  35.0      1      0  53.1000        S   First   \n",
              "4          0       3    male  35.0      0      0   8.0500        S   Third   \n",
              "5          0       3    male   NaN      0      0   8.4583        Q   Third   \n",
              "6          0       1    male  54.0      0      0  51.8625        S   First   \n",
              "7          0       3    male   2.0      3      1  21.0750        S   Third   \n",
              "8          1       3  female  27.0      0      2  11.1333        S   Third   \n",
              "9          1       2  female  14.0      1      0  30.0708        C  Second   \n",
              "10         1       3  female   4.0      1      1  16.7000        S   Third   \n",
              "11         1       1  female  58.0      0      0  26.5500        S   First   \n",
              "12         0       3    male  20.0      0      0   8.0500        S   Third   \n",
              "13         0       3    male  39.0      1      5  31.2750        S   Third   \n",
              "14         0       3  female  14.0      0      0   7.8542        S   Third   \n",
              "15         1       2  female  55.0      0      0  16.0000        S  Second   \n",
              "16         0       3    male   2.0      4      1  29.1250        Q   Third   \n",
              "17         1       2    male   NaN      0      0  13.0000        S  Second   \n",
              "18         0       3  female  31.0      1      0  18.0000        S   Third   \n",
              "19         1       3  female   NaN      0      0   7.2250        C   Third   \n",
              "\n",
              "      who  adult_male deck  embark_town alive  alone  \n",
              "0     man        True  NaN  Southampton    no  False  \n",
              "1   woman       False    C    Cherbourg   yes  False  \n",
              "2   woman       False  NaN  Southampton   yes   True  \n",
              "3   woman       False    C  Southampton   yes  False  \n",
              "4     man        True  NaN  Southampton    no   True  \n",
              "5     man        True  NaN   Queenstown    no   True  \n",
              "6     man        True    E  Southampton    no   True  \n",
              "7   child       False  NaN  Southampton    no  False  \n",
              "8   woman       False  NaN  Southampton   yes  False  \n",
              "9   child       False  NaN    Cherbourg   yes  False  \n",
              "10  child       False    G  Southampton   yes  False  \n",
              "11  woman       False    C  Southampton   yes   True  \n",
              "12    man        True  NaN  Southampton    no   True  \n",
              "13    man        True  NaN  Southampton    no  False  \n",
              "14  child       False  NaN  Southampton    no   True  \n",
              "15  woman       False  NaN  Southampton   yes   True  \n",
              "16  child       False  NaN   Queenstown    no  False  \n",
              "17    man        True  NaN  Southampton   yes   True  \n",
              "18  woman       False  NaN  Southampton    no  False  \n",
              "19  woman       False  NaN    Cherbourg   yes   True  "
            ]
          },
          "execution_count": 376,
          "metadata": {},
          "output_type": "execute_result"
        }
      ],
      "source": [
        "\r\n",
        "df = sns.load_dataset('titanic')\r\n",
        "df.head(20)"
      ]
    },
    {
      "cell_type": "code",
      "execution_count": 360,
      "metadata": {
        "id": "Fw_kwXglfvUn"
      },
      "outputs": [],
      "source": [
        "df = sns.load_dataset('titanic')"
      ]
    },
    {
      "cell_type": "markdown",
      "metadata": {
        "id": "rr551olPf2uo"
      },
      "source": [
        "# Average age of woman category."
      ]
    },
    {
      "cell_type": "code",
      "execution_count": 362,
      "metadata": {
        "id": "bixJr9lyfzTU"
      },
      "outputs": [
        {
          "data": {
            "text/plain": [
              "32.0"
            ]
          },
          "execution_count": 362,
          "metadata": {},
          "output_type": "execute_result"
        }
      ],
      "source": [
        "df[df.who=='woman'].age.mean()"
      ]
    },
    {
      "cell_type": "markdown",
      "metadata": {
        "id": "7nZayYnMgGrq"
      },
      "source": [
        "## Average age of man category."
      ]
    },
    {
      "cell_type": "code",
      "execution_count": 361,
      "metadata": {
        "id": "kSFLxy6cgH_J"
      },
      "outputs": [
        {
          "data": {
            "text/plain": [
              "33.17312348668281"
            ]
          },
          "execution_count": 361,
          "metadata": {},
          "output_type": "execute_result"
        }
      ],
      "source": [
        "df[df.who=='man'].age.mean()"
      ]
    },
    {
      "cell_type": "markdown",
      "metadata": {
        "id": "OcA_gkVCgJae"
      },
      "source": [
        "## The lowest age among alone woman."
      ]
    },
    {
      "cell_type": "code",
      "execution_count": 363,
      "metadata": {
        "id": "d0Q0N28egPQk"
      },
      "outputs": [
        {
          "data": {
            "text/plain": [
              "16.0"
            ]
          },
          "execution_count": 363,
          "metadata": {},
          "output_type": "execute_result"
        }
      ],
      "source": [
        "df[df.who=='woman'].age.min()"
      ]
    },
    {
      "cell_type": "markdown",
      "metadata": {
        "id": "oXGs5DrOgWyy"
      },
      "source": [
        "# The highest pulse among running student and not fat category. "
      ]
    },
    {
      "cell_type": "code",
      "execution_count": 374,
      "metadata": {
        "id": "pQ2CmrD-gcHr"
      },
      "outputs": [
        {
          "data": {
            "text/plain": [
              "132"
            ]
          },
          "execution_count": 374,
          "metadata": {},
          "output_type": "execute_result"
        }
      ],
      "source": [
        "df_ = sns.load_dataset('exercise')\r\n",
        "df_.head(20)\r\n",
        "df_[df.diet=='low fat'].pulse.max()"
      ]
    },
    {
      "cell_type": "markdown",
      "metadata": {
        "id": "LGVBxC-ugecu"
      },
      "source": [
        "# Sort the DataFrame in ascending order of the 'age' use sort values (df.sort_values(by='...', ascending=...)). "
      ]
    },
    {
      "cell_type": "code",
      "execution_count": 377,
      "metadata": {
        "id": "AYOirmImgiMQ"
      },
      "outputs": [
        {
          "data": {
            "text/html": [
              "<div>\n",
              "<style scoped>\n",
              "    .dataframe tbody tr th:only-of-type {\n",
              "        vertical-align: middle;\n",
              "    }\n",
              "\n",
              "    .dataframe tbody tr th {\n",
              "        vertical-align: top;\n",
              "    }\n",
              "\n",
              "    .dataframe thead th {\n",
              "        text-align: right;\n",
              "    }\n",
              "</style>\n",
              "<table border=\"1\" class=\"dataframe\">\n",
              "  <thead>\n",
              "    <tr style=\"text-align: right;\">\n",
              "      <th></th>\n",
              "      <th>survived</th>\n",
              "      <th>pclass</th>\n",
              "      <th>sex</th>\n",
              "      <th>age</th>\n",
              "      <th>sibsp</th>\n",
              "      <th>parch</th>\n",
              "      <th>fare</th>\n",
              "      <th>embarked</th>\n",
              "      <th>class</th>\n",
              "      <th>who</th>\n",
              "      <th>adult_male</th>\n",
              "      <th>deck</th>\n",
              "      <th>embark_town</th>\n",
              "      <th>alive</th>\n",
              "      <th>alone</th>\n",
              "    </tr>\n",
              "  </thead>\n",
              "  <tbody>\n",
              "    <tr>\n",
              "      <th>803</th>\n",
              "      <td>1</td>\n",
              "      <td>3</td>\n",
              "      <td>male</td>\n",
              "      <td>0.42</td>\n",
              "      <td>0</td>\n",
              "      <td>1</td>\n",
              "      <td>8.5167</td>\n",
              "      <td>C</td>\n",
              "      <td>Third</td>\n",
              "      <td>child</td>\n",
              "      <td>False</td>\n",
              "      <td>NaN</td>\n",
              "      <td>Cherbourg</td>\n",
              "      <td>yes</td>\n",
              "      <td>False</td>\n",
              "    </tr>\n",
              "    <tr>\n",
              "      <th>755</th>\n",
              "      <td>1</td>\n",
              "      <td>2</td>\n",
              "      <td>male</td>\n",
              "      <td>0.67</td>\n",
              "      <td>1</td>\n",
              "      <td>1</td>\n",
              "      <td>14.5000</td>\n",
              "      <td>S</td>\n",
              "      <td>Second</td>\n",
              "      <td>child</td>\n",
              "      <td>False</td>\n",
              "      <td>NaN</td>\n",
              "      <td>Southampton</td>\n",
              "      <td>yes</td>\n",
              "      <td>False</td>\n",
              "    </tr>\n",
              "    <tr>\n",
              "      <th>644</th>\n",
              "      <td>1</td>\n",
              "      <td>3</td>\n",
              "      <td>female</td>\n",
              "      <td>0.75</td>\n",
              "      <td>2</td>\n",
              "      <td>1</td>\n",
              "      <td>19.2583</td>\n",
              "      <td>C</td>\n",
              "      <td>Third</td>\n",
              "      <td>child</td>\n",
              "      <td>False</td>\n",
              "      <td>NaN</td>\n",
              "      <td>Cherbourg</td>\n",
              "      <td>yes</td>\n",
              "      <td>False</td>\n",
              "    </tr>\n",
              "    <tr>\n",
              "      <th>469</th>\n",
              "      <td>1</td>\n",
              "      <td>3</td>\n",
              "      <td>female</td>\n",
              "      <td>0.75</td>\n",
              "      <td>2</td>\n",
              "      <td>1</td>\n",
              "      <td>19.2583</td>\n",
              "      <td>C</td>\n",
              "      <td>Third</td>\n",
              "      <td>child</td>\n",
              "      <td>False</td>\n",
              "      <td>NaN</td>\n",
              "      <td>Cherbourg</td>\n",
              "      <td>yes</td>\n",
              "      <td>False</td>\n",
              "    </tr>\n",
              "    <tr>\n",
              "      <th>78</th>\n",
              "      <td>1</td>\n",
              "      <td>2</td>\n",
              "      <td>male</td>\n",
              "      <td>0.83</td>\n",
              "      <td>0</td>\n",
              "      <td>2</td>\n",
              "      <td>29.0000</td>\n",
              "      <td>S</td>\n",
              "      <td>Second</td>\n",
              "      <td>child</td>\n",
              "      <td>False</td>\n",
              "      <td>NaN</td>\n",
              "      <td>Southampton</td>\n",
              "      <td>yes</td>\n",
              "      <td>False</td>\n",
              "    </tr>\n",
              "    <tr>\n",
              "      <th>...</th>\n",
              "      <td>...</td>\n",
              "      <td>...</td>\n",
              "      <td>...</td>\n",
              "      <td>...</td>\n",
              "      <td>...</td>\n",
              "      <td>...</td>\n",
              "      <td>...</td>\n",
              "      <td>...</td>\n",
              "      <td>...</td>\n",
              "      <td>...</td>\n",
              "      <td>...</td>\n",
              "      <td>...</td>\n",
              "      <td>...</td>\n",
              "      <td>...</td>\n",
              "      <td>...</td>\n",
              "    </tr>\n",
              "    <tr>\n",
              "      <th>859</th>\n",
              "      <td>0</td>\n",
              "      <td>3</td>\n",
              "      <td>male</td>\n",
              "      <td>NaN</td>\n",
              "      <td>0</td>\n",
              "      <td>0</td>\n",
              "      <td>7.2292</td>\n",
              "      <td>C</td>\n",
              "      <td>Third</td>\n",
              "      <td>man</td>\n",
              "      <td>True</td>\n",
              "      <td>NaN</td>\n",
              "      <td>Cherbourg</td>\n",
              "      <td>no</td>\n",
              "      <td>True</td>\n",
              "    </tr>\n",
              "    <tr>\n",
              "      <th>863</th>\n",
              "      <td>0</td>\n",
              "      <td>3</td>\n",
              "      <td>female</td>\n",
              "      <td>NaN</td>\n",
              "      <td>8</td>\n",
              "      <td>2</td>\n",
              "      <td>69.5500</td>\n",
              "      <td>S</td>\n",
              "      <td>Third</td>\n",
              "      <td>woman</td>\n",
              "      <td>False</td>\n",
              "      <td>NaN</td>\n",
              "      <td>Southampton</td>\n",
              "      <td>no</td>\n",
              "      <td>False</td>\n",
              "    </tr>\n",
              "    <tr>\n",
              "      <th>868</th>\n",
              "      <td>0</td>\n",
              "      <td>3</td>\n",
              "      <td>male</td>\n",
              "      <td>NaN</td>\n",
              "      <td>0</td>\n",
              "      <td>0</td>\n",
              "      <td>9.5000</td>\n",
              "      <td>S</td>\n",
              "      <td>Third</td>\n",
              "      <td>man</td>\n",
              "      <td>True</td>\n",
              "      <td>NaN</td>\n",
              "      <td>Southampton</td>\n",
              "      <td>no</td>\n",
              "      <td>True</td>\n",
              "    </tr>\n",
              "    <tr>\n",
              "      <th>878</th>\n",
              "      <td>0</td>\n",
              "      <td>3</td>\n",
              "      <td>male</td>\n",
              "      <td>NaN</td>\n",
              "      <td>0</td>\n",
              "      <td>0</td>\n",
              "      <td>7.8958</td>\n",
              "      <td>S</td>\n",
              "      <td>Third</td>\n",
              "      <td>man</td>\n",
              "      <td>True</td>\n",
              "      <td>NaN</td>\n",
              "      <td>Southampton</td>\n",
              "      <td>no</td>\n",
              "      <td>True</td>\n",
              "    </tr>\n",
              "    <tr>\n",
              "      <th>888</th>\n",
              "      <td>0</td>\n",
              "      <td>3</td>\n",
              "      <td>female</td>\n",
              "      <td>NaN</td>\n",
              "      <td>1</td>\n",
              "      <td>2</td>\n",
              "      <td>23.4500</td>\n",
              "      <td>S</td>\n",
              "      <td>Third</td>\n",
              "      <td>woman</td>\n",
              "      <td>False</td>\n",
              "      <td>NaN</td>\n",
              "      <td>Southampton</td>\n",
              "      <td>no</td>\n",
              "      <td>False</td>\n",
              "    </tr>\n",
              "  </tbody>\n",
              "</table>\n",
              "<p>891 rows × 15 columns</p>\n",
              "</div>"
            ],
            "text/plain": [
              "     survived  pclass     sex   age  sibsp  parch     fare embarked   class  \\\n",
              "803         1       3    male  0.42      0      1   8.5167        C   Third   \n",
              "755         1       2    male  0.67      1      1  14.5000        S  Second   \n",
              "644         1       3  female  0.75      2      1  19.2583        C   Third   \n",
              "469         1       3  female  0.75      2      1  19.2583        C   Third   \n",
              "78          1       2    male  0.83      0      2  29.0000        S  Second   \n",
              "..        ...     ...     ...   ...    ...    ...      ...      ...     ...   \n",
              "859         0       3    male   NaN      0      0   7.2292        C   Third   \n",
              "863         0       3  female   NaN      8      2  69.5500        S   Third   \n",
              "868         0       3    male   NaN      0      0   9.5000        S   Third   \n",
              "878         0       3    male   NaN      0      0   7.8958        S   Third   \n",
              "888         0       3  female   NaN      1      2  23.4500        S   Third   \n",
              "\n",
              "       who  adult_male deck  embark_town alive  alone  \n",
              "803  child       False  NaN    Cherbourg   yes  False  \n",
              "755  child       False  NaN  Southampton   yes  False  \n",
              "644  child       False  NaN    Cherbourg   yes  False  \n",
              "469  child       False  NaN    Cherbourg   yes  False  \n",
              "78   child       False  NaN  Southampton   yes  False  \n",
              "..     ...         ...  ...          ...   ...    ...  \n",
              "859    man        True  NaN    Cherbourg    no   True  \n",
              "863  woman       False  NaN  Southampton    no  False  \n",
              "868    man        True  NaN  Southampton    no   True  \n",
              "878    man        True  NaN  Southampton    no   True  \n",
              "888  woman       False  NaN  Southampton    no  False  \n",
              "\n",
              "[891 rows x 15 columns]"
            ]
          },
          "execution_count": 377,
          "metadata": {},
          "output_type": "execute_result"
        }
      ],
      "source": [
        "df.sort_values(by=\"age\",ascending=True)"
      ]
    }
  ],
  "metadata": {
    "colab": {
      "collapsed_sections": [
        "9rp_wd0-HnY-",
        "3yw0KuZUHnY_",
        "hbN5I-YZHnZA",
        "7hZ5hlVJHnZB",
        "Kmk6cDC8HnZC",
        "-OSWUwp6HnZD",
        "WABw14rNHnZD",
        "eTKj2YuiHnZE",
        "hxZLhv5QHnZE",
        "RvGHRuQIHnZF",
        "58YyO3SkHnZG",
        "H8a-Du6dHnZH",
        "6gndtKOdHnZH",
        "YIkveqx4HnZI",
        "E9cJQGSZHnZI",
        "AWtUF9yVHnZJ",
        "dbdvRa5SHnZK",
        "WihbQTLoHnZL",
        "A5o9a7fCHnZM",
        "Q2T66RgSHnZN",
        "OIywmCbFHnZN",
        "cjQvWWfmHnZO",
        "9IBWFuXiHnZO",
        "aW5fjRhRHnZP",
        "SiYapLUfHnZP",
        "_WTALQ7DHnZR",
        "Z6bMxHKaHnZS",
        "5JUiEl2NHnZS",
        "ZRKfXIBuHnZT",
        "uwZU_3N-HnZU",
        "An13osDlHnZV",
        "pX5feCZmHnZV",
        "pJ_Xo2iUHnZW",
        "_xr7PyITHnZW",
        "o8i61n03HnZX",
        "6yK7EuRWHnZY",
        "fZt60Wp_HnZZ",
        "pKHcDK8RHnZZ",
        "VBizkIxKHnZa",
        "sIMD7lIfHnZc",
        "JpXwIX3THnZc",
        "m0IkNO2KHnZd",
        "XQNyj7hgHnZd"
      ],
      "name": "1 - NumPy exercises.ipynb",
      "provenance": []
    },
    "interpreter": {
      "hash": "b3ed8e708b643839dc49c9e4479760f0fed46f4af64d471bc476f8b8b680b9fd"
    },
    "kernelspec": {
      "display_name": "Python 3.9.6 64-bit",
      "name": "python3"
    },
    "language_info": {
      "codemirror_mode": {
        "name": "ipython",
        "version": 3
      },
      "file_extension": ".py",
      "mimetype": "text/x-python",
      "name": "python",
      "nbconvert_exporter": "python",
      "pygments_lexer": "ipython3",
      "version": "3.9.6"
    },
    "toc": {
      "base_numbering": 1,
      "nav_menu": {},
      "number_sections": true,
      "sideBar": true,
      "skip_h1_title": false,
      "title_cell": "Table of Contents",
      "title_sidebar": "Contents",
      "toc_cell": false,
      "toc_position": {},
      "toc_section_display": true,
      "toc_window_display": false
    },
    "varInspector": {
      "cols": {
        "lenName": 16,
        "lenType": 16,
        "lenVar": 40
      },
      "kernels_config": {
        "python": {
          "delete_cmd_postfix": "",
          "delete_cmd_prefix": "del ",
          "library": "var_list.py",
          "varRefreshCmd": "print(var_dic_list())"
        },
        "r": {
          "delete_cmd_postfix": ") ",
          "delete_cmd_prefix": "rm(",
          "library": "var_list.r",
          "varRefreshCmd": "cat(var_dic_list()) "
        }
      },
      "types_to_exclude": [
        "module",
        "function",
        "builtin_function_or_method",
        "instance",
        "_Feature"
      ],
      "window_display": false
    }
  },
  "nbformat": 4,
  "nbformat_minor": 0
}