{
  "cells": [
    {
      "cell_type": "markdown",
      "source": [
        "\n",
        "\n",
        "# Pandas Series exercises\n"
      ],
      "metadata": {
        "id": "P5hUpxo2BzF0"
      }
    },
    {
      "cell_type": "code",
      "execution_count": 3,
      "source": [
        "# Import the numpy package under the name np\n",
        "import numpy as np\n",
        "\n",
        "# Import the pandas package under the name pd\n",
        "import pandas as pd\n",
        "\n",
        "# Print the pandas version and the configuration\n",
        "print(pd.__version__)"
      ],
      "outputs": [
        {
          "output_type": "stream",
          "name": "stdout",
          "text": [
            "1.3.0\n"
          ]
        }
      ],
      "metadata": {
        "id": "rYyIFT3IBzGL",
        "outputId": "3f3aa7dc-d623-43e8-e869-13b1208ed6fc"
      }
    },
    {
      "cell_type": "markdown",
      "source": [
        "\n",
        "\n",
        "## Series creation"
      ],
      "metadata": {
        "id": "lWcs-C6GBzGT"
      }
    },
    {
      "cell_type": "markdown",
      "source": [
        "### Create an empty pandas Series"
      ],
      "metadata": {
        "id": "yTAhRc_wBzGU"
      }
    },
    {
      "cell_type": "code",
      "execution_count": 4,
      "source": [
        "# your code goes here\r\n",
        "pd.Series([])"
      ],
      "outputs": [
        {
          "output_type": "stream",
          "name": "stderr",
          "text": [
            "C:\\Users\\Rania\\AppData\\Local\\Temp/ipykernel_11820/1327878560.py:2: DeprecationWarning: The default dtype for empty Series will be 'object' instead of 'float64' in a future version. Specify a dtype explicitly to silence this warning.\n",
            "  pd.Series([])\n"
          ]
        },
        {
          "output_type": "execute_result",
          "data": {
            "text/plain": [
              "Series([], dtype: float64)"
            ]
          },
          "metadata": {},
          "execution_count": 4
        }
      ],
      "metadata": {
        "id": "kGUPCmYwBzGV"
      }
    },
    {
      "cell_type": "markdown",
      "source": [
        "\n",
        "\n",
        "### Given the X python list convert it to an Y pandas Series"
      ],
      "metadata": {
        "id": "Qe0vcrowBzGY"
      }
    },
    {
      "cell_type": "code",
      "execution_count": 5,
      "source": [
        "# your code goes here\r\n",
        "d = [7,1,-3,2,4,5]\r\n",
        "s = pd.Series(data=d)\r\n",
        "print(s)"
      ],
      "outputs": [
        {
          "output_type": "stream",
          "name": "stdout",
          "text": [
            "0    7\n",
            "1    1\n",
            "2   -3\n",
            "3    2\n",
            "4    4\n",
            "5    5\n",
            "dtype: int64\n"
          ]
        }
      ],
      "metadata": {
        "id": "B0csK4U0BzGZ"
      }
    },
    {
      "cell_type": "markdown",
      "source": [
        "\n",
        "\n",
        "### Given the X pandas Series, name it 'My letters'"
      ],
      "metadata": {
        "id": "Gide7r8rBzGl"
      }
    },
    {
      "cell_type": "code",
      "execution_count": 6,
      "source": [
        "# your code goes here\r\n",
        "d = [7,1,-3,2,4,5]\r\n",
        "s = pd.Series(data=d)\r\n",
        "s = s.rename(\"My letters\")\r\n",
        "s\r\n"
      ],
      "outputs": [
        {
          "output_type": "execute_result",
          "data": {
            "text/plain": [
              "0    7\n",
              "1    1\n",
              "2   -3\n",
              "3    2\n",
              "4    4\n",
              "5    5\n",
              "Name: My letters, dtype: int64"
            ]
          },
          "metadata": {},
          "execution_count": 6
        }
      ],
      "metadata": {
        "id": "ZksvCjnOBzGm"
      }
    },
    {
      "cell_type": "markdown",
      "source": [
        "\n",
        "\n",
        "### Given the X pandas Series, show its values\n"
      ],
      "metadata": {
        "id": "RykrBaBBBzGn"
      }
    },
    {
      "cell_type": "code",
      "execution_count": 7,
      "source": [
        "# your code goes here\r\n",
        "s.values\r\n"
      ],
      "outputs": [
        {
          "output_type": "execute_result",
          "data": {
            "text/plain": [
              "array([ 7,  1, -3,  2,  4,  5], dtype=int64)"
            ]
          },
          "metadata": {},
          "execution_count": 7
        }
      ],
      "metadata": {
        "id": "hmcnJWeZBzGn"
      }
    },
    {
      "cell_type": "markdown",
      "source": [
        "\n",
        "\n",
        "## Series indexation"
      ],
      "metadata": {
        "id": "wAjIj3OIBzGo"
      }
    },
    {
      "cell_type": "markdown",
      "source": [
        "### Assign index names to the given X pandas Series\n"
      ],
      "metadata": {
        "id": "4Ik4vUmIBzGp"
      }
    },
    {
      "cell_type": "code",
      "execution_count": 8,
      "source": [
        "# your code goes here\r\n",
        "s.index=list(\"abcdef\")\r\n",
        "s\r\n"
      ],
      "outputs": [
        {
          "output_type": "execute_result",
          "data": {
            "text/plain": [
              "a    7\n",
              "b    1\n",
              "c   -3\n",
              "d    2\n",
              "e    4\n",
              "f    5\n",
              "Name: My letters, dtype: int64"
            ]
          },
          "metadata": {},
          "execution_count": 8
        }
      ],
      "metadata": {
        "id": "CTB6tC-oBzGp"
      }
    },
    {
      "cell_type": "markdown",
      "source": [
        "[link text](https://)\n",
        "\n",
        "### Given the X pandas Series, show its first element\n"
      ],
      "metadata": {
        "id": "L0rdpOX4BzGq"
      }
    },
    {
      "cell_type": "code",
      "execution_count": 9,
      "source": [
        "# your code goes here\r\n",
        "s[0]"
      ],
      "outputs": [
        {
          "output_type": "execute_result",
          "data": {
            "text/plain": [
              "7"
            ]
          },
          "metadata": {},
          "execution_count": 9
        }
      ],
      "metadata": {
        "id": "fnviyeFYBzGq"
      }
    },
    {
      "cell_type": "markdown",
      "source": [
        "\n",
        "\n",
        "### Given the X pandas Series, show its last element\n"
      ],
      "metadata": {
        "id": "VA4SkVXFBzGr"
      }
    },
    {
      "cell_type": "code",
      "execution_count": 10,
      "source": [
        "# your code goes here\r\n",
        "s[-1]\r\n"
      ],
      "outputs": [
        {
          "output_type": "execute_result",
          "data": {
            "text/plain": [
              "5"
            ]
          },
          "metadata": {},
          "execution_count": 10
        }
      ],
      "metadata": {
        "id": "wJeGwFM7BzGt"
      }
    },
    {
      "cell_type": "markdown",
      "source": [
        "\n",
        "\n",
        "### Given the X pandas Series, show all middle elements\n"
      ],
      "metadata": {
        "id": "lxLGiIUwBzGu"
      }
    },
    {
      "cell_type": "code",
      "execution_count": 11,
      "source": [
        "# your code goes here\r\n",
        "s[1:len(s)-1]\r\n"
      ],
      "outputs": [
        {
          "output_type": "execute_result",
          "data": {
            "text/plain": [
              "b    1\n",
              "c   -3\n",
              "d    2\n",
              "e    4\n",
              "Name: My letters, dtype: int64"
            ]
          },
          "metadata": {},
          "execution_count": 11
        }
      ],
      "metadata": {
        "id": "QR5STZqMBzGv"
      }
    },
    {
      "cell_type": "markdown",
      "source": [
        "\n",
        "\n",
        "### Given the X pandas Series, show the elements in reverse position\n"
      ],
      "metadata": {
        "id": "M6dVAUDCBzGv"
      }
    },
    {
      "cell_type": "code",
      "execution_count": 12,
      "source": [
        "# your code goes here\r\n",
        "s[::-1]\r\n"
      ],
      "outputs": [
        {
          "output_type": "execute_result",
          "data": {
            "text/plain": [
              "f    5\n",
              "e    4\n",
              "d    2\n",
              "c   -3\n",
              "b    1\n",
              "a    7\n",
              "Name: My letters, dtype: int64"
            ]
          },
          "metadata": {},
          "execution_count": 12
        }
      ],
      "metadata": {
        "id": "XVGqHQF7BzGw"
      }
    },
    {
      "cell_type": "markdown",
      "source": [
        "\n",
        "\n",
        "### Given the X pandas Series, show the first and last elements\n"
      ],
      "metadata": {
        "id": "fK_j-TCsBzGw"
      }
    },
    {
      "cell_type": "code",
      "execution_count": 13,
      "source": [
        "# your code goes here\r\n",
        "s[0::len(s)-1]\r\n"
      ],
      "outputs": [
        {
          "output_type": "execute_result",
          "data": {
            "text/plain": [
              "a    7\n",
              "f    5\n",
              "Name: My letters, dtype: int64"
            ]
          },
          "metadata": {},
          "execution_count": 13
        }
      ],
      "metadata": {
        "id": "dptBck-IBzGx"
      }
    },
    {
      "cell_type": "markdown",
      "source": [
        "\n",
        "\n",
        "## Series manipulation"
      ],
      "metadata": {
        "id": "b2go_tMLBzGx"
      }
    },
    {
      "cell_type": "markdown",
      "source": [
        "### Convert the given integer pandas Series to float\n"
      ],
      "metadata": {
        "id": "vvJDNQ5YBzGy"
      }
    },
    {
      "cell_type": "code",
      "execution_count": 14,
      "source": [
        "# your code goes here\r\n",
        "s.astype(float)\r\n"
      ],
      "outputs": [
        {
          "output_type": "execute_result",
          "data": {
            "text/plain": [
              "a    7.0\n",
              "b    1.0\n",
              "c   -3.0\n",
              "d    2.0\n",
              "e    4.0\n",
              "f    5.0\n",
              "Name: My letters, dtype: float64"
            ]
          },
          "metadata": {},
          "execution_count": 14
        }
      ],
      "metadata": {
        "id": "Tcojkz38BzGy"
      }
    },
    {
      "cell_type": "markdown",
      "source": [
        "\n",
        "\n",
        "### Reverse the given pandas Series (first element becomes last)"
      ],
      "metadata": {
        "id": "PpckEdTQBzGz"
      }
    },
    {
      "cell_type": "code",
      "execution_count": 15,
      "source": [
        "# your code goes here\r\n",
        "s[::-1]\r\n"
      ],
      "outputs": [
        {
          "output_type": "execute_result",
          "data": {
            "text/plain": [
              "f    5\n",
              "e    4\n",
              "d    2\n",
              "c   -3\n",
              "b    1\n",
              "a    7\n",
              "Name: My letters, dtype: int64"
            ]
          },
          "metadata": {},
          "execution_count": 15
        }
      ],
      "metadata": {
        "id": "jSTow5NHBzGz"
      }
    },
    {
      "cell_type": "markdown",
      "source": [
        "\n",
        "\n",
        "### Order (sort) the given pandas Series\n"
      ],
      "metadata": {
        "id": "DcG-AmcxBzG3"
      }
    },
    {
      "cell_type": "code",
      "execution_count": 16,
      "source": [
        "# your code goes here\r\n",
        "s.sort_values()\r\n"
      ],
      "outputs": [
        {
          "output_type": "execute_result",
          "data": {
            "text/plain": [
              "c   -3\n",
              "b    1\n",
              "d    2\n",
              "e    4\n",
              "f    5\n",
              "a    7\n",
              "Name: My letters, dtype: int64"
            ]
          },
          "metadata": {},
          "execution_count": 16
        }
      ],
      "metadata": {
        "id": "ONNAEc1NBzG4"
      }
    },
    {
      "cell_type": "markdown",
      "source": [
        "\n",
        "\n",
        "### Given the X pandas Series, set the fifth element equal to 10\n"
      ],
      "metadata": {
        "id": "iGdG_dYsBzG4"
      }
    },
    {
      "cell_type": "code",
      "execution_count": 17,
      "source": [
        "# your code goes here\r\n",
        "s[4] = 10\r\n",
        "s"
      ],
      "outputs": [
        {
          "output_type": "execute_result",
          "data": {
            "text/plain": [
              "a     7\n",
              "b     1\n",
              "c    -3\n",
              "d     2\n",
              "e    10\n",
              "f     5\n",
              "Name: My letters, dtype: int64"
            ]
          },
          "metadata": {},
          "execution_count": 17
        }
      ],
      "metadata": {
        "id": "o_6gLClnBzG5"
      }
    },
    {
      "cell_type": "markdown",
      "source": [
        "\n",
        "\n",
        "### Given the X pandas Series, change all the middle elements to 0\n"
      ],
      "metadata": {
        "id": "8xtdu02DBzG5"
      }
    },
    {
      "cell_type": "code",
      "execution_count": 18,
      "source": [
        "# your code goes here\r\n",
        "s[1:len(s)-1] = 0\r\n",
        "s\r\n"
      ],
      "outputs": [
        {
          "output_type": "execute_result",
          "data": {
            "text/plain": [
              "a    7\n",
              "b    0\n",
              "c    0\n",
              "d    0\n",
              "e    0\n",
              "f    5\n",
              "Name: My letters, dtype: int64"
            ]
          },
          "metadata": {},
          "execution_count": 18
        }
      ],
      "metadata": {
        "id": "HtDtxfLvBzG6"
      }
    },
    {
      "cell_type": "markdown",
      "source": [
        "\n",
        "\n",
        "### Given the X pandas Series, add 5 to every element\n"
      ],
      "metadata": {
        "id": "C5okIVtNBzG6"
      }
    },
    {
      "cell_type": "code",
      "execution_count": 19,
      "source": [
        "# your code goes here\r\n",
        "s+5\r\n"
      ],
      "outputs": [
        {
          "output_type": "execute_result",
          "data": {
            "text/plain": [
              "a    12\n",
              "b     5\n",
              "c     5\n",
              "d     5\n",
              "e     5\n",
              "f    10\n",
              "Name: My letters, dtype: int64"
            ]
          },
          "metadata": {},
          "execution_count": 19
        }
      ],
      "metadata": {
        "id": "mw9cjkLnBzG7"
      }
    },
    {
      "cell_type": "markdown",
      "source": [
        "\n",
        "\n",
        "## Series boolean arrays (also called masks)"
      ],
      "metadata": {
        "id": "nGwcS0wyBzG7"
      }
    },
    {
      "cell_type": "markdown",
      "source": [
        "### Given the X pandas Series, make a mask showing negative elements\n"
      ],
      "metadata": {
        "id": "DrObRVkbBzG7"
      }
    },
    {
      "cell_type": "code",
      "execution_count": 20,
      "source": [
        "# your code goes here\r\n",
        "d = [7,1,-3,2,4,5]\r\n",
        "s = pd.Series(data=d,index=list(\"abcdef\"))\r\n",
        "s = s.rename(\"My letters\")\r\n",
        "s < 0\r\n"
      ],
      "outputs": [
        {
          "output_type": "execute_result",
          "data": {
            "text/plain": [
              "a    False\n",
              "b    False\n",
              "c     True\n",
              "d    False\n",
              "e    False\n",
              "f    False\n",
              "Name: My letters, dtype: bool"
            ]
          },
          "metadata": {},
          "execution_count": 20
        }
      ],
      "metadata": {
        "id": "qWB7eZSlBzG8"
      }
    },
    {
      "cell_type": "markdown",
      "source": [
        "\n",
        "\n",
        "### Given the X pandas Series, get the negative elements\n"
      ],
      "metadata": {
        "id": "r__u6AvDBzG9"
      }
    },
    {
      "cell_type": "code",
      "execution_count": 21,
      "source": [
        "# your code goes here\r\n",
        "s[s<0]\r\n"
      ],
      "outputs": [
        {
          "output_type": "execute_result",
          "data": {
            "text/plain": [
              "c   -3\n",
              "Name: My letters, dtype: int64"
            ]
          },
          "metadata": {},
          "execution_count": 21
        }
      ],
      "metadata": {
        "id": "AIFDqjWgBzG9"
      }
    },
    {
      "cell_type": "markdown",
      "source": [
        "\n",
        "\n",
        "### Given the X pandas Series, get numbers higher than 5\n"
      ],
      "metadata": {
        "id": "Res9sEfQBzG-"
      }
    },
    {
      "cell_type": "code",
      "execution_count": 22,
      "source": [
        "# your code goes here\r\n",
        "s[s>5]\r\n"
      ],
      "outputs": [
        {
          "output_type": "execute_result",
          "data": {
            "text/plain": [
              "a    7\n",
              "Name: My letters, dtype: int64"
            ]
          },
          "metadata": {},
          "execution_count": 22
        }
      ],
      "metadata": {
        "id": "G5j4FYXkBzG-"
      }
    },
    {
      "cell_type": "markdown",
      "source": [
        "\n",
        "\n",
        "### Given the X pandas Series, get numbers higher than the elements mean"
      ],
      "metadata": {
        "id": "PYySWoubBzG_"
      }
    },
    {
      "cell_type": "code",
      "execution_count": 23,
      "source": [
        "# your code goes here\r\n",
        "s[s>s.mean()]\r\n"
      ],
      "outputs": [
        {
          "output_type": "execute_result",
          "data": {
            "text/plain": [
              "a    7\n",
              "e    4\n",
              "f    5\n",
              "Name: My letters, dtype: int64"
            ]
          },
          "metadata": {},
          "execution_count": 23
        }
      ],
      "metadata": {
        "id": "FOvKQUgWBzG_"
      }
    },
    {
      "cell_type": "markdown",
      "source": [
        "\n",
        "\n",
        "### Given the X pandas Series, get numbers equal to 2 or 10\n"
      ],
      "metadata": {
        "id": "CLlgJUYQBzHA"
      }
    },
    {
      "cell_type": "code",
      "execution_count": 31,
      "source": [
        "# your code goes here\r\n",
        "\r\n",
        "s[((s == 2) | ( s == 10))]\r\n"
      ],
      "outputs": [
        {
          "output_type": "execute_result",
          "data": {
            "text/plain": [
              "d    2\n",
              "Name: My letters, dtype: int64"
            ]
          },
          "metadata": {},
          "execution_count": 31
        }
      ],
      "metadata": {
        "id": "810bZYbeBzHB"
      }
    },
    {
      "cell_type": "markdown",
      "source": [
        "\n",
        "\n",
        "## Logic functions"
      ],
      "metadata": {
        "id": "WZcAPtEVBzHC"
      }
    },
    {
      "cell_type": "markdown",
      "source": [
        "### Given the X pandas Series, return True if none of its elements is zero"
      ],
      "metadata": {
        "id": "6GEr1QzdBzHD"
      }
    },
    {
      "cell_type": "code",
      "execution_count": 25,
      "source": [
        "# your code goes here\r\n",
        "if True in list(s !=0) :\r\n",
        "   print(\"True\")\r\n",
        "else : \r\n",
        "    print(\"False\")\r\n",
        "\r\n",
        "s!=0"
      ],
      "outputs": [
        {
          "output_type": "stream",
          "name": "stdout",
          "text": [
            "True\n"
          ]
        },
        {
          "output_type": "execute_result",
          "data": {
            "text/plain": [
              "a    True\n",
              "b    True\n",
              "c    True\n",
              "d    True\n",
              "e    True\n",
              "f    True\n",
              "Name: My letters, dtype: bool"
            ]
          },
          "metadata": {},
          "execution_count": 25
        }
      ],
      "metadata": {
        "id": "7kZWfRn7BzHD"
      }
    },
    {
      "cell_type": "markdown",
      "source": [
        "\n",
        "\n",
        "### Given the X pandas Series, return True if any of its elements is zero\n"
      ],
      "metadata": {
        "id": "pZP_SelbBzHE"
      }
    },
    {
      "cell_type": "code",
      "execution_count": 26,
      "source": [
        "# your code goes here\r\n",
        "s[2] = 0\r\n",
        "\r\n",
        "if True in list(s ==0) :\r\n",
        "   print(\"True\")\r\n",
        "else : \r\n",
        "    print(\"False\")\r\n",
        "\r\n",
        "s==0"
      ],
      "outputs": [
        {
          "output_type": "stream",
          "name": "stdout",
          "text": [
            "True\n"
          ]
        },
        {
          "output_type": "execute_result",
          "data": {
            "text/plain": [
              "a    False\n",
              "b    False\n",
              "c     True\n",
              "d    False\n",
              "e    False\n",
              "f    False\n",
              "Name: My letters, dtype: bool"
            ]
          },
          "metadata": {},
          "execution_count": 26
        }
      ],
      "metadata": {
        "id": "FYxnY5F5BzHE"
      }
    },
    {
      "cell_type": "markdown",
      "source": [
        "\n",
        "\n",
        "## Summary statistics"
      ],
      "metadata": {
        "id": "gcxgp11dBzHF"
      }
    },
    {
      "cell_type": "markdown",
      "source": [
        "### Given the X pandas Series, show the sum of its elements\n"
      ],
      "metadata": {
        "id": "_M4QZsdJBzHF"
      }
    },
    {
      "cell_type": "code",
      "execution_count": 27,
      "source": [
        "# your code goes here\r\n",
        "\r\n",
        "s.sum()\r\n"
      ],
      "outputs": [
        {
          "output_type": "execute_result",
          "data": {
            "text/plain": [
              "19"
            ]
          },
          "metadata": {},
          "execution_count": 27
        }
      ],
      "metadata": {
        "id": "7ITTBhMQBzHG"
      }
    },
    {
      "cell_type": "markdown",
      "source": [
        "\n",
        "\n",
        "### Given the X pandas Series, show the mean value of its elements"
      ],
      "metadata": {
        "id": "-AuZtRAPBzHG"
      }
    },
    {
      "cell_type": "code",
      "execution_count": 28,
      "source": [
        "# your code goes here\r\n",
        "s.mean()\r\n"
      ],
      "outputs": [
        {
          "output_type": "execute_result",
          "data": {
            "text/plain": [
              "3.1666666666666665"
            ]
          },
          "metadata": {},
          "execution_count": 28
        }
      ],
      "metadata": {
        "id": "ZOnQesRbBzHH"
      }
    },
    {
      "cell_type": "markdown",
      "source": [
        "\n",
        "\n",
        "### Given the X pandas Series, show the max value of its elements"
      ],
      "metadata": {
        "id": "eNA2p_RfBzHI"
      }
    },
    {
      "cell_type": "code",
      "execution_count": 29,
      "source": [
        "# your code goes here\r\n",
        "s.max()\r\n"
      ],
      "outputs": [
        {
          "output_type": "execute_result",
          "data": {
            "text/plain": [
              "7"
            ]
          },
          "metadata": {},
          "execution_count": 29
        }
      ],
      "metadata": {
        "id": "f63LhFrhBzHI"
      }
    }
  ],
  "metadata": {
    "colab": {
      "name": "2 - Pandas Series exercises.ipynb",
      "provenance": []
    },
    "interpreter": {
      "hash": "b3ed8e708b643839dc49c9e4479760f0fed46f4af64d471bc476f8b8b680b9fd"
    },
    "kernelspec": {
      "display_name": "Python 3.9.6 64-bit",
      "name": "python3"
    },
    "language_info": {
      "codemirror_mode": {
        "name": "ipython",
        "version": 3
      },
      "file_extension": ".py",
      "mimetype": "text/x-python",
      "name": "python",
      "nbconvert_exporter": "python",
      "pygments_lexer": "ipython3",
      "version": "3.9.6"
    },
    "toc": {
      "base_numbering": 1,
      "nav_menu": {},
      "number_sections": true,
      "sideBar": true,
      "skip_h1_title": false,
      "title_cell": "Table of Contents",
      "title_sidebar": "Contents",
      "toc_cell": false,
      "toc_position": {},
      "toc_section_display": true,
      "toc_window_display": false
    },
    "varInspector": {
      "cols": {
        "lenName": 16,
        "lenType": 16,
        "lenVar": 40
      },
      "kernels_config": {
        "python": {
          "delete_cmd_postfix": "",
          "delete_cmd_prefix": "del ",
          "library": "var_list.py",
          "varRefreshCmd": "print(var_dic_list())"
        },
        "r": {
          "delete_cmd_postfix": ") ",
          "delete_cmd_prefix": "rm(",
          "library": "var_list.r",
          "varRefreshCmd": "cat(var_dic_list()) "
        }
      },
      "types_to_exclude": [
        "module",
        "function",
        "builtin_function_or_method",
        "instance",
        "_Feature"
      ],
      "window_display": false
    }
  },
  "nbformat": 4,
  "nbformat_minor": 2
}