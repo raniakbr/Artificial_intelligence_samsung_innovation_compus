{
 "cells": [
  {
   "cell_type": "markdown",
   "metadata": {},
   "source": [
    "## 1)- Une fonction qui retourne max(0, x)\n"
   ]
  },
  {
   "cell_type": "code",
   "execution_count": 29,
   "metadata": {},
   "outputs": [
    {
     "name": "stdout",
     "output_type": "stream",
     "text": [
      "le max est : 2\n"
     ]
    }
   ],
   "source": [
    "def max(x,y=0) :\r\n",
    "    if x < y :\r\n",
    "        return print(\"le max est :\", y)\r\n",
    "    else :\r\n",
    "        return print(\"le max est :\", x)\r\n",
    "\r\n",
    "max(2)"
   ]
  },
  {
   "cell_type": "markdown",
   "metadata": {},
   "source": [
    "## 2)- Une fonction qui retourne le résultat de l'operation : 1 / (1+exp(-x), vous pouvez utiliser (np.exp)"
   ]
  },
  {
   "cell_type": "code",
   "execution_count": 7,
   "metadata": {},
   "outputs": [
    {
     "name": "stdout",
     "output_type": "stream",
     "text": [
      "0.5\n"
     ]
    }
   ],
   "source": [
    "import numpy as np\r\n",
    "\r\n",
    "def calcul(x) :\r\n",
    "    return print(1/(1+np.exp(-x)))\r\n",
    "\r\n",
    "calcul(0)"
   ]
  },
  {
   "cell_type": "markdown",
   "metadata": {},
   "source": [
    "## 3)- Write a Python function student_data () which will print the id of a student (student_id). If the user passes an argument student_name or student_class the function will print the student name and class."
   ]
  },
  {
   "cell_type": "code",
   "execution_count": 37,
   "metadata": {},
   "outputs": [],
   "source": [
    "def student_data(student_id, *args):\r\n",
    "    print(\"id : \",student_id)\r\n",
    "\r\n",
    "    if 'student_name' and 'student_class' in args : \r\n",
    "        print('name : ',args['student_name'])\r\n",
    "        print('class : ',args['student_class'])\r\n",
    "        return\r\n",
    "\r\n",
    "    if 'student_name' in args : \r\n",
    "        print('name : ',args['student_name'])\r\n",
    "\r\n",
    "    \r\n",
    "    print(type(args))\r\n",
    "\r\n",
    "#student_data(student_id = 12, student_name =\"rania\", student_class = \"a\")\r\n",
    "#student_data(student_id = 12, student_name =\"rania\")"
   ]
  },
  {
   "cell_type": "markdown",
   "metadata": {},
   "source": [
    "## 4)- Create a Vehicle class with max_speed and mileage instance attributes"
   ]
  },
  {
   "cell_type": "code",
   "execution_count": 18,
   "metadata": {},
   "outputs": [
    {
     "name": "stdout",
     "output_type": "stream",
     "text": [
      "260 k/h\n",
      "200000 km\n"
     ]
    }
   ],
   "source": [
    "class vehicle :\r\n",
    "    max_speed = \"260 k/h\"\r\n",
    "    mileage = \"200000 km\"\r\n",
    "\r\n",
    "print(vehicle.max_speed)\r\n",
    "print(vehicle.mileage)\r\n"
   ]
  },
  {
   "cell_type": "markdown",
   "metadata": {},
   "source": [
    "## 5)- Use the command \"print(geeks.counter)\""
   ]
  },
  {
   "cell_type": "code",
   "execution_count": 28,
   "metadata": {},
   "outputs": [
    {
     "name": "stdout",
     "output_type": "stream",
     "text": [
      "1\n"
     ]
    }
   ],
   "source": [
    "class geeks:\r\n",
    "    \r\n",
    "    # this is used to print the number\r\n",
    "    # of instances of a class\r\n",
    "    counter = 0\r\n",
    "  \r\n",
    "    # constructor of geeks class\r\n",
    "    def __init__(self):\r\n",
    "        \r\n",
    "        # increment\r\n",
    "        geeks.counter += 1\r\n",
    "\r\n",
    "geeks()\r\n",
    "\r\n",
    "print(geeks.counter)\r\n",
    "\r\n"
   ]
  },
  {
   "cell_type": "code",
   "execution_count": null,
   "metadata": {},
   "outputs": [],
   "source": []
  }
 ],
 "metadata": {
  "interpreter": {
   "hash": "b3ed8e708b643839dc49c9e4479760f0fed46f4af64d471bc476f8b8b680b9fd"
  },
  "kernelspec": {
   "display_name": "Python 3.9.6 64-bit",
   "name": "python3"
  },
  "language_info": {
   "codemirror_mode": {
    "name": "ipython",
    "version": 3
   },
   "file_extension": ".py",
   "mimetype": "text/x-python",
   "name": "python",
   "nbconvert_exporter": "python",
   "pygments_lexer": "ipython3",
   "version": "3.9.6"
  }
 },
 "nbformat": 4,
 "nbformat_minor": 4
}