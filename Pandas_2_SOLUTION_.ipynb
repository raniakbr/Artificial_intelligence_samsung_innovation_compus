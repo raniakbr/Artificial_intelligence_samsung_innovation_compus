{
  "nbformat": 4,
  "nbformat_minor": 0,
  "metadata": {
    "colab": {
      "name": "Pandas - 2-sol .ipynb",
      "private_outputs": true,
      "provenance": [],
      "collapsed_sections": []
    },
    "kernelspec": {
      "name": "python3",
      "display_name": "Python 3"
    },
    "language_info": {
      "name": "python"
    }
  },
  "cells": [
    {
      "cell_type": "code",
      "metadata": {
        "id": "qDhBBrAQYR2t"
      },
      "source": [
        "import numpy as np\n",
        "import pandas as pd\n",
        "import seaborn as sns\n",
        "import matplotlib.pyplot as plt\n"
      ],
      "execution_count": null,
      "outputs": []
    },
    {
      "cell_type": "code",
      "metadata": {
        "id": "bLK0jMwuYY3o"
      },
      "source": [
        "data = sns.load_dataset('titanic')"
      ],
      "execution_count": null,
      "outputs": []
    },
    {
      "cell_type": "code",
      "metadata": {
        "id": "10fS4kbEYbTo"
      },
      "source": [
        "data.columns"
      ],
      "execution_count": null,
      "outputs": []
    },
    {
      "cell_type": "code",
      "metadata": {
        "id": "a8XSpG2UYfsX"
      },
      "source": [
        "data.isnull().sum()"
      ],
      "execution_count": null,
      "outputs": []
    },
    {
      "cell_type": "code",
      "metadata": {
        "id": "DJecbqa-YhK6"
      },
      "source": [
        "# plot heatmap to visualize the null values in each column\n",
        "# 'cbar = False' does not show the color axis \n",
        "sns.heatmap(data.isnull())\n",
        "\n",
        "# display the plot\n",
        "plt.show()"
      ],
      "execution_count": null,
      "outputs": []
    },
    {
      "cell_type": "code",
      "metadata": {
        "id": "YodWxzB9ZKmI"
      },
      "source": [
        "# Replace null value in age column\n",
        "data['age']=  data['age'].fillna(data['age'].mean())"
      ],
      "execution_count": null,
      "outputs": []
    },
    {
      "cell_type": "markdown",
      "metadata": {
        "id": "zLzx5QhLpCft"
      },
      "source": [
        "The max age among the alive male passengers."
      ]
    },
    {
      "cell_type": "code",
      "metadata": {
        "id": "bCzDFiFXwuUo"
      },
      "source": [
        "data[(data.alive=='yes')| (data.who=='man')].age.max()"
      ],
      "execution_count": null,
      "outputs": []
    },
    {
      "cell_type": "code",
      "metadata": {
        "id": "fiJNhpmvpLpU"
      },
      "source": [
        "# rename classe\n",
        "data.rename(columns={'class':'classe'}, inplace=True)"
      ],
      "execution_count": null,
      "outputs": []
    },
    {
      "cell_type": "markdown",
      "metadata": {
        "id": "TGJL2JA6k1IU"
      },
      "source": [
        "Average age2 and age for each classe in one code sentence. Use groupby\n",
        "\n",
        "\n",
        "Groupby groups data by different categories, the data is based on one or several variables."
      ]
    },
    {
      "cell_type": "code",
      "metadata": {
        "id": "hSI_rAtOk47_"
      },
      "source": [
        "data.groupby('classe')['age','age2'].mean()"
      ],
      "execution_count": null,
      "outputs": []
    },
    {
      "cell_type": "markdown",
      "metadata": {
        "id": "Lh1I7Urcl7YK"
      },
      "source": [
        "Total classe for age and age2 in one code sentence. Use the pivot_table() \n",
        "method.\n",
        "\n",
        "\n",
        "\n",
        "\n",
        "\n"
      ]
    },
    {
      "cell_type": "code",
      "metadata": {
        "id": "AvZjSjp_mUym"
      },
      "source": [
        "data.pivot_table(values= ['age','age2'], index='classe', aggfunc='mean')"
      ],
      "execution_count": null,
      "outputs": []
    },
    {
      "cell_type": "code",
      "metadata": {
        "id": "m5QSe0emnTDb"
      },
      "source": [
        "data.groupby('classe')['age','age2'].sum()"
      ],
      "execution_count": null,
      "outputs": []
    },
    {
      "cell_type": "markdown",
      "metadata": {
        "id": "YBPhaAa1bJeE"
      },
      "source": [
        "Repace null values\n"
      ]
    },
    {
      "cell_type": "code",
      "metadata": {
        "id": "-g5oJCabZ7qX"
      },
      "source": [
        "# Replace null value in embarked and fare classes with mode or median\n",
        "\n",
        "data['embarked']=data['embarked'].fillna(data['embarked'].mode()[0])\n"
      ],
      "execution_count": null,
      "outputs": []
    },
    {
      "cell_type": "markdown",
      "metadata": {
        "id": "3jCFS7FBDsMu"
      },
      "source": [
        "Question -- Drop fare column."
      ]
    },
    {
      "cell_type": "code",
      "metadata": {
        "id": "t87xn10laV0T"
      },
      "source": [
        "data.drop(['fare'],axis=1,inplace=True)"
      ],
      "execution_count": null,
      "outputs": []
    },
    {
      "cell_type": "code",
      "metadata": {
        "id": "lTxB01aSaf2t"
      },
      "source": [
        "#The frequency of embarked\n",
        "data['embarked'].value_counts()\n"
      ],
      "execution_count": null,
      "outputs": []
    },
    {
      "cell_type": "markdown",
      "metadata": {
        "id": "B7Zg-qpWbVFa"
      },
      "source": [
        "Question - - Average age of the woman passengers:\n",
        "\n",
        "\n"
      ]
    },
    {
      "cell_type": "code",
      "metadata": {
        "id": "Jb8civE0bfFX"
      },
      "source": [
        "data[data.who=='woman'].age.mean()"
      ],
      "execution_count": null,
      "outputs": []
    },
    {
      "cell_type": "markdown",
      "metadata": {
        "id": "1F7KPuXKcdHW"
      },
      "source": [
        "Question -- Average age of the male student"
      ]
    },
    {
      "cell_type": "code",
      "metadata": {
        "id": "n9IiHi8Mcj23"
      },
      "source": [
        "data[data.sex=='male'].age.mean()"
      ],
      "execution_count": null,
      "outputs": []
    },
    {
      "cell_type": "markdown",
      "metadata": {
        "id": "OW6MlhZSdMce"
      },
      "source": [
        "Question -- The max age among the male passengers:"
      ]
    },
    {
      "cell_type": "code",
      "metadata": {
        "id": "rfw83MAya-EF"
      },
      "source": [
        "data[data.sex=='male'].age.max()\n"
      ],
      "execution_count": null,
      "outputs": []
    },
    {
      "cell_type": "markdown",
      "metadata": {
        "id": "x6BSAfOAB611"
      },
      "source": [
        "Question -- Create a new column age2 = age +12"
      ]
    },
    {
      "cell_type": "code",
      "metadata": {
        "id": "bIcjZI8PCDwz"
      },
      "source": [
        "data['age2'] = data.age+12"
      ],
      "execution_count": null,
      "outputs": []
    },
    {
      "cell_type": "markdown",
      "metadata": {
        "id": "pdLsP8cWdj0k"
      },
      "source": [
        "Question -- The min age among the female passengers:"
      ]
    },
    {
      "cell_type": "code",
      "metadata": {
        "id": "Jx-Pu6FzbRwL"
      },
      "source": [
        "data[data.sex=='female'].age.min()"
      ],
      "execution_count": null,
      "outputs": []
    },
    {
      "cell_type": "code",
      "metadata": {
        "id": "5KZ3kbCEd824"
      },
      "source": [
        "l"
      ],
      "execution_count": null,
      "outputs": []
    },
    {
      "cell_type": "markdown",
      "metadata": {
        "id": "-6_Ucvq6dv3f"
      },
      "source": [
        "Question -- The min age among the alive male passengers."
      ]
    },
    {
      "cell_type": "code",
      "metadata": {
        "id": "tfEVqtd4dhMR"
      },
      "source": [
        "data[(data.alive== 'yes') & (data.sex=='male')].age.min()"
      ],
      "execution_count": null,
      "outputs": []
    },
    {
      "cell_type": "markdown",
      "metadata": {
        "id": "O7H-H5IYggkP"
      },
      "source": [
        "Question -- Average age of the **male** passengers in First or Second class:"
      ]
    },
    {
      "cell_type": "code",
      "metadata": {
        "id": "6Wbx9_aDg0Ej"
      },
      "source": [
        "#Rename columns class\n",
        "data.rename(columns={'class':'classe'}, inplace=True)"
      ],
      "execution_count": null,
      "outputs": []
    },
    {
      "cell_type": "code",
      "metadata": {
        "id": "SJKJztCCiFWO"
      },
      "source": [
        "data[((data.classe=='First') | (data.classe=='Third')) & (data.sex=='male')].age.mean()"
      ],
      "execution_count": null,
      "outputs": []
    },
    {
      "cell_type": "markdown",
      "metadata": {
        "id": "8hiq1hLtgLko"
      },
      "source": [
        "Question -- Total age of embarked equals to S or C."
      ]
    },
    {
      "cell_type": "code",
      "metadata": {
        "id": "_3SoQ6GXeHoo"
      },
      "source": [
        "data[(data.embarked=='S') | (data.embarked == 'C')].age.sum()"
      ],
      "execution_count": null,
      "outputs": []
    },
    {
      "cell_type": "markdown",
      "metadata": {
        "id": "sJTFQSTgoJk8"
      },
      "source": [
        "Question -- Sort the DataFrame in ascending order of the 'age' use sort values (df.sort_values(by='...', ascending=...))."
      ]
    },
    {
      "cell_type": "code",
      "metadata": {
        "id": "o3k0GewcfiGx"
      },
      "source": [
        ""
      ],
      "execution_count": null,
      "outputs": []
    },
    {
      "cell_type": "markdown",
      "metadata": {
        "id": "2TGchYEX-E8C"
      },
      "source": [
        "**Aggregating**\n",
        "\n",
        "\n",
        "Documentation : https://pbpython.com/groupby-agg.html\n"
      ]
    },
    {
      "cell_type": "markdown",
      "metadata": {
        "id": "0G1iaCSa-Wyv"
      },
      "source": [
        "Aggregation function is one which takes multiple individual values and returns a summary.\n",
        "\n",
        "The most common aggregation functions are a simple average or summation of values.\n",
        "\n",
        "Here’s a quick example of calculating the total and average fare using the Titanic dataset (loaded from seaborn):"
      ]
    },
    {
      "cell_type": "code",
      "metadata": {
        "id": "STj8J2DpoMsm"
      },
      "source": [
        "data['fare'].agg(['sum', 'mean'])"
      ],
      "execution_count": null,
      "outputs": []
    },
    {
      "cell_type": "code",
      "metadata": {
        "id": "LSEEvDBiE7z_"
      },
      "source": [
        "agg_func_math = {\n",
        "    'fare':\n",
        "    ['sum', 'mean', 'median', 'min', 'max', 'std', 'var', 'mad', 'prod']\n",
        "}\n",
        "data.groupby(['embark_town']).agg(agg_func_math).round(2)\n"
      ],
      "execution_count": null,
      "outputs": []
    },
    {
      "cell_type": "markdown",
      "metadata": {
        "id": "XQh3iCMRAEIL"
      },
      "source": [
        "Question -- Average age for each embark_town. Use the groupby() method.\n"
      ]
    },
    {
      "cell_type": "code",
      "metadata": {
        "id": "DEi5HPdWqhXg"
      },
      "source": [
        "data.groupby('embark_town')['age'].mean()"
      ],
      "execution_count": null,
      "outputs": []
    },
    {
      "cell_type": "code",
      "metadata": {
        "id": "ni-YmHnPA11s"
      },
      "source": [
        ""
      ],
      "execution_count": null,
      "outputs": []
    },
    {
      "cell_type": "markdown",
      "metadata": {
        "id": "jfDMb0z2_wf9"
      },
      "source": [
        "\n",
        "**Pivot Table**\n",
        "\n",
        "Documentation : \n",
        "\n",
        "https://pandas.pydata.org/pandas-docs/stable/reference/api/pandas.pivot_table.html"
      ]
    },
    {
      "cell_type": "markdown",
      "metadata": {
        "id": "oyBdnE9-gbyQ"
      },
      "source": [
        "Average age of each embark_town. Use the pivot_table() method.\n"
      ]
    },
    {
      "cell_type": "code",
      "metadata": {
        "id": "M_ba7TJCqiqv"
      },
      "source": [
        "data.pivot_table(index = 'embark_town', values = 'age', aggfunc=np.mean)"
      ],
      "execution_count": null,
      "outputs": []
    },
    {
      "cell_type": "markdown",
      "metadata": {
        "id": "6n5f8BPl_9Ir"
      },
      "source": [
        "Question -- Average age and age2 for each embark_town. Use the groupby() method. "
      ]
    },
    {
      "cell_type": "code",
      "metadata": {
        "id": "QY9Cd_d3_6G_"
      },
      "source": [
        "data.groupby('embark_town')[['age', 'age2']].mean()"
      ],
      "execution_count": null,
      "outputs": []
    },
    {
      "cell_type": "markdown",
      "metadata": {
        "id": "0X8tFwPRCayV"
      },
      "source": [
        "Question -- Total age for each embark_town and class in one code sentence. Use the pivot_table() method. Fill the missing values with 0."
      ]
    },
    {
      "cell_type": "code",
      "metadata": {
        "id": "55qZGclbCwgL"
      },
      "source": [
        "data.pivot_table(index='embark_town', columns = 'classe', values = 'age', aggfunc=np.sum, fill_value=0 )"
      ],
      "execution_count": null,
      "outputs": []
    },
    {
      "cell_type": "code",
      "metadata": {
        "id": "I-oaJ0lpDLOj"
      },
      "source": [
        "data.pivot_table(index=['embark_town', 'class'], values = 'age', aggfunc=np.sum, fill_value=0 )"
      ],
      "execution_count": null,
      "outputs": []
    },
    {
      "cell_type": "markdown",
      "metadata": {
        "id": "3lC5F1L6kF50"
      },
      "source": [
        "Total age2 of age equal to 22 and 38:"
      ]
    },
    {
      "cell_type": "code",
      "metadata": {
        "id": "4QPgi4PPlAwV"
      },
      "source": [
        "data[(data.age==22) | (data.age==38)].age2.sum()"
      ],
      "execution_count": null,
      "outputs": []
    },
    {
      "cell_type": "markdown",
      "metadata": {
        "id": "-s--PYdbeADk"
      },
      "source": [
        "Print a frequency table of 'who' use 'value_counts()'\n",
        "\n",
        "> Indented block\n",
        "\n"
      ]
    },
    {
      "cell_type": "code",
      "metadata": {
        "id": "appo4UVreL1S"
      },
      "source": [
        "data.who.value_counts()"
      ],
      "execution_count": null,
      "outputs": []
    },
    {
      "cell_type": "markdown",
      "metadata": {
        "id": "uaZKzVQzhUM-"
      },
      "source": [
        "Question -- Sort the DataFrame in ascending order of the 'embark_town'. Show the top 20.\n"
      ]
    },
    {
      "cell_type": "code",
      "metadata": {
        "id": "aF-1PGkFhiZ0"
      },
      "source": [
        "data.sort_values(by='embark_town',ascending=False).head(20)"
      ],
      "execution_count": null,
      "outputs": []
    },
    {
      "cell_type": "markdown",
      "metadata": {
        "id": "xeYV2NvAjEl9"
      },
      "source": [
        "Average age2 and age for each classe in one code sentence. Use the pivot_table() method. "
      ]
    },
    {
      "cell_type": "code",
      "metadata": {
        "id": "1-UQIlAGjHQV"
      },
      "source": [
        "data.pivot_table(index='classe',values=['age','age2'],aggfunc=np.mean)"
      ],
      "execution_count": null,
      "outputs": []
    },
    {
      "cell_type": "code",
      "metadata": {
        "id": "vydMOHmHkIgS"
      },
      "source": [
        "data.groupby('classe')['age','age2'].mean()"
      ],
      "execution_count": null,
      "outputs": []
    },
    {
      "cell_type": "markdown",
      "metadata": {
        "id": "kmcz8XoXmm1t"
      },
      "source": [
        "\n",
        "\n",
        "---\n",
        "\n",
        "\n",
        "\n",
        "---\n",
        "\n",
        "\n",
        "\n",
        "---\n",
        "\n"
      ]
    },
    {
      "cell_type": "markdown",
      "metadata": {
        "id": "xkEQnV_rmTUg"
      },
      "source": [
        "**Data Visualization!!!!**\n",
        "\n",
        "\n",
        "---\n",
        "\n",
        "\n",
        "\n",
        "---\n",
        "\n",
        "\n"
      ]
    },
    {
      "cell_type": "markdown",
      "metadata": {
        "id": "GNpC68ern_qa"
      },
      "source": [
        "Pie plot!"
      ]
    },
    {
      "cell_type": "code",
      "metadata": {
        "id": "UvyZ5IJRmia-"
      },
      "source": [
        "data.sex.value_counts().plot(kind = \"pie\", autopct='%1.1f%%');"
      ],
      "execution_count": null,
      "outputs": []
    },
    {
      "cell_type": "markdown",
      "metadata": {
        "id": "w7kHaWPOnQk7"
      },
      "source": [
        "This chart shows there were more men than women in the titanic.\n"
      ]
    },
    {
      "cell_type": "code",
      "metadata": {
        "id": "VwAr5qXrni7q"
      },
      "source": [
        "data.survived.value_counts().plot(kind = \"bar\");"
      ],
      "execution_count": null,
      "outputs": []
    },
    {
      "cell_type": "markdown",
      "metadata": {
        "id": "u9mW-Ia2np2l"
      },
      "source": [
        "Most of the passengers died in this shipwreck.\n"
      ]
    },
    {
      "cell_type": "markdown",
      "metadata": {
        "id": "pKfyZoChoFSf"
      },
      "source": [
        "Line Plot!!!\n",
        "The relationship between x and y can be shown for different subsets of the data using the hue, size, and style parameters.\n",
        "\n",
        "For Documentation;\n",
        "\n",
        "https://seaborn.pydata.org/generated/seaborn.lineplot.html"
      ]
    },
    {
      "cell_type": "code",
      "metadata": {
        "id": "g4e8KYeFnqV0"
      },
      "source": [
        "sns.lineplot(x = \"age\", y = \"survived\", data = data)\n"
      ],
      "execution_count": null,
      "outputs": []
    },
    {
      "cell_type": "code",
      "metadata": {
        "id": "eNh-aJ1Tp29C"
      },
      "source": [
        "#Other survival rate visualization by age\n",
        "\n",
        "sns.lineplot(x = \"age\", y = \"survived\",hue = \"sex\", data = data);\n"
      ],
      "execution_count": null,
      "outputs": []
    },
    {
      "cell_type": "markdown",
      "metadata": {
        "id": "BHcDFhuTpyd8"
      },
      "source": [
        "It is clearly made that women are meaningfully separated from men.\n",
        "\n",
        "it seems that there is no gender difference for children."
      ]
    },
    {
      "cell_type": "markdown",
      "metadata": {
        "id": "TE5eDeJVqdEF"
      },
      "source": [
        "# Scatter Plot!!\n",
        "\n",
        "\n",
        "```\n",
        "\n",
        "```\n",
        "Scatter plot shows us the relationship between numerical variables, that is, when these 2 variables are evaluated together, they inform us about the structure that occurs in the data set.\n",
        "\n",
        "Yes how to create a scatter plot;\n",
        "\n",
        "A continuous variable is written on our x axis. Another numerical variable is written on the y axis.\n",
        "\n"
      ]
    },
    {
      "cell_type": "code",
      "metadata": {
        "id": "7s20QSAioEHB"
      },
      "source": [
        "sns.scatterplot(x = \"age\", y = \"fare\", data = data)"
      ],
      "execution_count": null,
      "outputs": []
    },
    {
      "cell_type": "markdown",
      "metadata": {
        "id": "A6sVcdmvq6x6"
      },
      "source": [
        "scatter plot is a visual form of correlation analysis, which is a statistical technique.\n",
        "what is required; it is necessary to understand how this data is formed in detail with some crosses.\n",
        "scatter plot expresses the relationship between numerical variables.\n",
        "This graphic can give us information about the direction of the relationship, and in this plot which we created does not appear relationship."
      ]
    },
    {
      "cell_type": "markdown",
      "metadata": {
        "id": "YIUCoKyGrsnh"
      },
      "source": [
        "# Let's use matplotlib!!\n",
        "\n",
        "Documentation:\n",
        "https://matplotlib.org/stable/tutorials/introductory/pyplot.html"
      ]
    },
    {
      "cell_type": "code",
      "metadata": {
        "id": "abKeZe1Nrmuw"
      },
      "source": [
        "import matplotlib.pyplot as plt"
      ],
      "execution_count": null,
      "outputs": []
    },
    {
      "cell_type": "markdown",
      "metadata": {
        "id": "LQBa3YrlvZte"
      },
      "source": [
        "Bar plot!!"
      ]
    },
    {
      "cell_type": "code",
      "metadata": {
        "id": "AkvEEfjIvaE-"
      },
      "source": [
        "data.survived.value_counts().plot(kind=\"bar\")"
      ],
      "execution_count": null,
      "outputs": []
    },
    {
      "cell_type": "markdown",
      "metadata": {
        "id": "Dp9f2h6lwDF9"
      },
      "source": [
        "We can obviously see that approximate of 350 people survived and 550 people died, we can use normalization technique inorder to view concreate percentages. (I am gonna copy paste the above cell code with the addition of normalization parameter )"
      ]
    },
    {
      "cell_type": "markdown",
      "metadata": {
        "id": "l5R3X6oywHQw"
      },
      "source": [
        "Line Plot!!"
      ]
    },
    {
      "cell_type": "code",
      "metadata": {
        "id": "9ByJmExnqs9b"
      },
      "source": [
        "fig = plt.figure(figsize=[5,3])\n",
        "\n",
        "plt.plot(data.age, data.age2, color = 'blue')\n",
        "plt.plot(data.age2, data.age,color = 'green')\n",
        "plt.show()"
      ],
      "execution_count": null,
      "outputs": []
    },
    {
      "cell_type": "markdown",
      "metadata": {
        "id": "d3ckrBVXxHKX"
      },
      "source": [
        "Generate Kernel Density Estimate plot using Gaussian kernels:\n",
        "Documentation:\n",
        "https://pandas.pydata.org/docs/reference/api/pandas.DataFrame.plot.kde.html"
      ]
    },
    {
      "cell_type": "code",
      "metadata": {
        "id": "P0TU-FZgysEc"
      },
      "source": [
        "s = pd.Series([1, 2, 2.5, 3, 3.5, 4, 5])\n",
        "d= pd.Series([1, 20, 12.5, 3, 3.5, 4, 5])\n",
        "\n",
        "s.plot(kind='kde')    \n",
        "d.plot(kind='kde')\n",
        "# plots an axis lable\n",
        "plt.xlabel(\"Serie\")    \n",
        "plt.title(\"Distribution\")\n",
        "# sets our legend for our graph.\n",
        "plt.legend(('1st Class', '2nd Class'),loc='best') "
      ],
      "execution_count": null,
      "outputs": []
    },
    {
      "cell_type": "markdown",
      "metadata": {
        "id": "6uUSPKVF2D-z"
      },
      "source": [
        "Exemple 1 :"
      ]
    },
    {
      "cell_type": "code",
      "metadata": {
        "id": "V5wsHmMj2GS1"
      },
      "source": [
        "x=np.linspace(0,10,500)\n",
        "#np.linespace :Return evenly spaced numbers over a specified interval.Returns num evenly spaced samples, \n",
        "#calculated over the #interval [start, stop].The endpoint of the interval can optionally be excluded.\n",
        "y=np.sin(2 * np.pi * x)+1\n",
        "fig = plt.figure(figsize=(8, 4))\n",
        "plt.plot(x,y)\n",
        "plt.title(\"Setting range of Axes\",fontsize=25)\n",
        "plt.xlabel(\"x\",fontsize=18)\n",
        "plt.ylabel(\"1+sinx\",fontsize=18)\n",
        "plt.xlim(4,8)\n",
        "plt.ylim(-0.5,2.5)\n",
        "plt.show()"
      ],
      "execution_count": null,
      "outputs": []
    },
    {
      "cell_type": "code",
      "metadata": {
        "id": "hdYsIVpq4Ukn"
      },
      "source": [
        ""
      ],
      "execution_count": null,
      "outputs": []
    }
  ]
}