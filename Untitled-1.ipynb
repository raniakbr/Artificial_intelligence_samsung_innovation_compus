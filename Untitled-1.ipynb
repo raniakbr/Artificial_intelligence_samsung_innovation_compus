{
 "cells": [
  {
   "cell_type": "code",
   "execution_count": 4,
   "metadata": {},
   "outputs": [
    {
     "name": "stdout",
     "output_type": "stream",
     "text": [
      "[30, 42]\n"
     ]
    }
   ],
   "source": [
    "inputs = [1,2,3]\r\n",
    "weight1 = [2,4,5]\r\n",
    "weight2 = [5,6,7]\r\n",
    "weights = [[2,4,5],[5,6,7]]\r\n",
    "biases = [5,4]\r\n",
    "\r\n",
    "o = inputs[0]*weight1[0]+inputs[1]*weight1[1]+ inputs[2] *weight1[2]+biases[0]\r\n",
    "o2 = inputs[0]*weight2[0]+inputs[1]*weight2[1]+ inputs[2] *weight1[2]+biases[1]\r\n",
    "\r\n",
    "print(o,o2)\r\n",
    "l_o =[]\r\n",
    "\r\n",
    "for w_,b in zip(weights,biases) :\r\n",
    "    n_o = 0\r\n",
    "    for i,w in zip(inputs,w_):\r\n",
    "        n_o += i*w\r\n",
    "    n_o += b\r\n",
    "    l_o.append(n_o)\r\n",
    "print(l_o)\r\n",
    "\r\n"
   ]
  }
 ],
 "metadata": {
  "interpreter": {
   "hash": "b3ed8e708b643839dc49c9e4479760f0fed46f4af64d471bc476f8b8b680b9fd"
  },
  "kernelspec": {
   "display_name": "Python 3.9.6 64-bit",
   "name": "python3"
  },
  "language_info": {
   "codemirror_mode": {
    "name": "ipython",
    "version": 3
   },
   "file_extension": ".py",
   "mimetype": "text/x-python",
   "name": "python",
   "nbconvert_exporter": "python",
   "pygments_lexer": "ipython3",
   "version": "3.9.6"
  },
  "orig_nbformat": 4
 },
 "nbformat": 4,
 "nbformat_minor": 2
}