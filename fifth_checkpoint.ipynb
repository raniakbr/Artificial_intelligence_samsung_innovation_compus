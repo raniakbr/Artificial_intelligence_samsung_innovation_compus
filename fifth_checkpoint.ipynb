{
    "cells": [
        {
            "cell_type": "code",
            "execution_count": 277,
            "source": [
                "import pandas as pd\r\n",
                "import seaborn as sns\r\n",
                "from sklearn.model_selection import train_test_split\r\n",
                "from sklearn.metrics import mean_squared_error, accuracy_score,recall_score, confusion_matrix\r\n",
                "from sklearn.linear_model import LogisticRegression\r\n",
                "from sklearn.metrics import classification_report\r\n",
                "from sklearn import metrics\r\n",
                "import seaborn as sns\r\n",
                "import matplotlib.pyplot as plt\r\n",
                "from sklearn.metrics import roc_curve\r\n",
                "from sklearn.metrics import roc_auc_score"
            ],
            "outputs": [],
            "metadata": {}
        },
        {
            "cell_type": "code",
            "execution_count": null,
            "source": [],
            "outputs": [],
            "metadata": {}
        },
        {
            "cell_type": "code",
            "execution_count": 278,
            "source": [
                "df = pd.read_csv('titanic-passengers.csv',encoding=\"ISO-8859-1\",delimiter=';')\r\n",
                "df.head()"
            ],
            "outputs": [
                {
                    "output_type": "execute_result",
                    "data": {
                        "text/plain": [
                            "   PassengerId Survived  Pclass                                         Name  \\\n",
                            "0          343       No       2                   Collander, Mr. Erik Gustaf   \n",
                            "1           76       No       3                      Moen, Mr. Sigurd Hansen   \n",
                            "2          641       No       3                       Jensen, Mr. Hans Peder   \n",
                            "3          568       No       3  Palsson, Mrs. Nils (Alma Cornelia Berglund)   \n",
                            "4          672       No       1                       Davidson, Mr. Thornton   \n",
                            "\n",
                            "      Sex   Age  SibSp  Parch      Ticket     Fare  Cabin Embarked  \n",
                            "0    male  28.0      0      0      248740  13.0000    NaN        S  \n",
                            "1    male  25.0      0      0      348123   7.6500  F G73        S  \n",
                            "2    male  20.0      0      0      350050   7.8542    NaN        S  \n",
                            "3  female  29.0      0      4      349909  21.0750    NaN        S  \n",
                            "4    male  31.0      1      0  F.C. 12750  52.0000    B71        S  "
                        ],
                        "text/html": [
                            "<div>\n",
                            "<style scoped>\n",
                            "    .dataframe tbody tr th:only-of-type {\n",
                            "        vertical-align: middle;\n",
                            "    }\n",
                            "\n",
                            "    .dataframe tbody tr th {\n",
                            "        vertical-align: top;\n",
                            "    }\n",
                            "\n",
                            "    .dataframe thead th {\n",
                            "        text-align: right;\n",
                            "    }\n",
                            "</style>\n",
                            "<table border=\"1\" class=\"dataframe\">\n",
                            "  <thead>\n",
                            "    <tr style=\"text-align: right;\">\n",
                            "      <th></th>\n",
                            "      <th>PassengerId</th>\n",
                            "      <th>Survived</th>\n",
                            "      <th>Pclass</th>\n",
                            "      <th>Name</th>\n",
                            "      <th>Sex</th>\n",
                            "      <th>Age</th>\n",
                            "      <th>SibSp</th>\n",
                            "      <th>Parch</th>\n",
                            "      <th>Ticket</th>\n",
                            "      <th>Fare</th>\n",
                            "      <th>Cabin</th>\n",
                            "      <th>Embarked</th>\n",
                            "    </tr>\n",
                            "  </thead>\n",
                            "  <tbody>\n",
                            "    <tr>\n",
                            "      <th>0</th>\n",
                            "      <td>343</td>\n",
                            "      <td>No</td>\n",
                            "      <td>2</td>\n",
                            "      <td>Collander, Mr. Erik Gustaf</td>\n",
                            "      <td>male</td>\n",
                            "      <td>28.0</td>\n",
                            "      <td>0</td>\n",
                            "      <td>0</td>\n",
                            "      <td>248740</td>\n",
                            "      <td>13.0000</td>\n",
                            "      <td>NaN</td>\n",
                            "      <td>S</td>\n",
                            "    </tr>\n",
                            "    <tr>\n",
                            "      <th>1</th>\n",
                            "      <td>76</td>\n",
                            "      <td>No</td>\n",
                            "      <td>3</td>\n",
                            "      <td>Moen, Mr. Sigurd Hansen</td>\n",
                            "      <td>male</td>\n",
                            "      <td>25.0</td>\n",
                            "      <td>0</td>\n",
                            "      <td>0</td>\n",
                            "      <td>348123</td>\n",
                            "      <td>7.6500</td>\n",
                            "      <td>F G73</td>\n",
                            "      <td>S</td>\n",
                            "    </tr>\n",
                            "    <tr>\n",
                            "      <th>2</th>\n",
                            "      <td>641</td>\n",
                            "      <td>No</td>\n",
                            "      <td>3</td>\n",
                            "      <td>Jensen, Mr. Hans Peder</td>\n",
                            "      <td>male</td>\n",
                            "      <td>20.0</td>\n",
                            "      <td>0</td>\n",
                            "      <td>0</td>\n",
                            "      <td>350050</td>\n",
                            "      <td>7.8542</td>\n",
                            "      <td>NaN</td>\n",
                            "      <td>S</td>\n",
                            "    </tr>\n",
                            "    <tr>\n",
                            "      <th>3</th>\n",
                            "      <td>568</td>\n",
                            "      <td>No</td>\n",
                            "      <td>3</td>\n",
                            "      <td>Palsson, Mrs. Nils (Alma Cornelia Berglund)</td>\n",
                            "      <td>female</td>\n",
                            "      <td>29.0</td>\n",
                            "      <td>0</td>\n",
                            "      <td>4</td>\n",
                            "      <td>349909</td>\n",
                            "      <td>21.0750</td>\n",
                            "      <td>NaN</td>\n",
                            "      <td>S</td>\n",
                            "    </tr>\n",
                            "    <tr>\n",
                            "      <th>4</th>\n",
                            "      <td>672</td>\n",
                            "      <td>No</td>\n",
                            "      <td>1</td>\n",
                            "      <td>Davidson, Mr. Thornton</td>\n",
                            "      <td>male</td>\n",
                            "      <td>31.0</td>\n",
                            "      <td>1</td>\n",
                            "      <td>0</td>\n",
                            "      <td>F.C. 12750</td>\n",
                            "      <td>52.0000</td>\n",
                            "      <td>B71</td>\n",
                            "      <td>S</td>\n",
                            "    </tr>\n",
                            "  </tbody>\n",
                            "</table>\n",
                            "</div>"
                        ]
                    },
                    "metadata": {},
                    "execution_count": 278
                }
            ],
            "metadata": {}
        },
        {
            "cell_type": "code",
            "execution_count": 279,
            "source": [
                "#shape of the dataframe\r\n",
                "print(df.shape)\r\n",
                "\r\n",
                "#verify if there is any null data\r\n",
                "df.isnull().sum()"
            ],
            "outputs": [
                {
                    "output_type": "stream",
                    "name": "stdout",
                    "text": [
                        "(891, 12)\n"
                    ]
                },
                {
                    "output_type": "execute_result",
                    "data": {
                        "text/plain": [
                            "PassengerId      0\n",
                            "Survived         0\n",
                            "Pclass           0\n",
                            "Name             0\n",
                            "Sex              0\n",
                            "Age            177\n",
                            "SibSp            0\n",
                            "Parch            0\n",
                            "Ticket           0\n",
                            "Fare             0\n",
                            "Cabin          687\n",
                            "Embarked         2\n",
                            "dtype: int64"
                        ]
                    },
                    "metadata": {},
                    "execution_count": 279
                }
            ],
            "metadata": {}
        },
        {
            "cell_type": "markdown",
            "source": [
                "Based on third checkpoint results the chosen features for this study are  : Age, Sex , Family size"
            ],
            "metadata": {}
        },
        {
            "cell_type": "code",
            "execution_count": 280,
            "source": [
                "# filling the missing information with their mean\r\n",
                "df[\"Age\"].fillna(df.Age.mean(), inplace=True)"
            ],
            "outputs": [],
            "metadata": {}
        },
        {
            "cell_type": "code",
            "execution_count": 281,
            "source": [
                "df_ = pd.DataFrame()\r\n",
                "df[\"FamilySize\"] = df.SibSp + df.Parch\r\n",
                "df"
            ],
            "outputs": [
                {
                    "output_type": "execute_result",
                    "data": {
                        "text/plain": [
                            "     PassengerId Survived  Pclass  \\\n",
                            "0            343       No       2   \n",
                            "1             76       No       3   \n",
                            "2            641       No       3   \n",
                            "3            568       No       3   \n",
                            "4            672       No       1   \n",
                            "..           ...      ...     ...   \n",
                            "886           10      Yes       2   \n",
                            "887           61       No       3   \n",
                            "888          535       No       3   \n",
                            "889          102       No       3   \n",
                            "890          428      Yes       2   \n",
                            "\n",
                            "                                                  Name     Sex        Age  \\\n",
                            "0                           Collander, Mr. Erik Gustaf    male  28.000000   \n",
                            "1                              Moen, Mr. Sigurd Hansen    male  25.000000   \n",
                            "2                               Jensen, Mr. Hans Peder    male  20.000000   \n",
                            "3          Palsson, Mrs. Nils (Alma Cornelia Berglund)  female  29.000000   \n",
                            "4                               Davidson, Mr. Thornton    male  31.000000   \n",
                            "..                                                 ...     ...        ...   \n",
                            "886                Nasser, Mrs. Nicholas (Adele Achem)  female  14.000000   \n",
                            "887                              Sirayanian, Mr. Orsen    male  22.000000   \n",
                            "888                                Cacic, Miss. Marija  female  30.000000   \n",
                            "889                   Petroff, Mr. Pastcho (\"Pentcho\")    male  29.699118   \n",
                            "890  Phillips, Miss. Kate Florence (\"Mrs Kate Louis...  female  19.000000   \n",
                            "\n",
                            "     SibSp  Parch      Ticket     Fare  Cabin Embarked  FamilySize  \n",
                            "0        0      0      248740  13.0000    NaN        S           0  \n",
                            "1        0      0      348123   7.6500  F G73        S           0  \n",
                            "2        0      0      350050   7.8542    NaN        S           0  \n",
                            "3        0      4      349909  21.0750    NaN        S           4  \n",
                            "4        1      0  F.C. 12750  52.0000    B71        S           1  \n",
                            "..     ...    ...         ...      ...    ...      ...         ...  \n",
                            "886      1      0      237736  30.0708    NaN        C           1  \n",
                            "887      0      0        2669   7.2292    NaN        C           0  \n",
                            "888      0      0      315084   8.6625    NaN        S           0  \n",
                            "889      0      0      349215   7.8958    NaN        S           0  \n",
                            "890      0      0      250655  26.0000    NaN        S           0  \n",
                            "\n",
                            "[891 rows x 13 columns]"
                        ],
                        "text/html": [
                            "<div>\n",
                            "<style scoped>\n",
                            "    .dataframe tbody tr th:only-of-type {\n",
                            "        vertical-align: middle;\n",
                            "    }\n",
                            "\n",
                            "    .dataframe tbody tr th {\n",
                            "        vertical-align: top;\n",
                            "    }\n",
                            "\n",
                            "    .dataframe thead th {\n",
                            "        text-align: right;\n",
                            "    }\n",
                            "</style>\n",
                            "<table border=\"1\" class=\"dataframe\">\n",
                            "  <thead>\n",
                            "    <tr style=\"text-align: right;\">\n",
                            "      <th></th>\n",
                            "      <th>PassengerId</th>\n",
                            "      <th>Survived</th>\n",
                            "      <th>Pclass</th>\n",
                            "      <th>Name</th>\n",
                            "      <th>Sex</th>\n",
                            "      <th>Age</th>\n",
                            "      <th>SibSp</th>\n",
                            "      <th>Parch</th>\n",
                            "      <th>Ticket</th>\n",
                            "      <th>Fare</th>\n",
                            "      <th>Cabin</th>\n",
                            "      <th>Embarked</th>\n",
                            "      <th>FamilySize</th>\n",
                            "    </tr>\n",
                            "  </thead>\n",
                            "  <tbody>\n",
                            "    <tr>\n",
                            "      <th>0</th>\n",
                            "      <td>343</td>\n",
                            "      <td>No</td>\n",
                            "      <td>2</td>\n",
                            "      <td>Collander, Mr. Erik Gustaf</td>\n",
                            "      <td>male</td>\n",
                            "      <td>28.000000</td>\n",
                            "      <td>0</td>\n",
                            "      <td>0</td>\n",
                            "      <td>248740</td>\n",
                            "      <td>13.0000</td>\n",
                            "      <td>NaN</td>\n",
                            "      <td>S</td>\n",
                            "      <td>0</td>\n",
                            "    </tr>\n",
                            "    <tr>\n",
                            "      <th>1</th>\n",
                            "      <td>76</td>\n",
                            "      <td>No</td>\n",
                            "      <td>3</td>\n",
                            "      <td>Moen, Mr. Sigurd Hansen</td>\n",
                            "      <td>male</td>\n",
                            "      <td>25.000000</td>\n",
                            "      <td>0</td>\n",
                            "      <td>0</td>\n",
                            "      <td>348123</td>\n",
                            "      <td>7.6500</td>\n",
                            "      <td>F G73</td>\n",
                            "      <td>S</td>\n",
                            "      <td>0</td>\n",
                            "    </tr>\n",
                            "    <tr>\n",
                            "      <th>2</th>\n",
                            "      <td>641</td>\n",
                            "      <td>No</td>\n",
                            "      <td>3</td>\n",
                            "      <td>Jensen, Mr. Hans Peder</td>\n",
                            "      <td>male</td>\n",
                            "      <td>20.000000</td>\n",
                            "      <td>0</td>\n",
                            "      <td>0</td>\n",
                            "      <td>350050</td>\n",
                            "      <td>7.8542</td>\n",
                            "      <td>NaN</td>\n",
                            "      <td>S</td>\n",
                            "      <td>0</td>\n",
                            "    </tr>\n",
                            "    <tr>\n",
                            "      <th>3</th>\n",
                            "      <td>568</td>\n",
                            "      <td>No</td>\n",
                            "      <td>3</td>\n",
                            "      <td>Palsson, Mrs. Nils (Alma Cornelia Berglund)</td>\n",
                            "      <td>female</td>\n",
                            "      <td>29.000000</td>\n",
                            "      <td>0</td>\n",
                            "      <td>4</td>\n",
                            "      <td>349909</td>\n",
                            "      <td>21.0750</td>\n",
                            "      <td>NaN</td>\n",
                            "      <td>S</td>\n",
                            "      <td>4</td>\n",
                            "    </tr>\n",
                            "    <tr>\n",
                            "      <th>4</th>\n",
                            "      <td>672</td>\n",
                            "      <td>No</td>\n",
                            "      <td>1</td>\n",
                            "      <td>Davidson, Mr. Thornton</td>\n",
                            "      <td>male</td>\n",
                            "      <td>31.000000</td>\n",
                            "      <td>1</td>\n",
                            "      <td>0</td>\n",
                            "      <td>F.C. 12750</td>\n",
                            "      <td>52.0000</td>\n",
                            "      <td>B71</td>\n",
                            "      <td>S</td>\n",
                            "      <td>1</td>\n",
                            "    </tr>\n",
                            "    <tr>\n",
                            "      <th>...</th>\n",
                            "      <td>...</td>\n",
                            "      <td>...</td>\n",
                            "      <td>...</td>\n",
                            "      <td>...</td>\n",
                            "      <td>...</td>\n",
                            "      <td>...</td>\n",
                            "      <td>...</td>\n",
                            "      <td>...</td>\n",
                            "      <td>...</td>\n",
                            "      <td>...</td>\n",
                            "      <td>...</td>\n",
                            "      <td>...</td>\n",
                            "      <td>...</td>\n",
                            "    </tr>\n",
                            "    <tr>\n",
                            "      <th>886</th>\n",
                            "      <td>10</td>\n",
                            "      <td>Yes</td>\n",
                            "      <td>2</td>\n",
                            "      <td>Nasser, Mrs. Nicholas (Adele Achem)</td>\n",
                            "      <td>female</td>\n",
                            "      <td>14.000000</td>\n",
                            "      <td>1</td>\n",
                            "      <td>0</td>\n",
                            "      <td>237736</td>\n",
                            "      <td>30.0708</td>\n",
                            "      <td>NaN</td>\n",
                            "      <td>C</td>\n",
                            "      <td>1</td>\n",
                            "    </tr>\n",
                            "    <tr>\n",
                            "      <th>887</th>\n",
                            "      <td>61</td>\n",
                            "      <td>No</td>\n",
                            "      <td>3</td>\n",
                            "      <td>Sirayanian, Mr. Orsen</td>\n",
                            "      <td>male</td>\n",
                            "      <td>22.000000</td>\n",
                            "      <td>0</td>\n",
                            "      <td>0</td>\n",
                            "      <td>2669</td>\n",
                            "      <td>7.2292</td>\n",
                            "      <td>NaN</td>\n",
                            "      <td>C</td>\n",
                            "      <td>0</td>\n",
                            "    </tr>\n",
                            "    <tr>\n",
                            "      <th>888</th>\n",
                            "      <td>535</td>\n",
                            "      <td>No</td>\n",
                            "      <td>3</td>\n",
                            "      <td>Cacic, Miss. Marija</td>\n",
                            "      <td>female</td>\n",
                            "      <td>30.000000</td>\n",
                            "      <td>0</td>\n",
                            "      <td>0</td>\n",
                            "      <td>315084</td>\n",
                            "      <td>8.6625</td>\n",
                            "      <td>NaN</td>\n",
                            "      <td>S</td>\n",
                            "      <td>0</td>\n",
                            "    </tr>\n",
                            "    <tr>\n",
                            "      <th>889</th>\n",
                            "      <td>102</td>\n",
                            "      <td>No</td>\n",
                            "      <td>3</td>\n",
                            "      <td>Petroff, Mr. Pastcho (\"Pentcho\")</td>\n",
                            "      <td>male</td>\n",
                            "      <td>29.699118</td>\n",
                            "      <td>0</td>\n",
                            "      <td>0</td>\n",
                            "      <td>349215</td>\n",
                            "      <td>7.8958</td>\n",
                            "      <td>NaN</td>\n",
                            "      <td>S</td>\n",
                            "      <td>0</td>\n",
                            "    </tr>\n",
                            "    <tr>\n",
                            "      <th>890</th>\n",
                            "      <td>428</td>\n",
                            "      <td>Yes</td>\n",
                            "      <td>2</td>\n",
                            "      <td>Phillips, Miss. Kate Florence (\"Mrs Kate Louis...</td>\n",
                            "      <td>female</td>\n",
                            "      <td>19.000000</td>\n",
                            "      <td>0</td>\n",
                            "      <td>0</td>\n",
                            "      <td>250655</td>\n",
                            "      <td>26.0000</td>\n",
                            "      <td>NaN</td>\n",
                            "      <td>S</td>\n",
                            "      <td>0</td>\n",
                            "    </tr>\n",
                            "  </tbody>\n",
                            "</table>\n",
                            "<p>891 rows × 13 columns</p>\n",
                            "</div>"
                        ]
                    },
                    "metadata": {},
                    "execution_count": 281
                }
            ],
            "metadata": {}
        },
        {
            "cell_type": "code",
            "execution_count": 282,
            "source": [
                "\r\n",
                "# converting the catecorical variables \r\n",
                "df.replace({ \"Survived\" : {\"Yes\" : 1 ,\"No\" : 0} },inplace=True)\r\n",
                "df.replace({ \"Sex\" : {\"female\" : 1 ,\"male\" : 0} },inplace=True)"
            ],
            "outputs": [],
            "metadata": {}
        },
        {
            "cell_type": "code",
            "execution_count": 283,
            "source": [
                "#extracting the feeatures that will be used\r\n",
                "df_ = df[[\"Age\",\"Sex\",\"FamilySize\",\"Survived\"]]\r\n",
                "df_"
            ],
            "outputs": [
                {
                    "output_type": "execute_result",
                    "data": {
                        "text/plain": [
                            "           Age  Sex  FamilySize  Survived\n",
                            "0    28.000000    0           0         0\n",
                            "1    25.000000    0           0         0\n",
                            "2    20.000000    0           0         0\n",
                            "3    29.000000    1           4         0\n",
                            "4    31.000000    0           1         0\n",
                            "..         ...  ...         ...       ...\n",
                            "886  14.000000    1           1         1\n",
                            "887  22.000000    0           0         0\n",
                            "888  30.000000    1           0         0\n",
                            "889  29.699118    0           0         0\n",
                            "890  19.000000    1           0         1\n",
                            "\n",
                            "[891 rows x 4 columns]"
                        ],
                        "text/html": [
                            "<div>\n",
                            "<style scoped>\n",
                            "    .dataframe tbody tr th:only-of-type {\n",
                            "        vertical-align: middle;\n",
                            "    }\n",
                            "\n",
                            "    .dataframe tbody tr th {\n",
                            "        vertical-align: top;\n",
                            "    }\n",
                            "\n",
                            "    .dataframe thead th {\n",
                            "        text-align: right;\n",
                            "    }\n",
                            "</style>\n",
                            "<table border=\"1\" class=\"dataframe\">\n",
                            "  <thead>\n",
                            "    <tr style=\"text-align: right;\">\n",
                            "      <th></th>\n",
                            "      <th>Age</th>\n",
                            "      <th>Sex</th>\n",
                            "      <th>FamilySize</th>\n",
                            "      <th>Survived</th>\n",
                            "    </tr>\n",
                            "  </thead>\n",
                            "  <tbody>\n",
                            "    <tr>\n",
                            "      <th>0</th>\n",
                            "      <td>28.000000</td>\n",
                            "      <td>0</td>\n",
                            "      <td>0</td>\n",
                            "      <td>0</td>\n",
                            "    </tr>\n",
                            "    <tr>\n",
                            "      <th>1</th>\n",
                            "      <td>25.000000</td>\n",
                            "      <td>0</td>\n",
                            "      <td>0</td>\n",
                            "      <td>0</td>\n",
                            "    </tr>\n",
                            "    <tr>\n",
                            "      <th>2</th>\n",
                            "      <td>20.000000</td>\n",
                            "      <td>0</td>\n",
                            "      <td>0</td>\n",
                            "      <td>0</td>\n",
                            "    </tr>\n",
                            "    <tr>\n",
                            "      <th>3</th>\n",
                            "      <td>29.000000</td>\n",
                            "      <td>1</td>\n",
                            "      <td>4</td>\n",
                            "      <td>0</td>\n",
                            "    </tr>\n",
                            "    <tr>\n",
                            "      <th>4</th>\n",
                            "      <td>31.000000</td>\n",
                            "      <td>0</td>\n",
                            "      <td>1</td>\n",
                            "      <td>0</td>\n",
                            "    </tr>\n",
                            "    <tr>\n",
                            "      <th>...</th>\n",
                            "      <td>...</td>\n",
                            "      <td>...</td>\n",
                            "      <td>...</td>\n",
                            "      <td>...</td>\n",
                            "    </tr>\n",
                            "    <tr>\n",
                            "      <th>886</th>\n",
                            "      <td>14.000000</td>\n",
                            "      <td>1</td>\n",
                            "      <td>1</td>\n",
                            "      <td>1</td>\n",
                            "    </tr>\n",
                            "    <tr>\n",
                            "      <th>887</th>\n",
                            "      <td>22.000000</td>\n",
                            "      <td>0</td>\n",
                            "      <td>0</td>\n",
                            "      <td>0</td>\n",
                            "    </tr>\n",
                            "    <tr>\n",
                            "      <th>888</th>\n",
                            "      <td>30.000000</td>\n",
                            "      <td>1</td>\n",
                            "      <td>0</td>\n",
                            "      <td>0</td>\n",
                            "    </tr>\n",
                            "    <tr>\n",
                            "      <th>889</th>\n",
                            "      <td>29.699118</td>\n",
                            "      <td>0</td>\n",
                            "      <td>0</td>\n",
                            "      <td>0</td>\n",
                            "    </tr>\n",
                            "    <tr>\n",
                            "      <th>890</th>\n",
                            "      <td>19.000000</td>\n",
                            "      <td>1</td>\n",
                            "      <td>0</td>\n",
                            "      <td>1</td>\n",
                            "    </tr>\n",
                            "  </tbody>\n",
                            "</table>\n",
                            "<p>891 rows × 4 columns</p>\n",
                            "</div>"
                        ]
                    },
                    "metadata": {},
                    "execution_count": 283
                }
            ],
            "metadata": {}
        },
        {
            "cell_type": "code",
            "execution_count": 284,
            "source": [
                "#define the target and the features\r\n",
                "x = df_[['Age','Sex','FamilySize']]\r\n",
                "y = df_['Survived']"
            ],
            "outputs": [],
            "metadata": {}
        },
        {
            "cell_type": "code",
            "execution_count": 285,
            "source": [
                "#split the data\r\n",
                "x_train,x_test,y_train,y_test = train_test_split(x,y,test_size=0.25,random_state=0)"
            ],
            "outputs": [],
            "metadata": {}
        },
        {
            "cell_type": "code",
            "execution_count": 286,
            "source": [
                "import seaborn as sns\r\n",
                "sns.regplot(x='Age',y='Survived',data=df)"
            ],
            "outputs": [
                {
                    "output_type": "execute_result",
                    "data": {
                        "text/plain": [
                            "<AxesSubplot:xlabel='Age', ylabel='Survived'>"
                        ]
                    },
                    "metadata": {},
                    "execution_count": 286
                },
                {
                    "output_type": "display_data",
                    "data": {
                        "text/plain": [
                            "<Figure size 432x288 with 1 Axes>"
                        ],
                        "image/png": "[encoded data removed]"
                    },
                    "metadata": {
                        "needs_background": "light"
                    }
                }
            ],
            "metadata": {}
        },
        {
            "cell_type": "code",
            "execution_count": 287,
            "source": [
                "# define the logistic regression model\r\n",
                "logreg = LogisticRegression()   #build our logistic model\r\n",
                "logreg.fit(x_train, y_train)  #fitting training data\r\n",
                "y_pred  = logreg.predict(x_test)    #testing model’s performance\r\n",
                "print(\"Accuracy = \",(logreg.score(x_test, y_test)))\r\n"
            ],
            "outputs": [
                {
                    "output_type": "stream",
                    "name": "stdout",
                    "text": [
                        "Accuracy =  0.8340807174887892\n"
                    ]
                }
            ],
            "metadata": {}
        },
        {
            "cell_type": "code",
            "execution_count": 288,
            "source": [
                "confusion_matrix = pd.crosstab(y_test, y_pred, rownames=['Actual'], colnames=['Predicted'])\r\n",
                "sns.heatmap(confusion_matrix, annot=True)"
            ],
            "outputs": [
                {
                    "output_type": "execute_result",
                    "data": {
                        "text/plain": [
                            "<AxesSubplot:xlabel='Predicted', ylabel='Actual'>"
                        ]
                    },
                    "metadata": {},
                    "execution_count": 288
                },
                {
                    "output_type": "display_data",
                    "data": {
                        "text/plain": [
                            "<Figure size 432x288 with 2 Axes>"
                        ],
                        "image/png": "[encoded data removed]"
                    },
                    "metadata": {
                        "needs_background": "light"
                    }
                }
            ],
            "metadata": {}
        },
        {
            "cell_type": "markdown",
            "source": [
                "<li> True negative : 130 </li>\r\n",
                "<li> True positif : 55 </li>\r\n",
                "<li> false negative : 24 </li>\r\n",
                "<li> false positif : 13 </li>"
            ],
            "metadata": {}
        },
        {
            "cell_type": "code",
            "execution_count": 289,
            "source": [
                "print(\"Classification Report : \\n\" ,classification_report(y_test,y_pred))"
            ],
            "outputs": [
                {
                    "output_type": "stream",
                    "name": "stdout",
                    "text": [
                        "Classification Report : \n",
                        "               precision    recall  f1-score   support\n",
                        "\n",
                        "           0       0.85      0.91      0.88       144\n",
                        "           1       0.81      0.70      0.75        79\n",
                        "\n",
                        "    accuracy                           0.83       223\n",
                        "   macro avg       0.83      0.80      0.81       223\n",
                        "weighted avg       0.83      0.83      0.83       223\n",
                        "\n"
                    ]
                }
            ],
            "metadata": {}
        },
        {
            "cell_type": "markdown",
            "source": [
                "# ROC / AUC\r\n",
                "# ref : <a href=\"https://developers.google.com/machine-learning/crash-course/classification/roc-and-auc?hl=fr\"> reference </a>"
            ],
            "metadata": {}
        },
        {
            "cell_type": "markdown",
            "source": [
                "ROC curve : receiver operating characteristic curve , is a graph showing the performance of a classification model at all classification thresholds. it plots : <br>\r\n",
                "\r\n",
                "   <li> True Positive Rate<br></li>\r\n",
                "    <li>False Positive Rate\r\n",
                "    </li>\r\n",
                "\r\n",
                "\r\n",
                "AUC : Area under the ROC Curve. It measures the two-dimensional area underneath the ROC curve"
            ],
            "metadata": {}
        },
        {
            "cell_type": "code",
            "execution_count": 290,
            "source": [
                "pred_prob = logreg.predict_proba(x_test)"
            ],
            "outputs": [],
            "metadata": {}
        },
        {
            "cell_type": "code",
            "execution_count": 291,
            "source": [
                "fpr, tpr, thresh = roc_curve(y_test, pred_prob[:,1], pos_label=1)"
            ],
            "outputs": [],
            "metadata": {}
        },
        {
            "cell_type": "code",
            "execution_count": 292,
            "source": [
                "auc_score = roc_auc_score(y_test, pred_prob[:,1])"
            ],
            "outputs": [],
            "metadata": {}
        },
        {
            "cell_type": "code",
            "execution_count": 293,
            "source": [
                "print(\"AUC\" ,auc_score)"
            ],
            "outputs": [
                {
                    "output_type": "stream",
                    "name": "stdout",
                    "text": [
                        "AUC 0.8081487341772152\n"
                    ]
                }
            ],
            "metadata": {}
        },
        {
            "cell_type": "markdown",
            "source": [
                "This ROC curve has an AUC  = 0.80 , wich means it ranks a random positive example higher than a random negative example more than 80% of the time"
            ],
            "metadata": {}
        },
        {
            "cell_type": "code",
            "execution_count": 294,
            "source": [
                "\r\n",
                "plt.plot(fpr, tpr, linestyle='--',color='orange', label='Logistic Regression')\r\n",
                "\r\n",
                "plt.title('ROC curve')\r\n",
                "plt.xlabel('False Positive Rate')\r\n",
                "plt.ylabel('True Positive rate')\r\n",
                "plt.legend()\r\n",
                "plt.show()"
            ],
            "outputs": [
                {
                    "output_type": "display_data",
                    "data": {
                        "text/plain": [
                            "<Figure size 432x288 with 1 Axes>"
                        ],
                        "image/png": "[encoded data removed]"
                    },
                    "metadata": {
                        "needs_background": "light"
                    }
                }
            ],
            "metadata": {}
        }
    ],
    "metadata": {
        "orig_nbformat": 4,
        "language_info": {
            "name": "python",
            "version": "3.9.6",
            "mimetype": "text/x-python",
            "codemirror_mode": {
                "name": "ipython",
                "version": 3
            },
            "pygments_lexer": "ipython3",
            "nbconvert_exporter": "python",
            "file_extension": ".py"
        },
        "kernelspec": {
            "name": "python3",
            "display_name": "Python 3.9.6 64-bit"
        },
        "interpreter": {
            "hash": "b3ed8e708b643839dc49c9e4479760f0fed46f4af64d471bc476f8b8b680b9fd"
        }
    },
    "nbformat": 4,
    "nbformat_minor": 2
}