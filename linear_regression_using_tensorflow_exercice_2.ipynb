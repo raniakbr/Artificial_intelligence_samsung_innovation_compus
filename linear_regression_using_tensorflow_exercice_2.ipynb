{
  "nbformat": 4,
  "nbformat_minor": 2,
  "metadata": {
    "kernelspec": {
      "name": "python3",
      "display_name": "Python 3.9.6 64-bit"
    },
    "language_info": {
      "codemirror_mode": {
        "name": "ipython",
        "version": 3
      },
      "file_extension": ".py",
      "mimetype": "text/x-python",
      "name": "python",
      "nbconvert_exporter": "python",
      "pygments_lexer": "ipython3",
      "version": "3.9.6"
    },
    "toc": {
      "base_numbering": 1,
      "nav_menu": {},
      "number_sections": true,
      "sideBar": true,
      "skip_h1_title": false,
      "title_cell": "Table of Contents",
      "title_sidebar": "Contents",
      "toc_cell": false,
      "toc_position": {},
      "toc_section_display": true,
      "toc_window_display": false
    },
    "varInspector": {
      "cols": {
        "lenName": 16,
        "lenType": 16,
        "lenVar": 40
      },
      "kernels_config": {
        "python": {
          "delete_cmd_postfix": "",
          "delete_cmd_prefix": "del ",
          "library": "var_list.py",
          "varRefreshCmd": "print(var_dic_list())"
        },
        "r": {
          "delete_cmd_postfix": ") ",
          "delete_cmd_prefix": "rm(",
          "library": "var_list.r",
          "varRefreshCmd": "cat(var_dic_list()) "
        }
      },
      "types_to_exclude": [
        "module",
        "function",
        "builtin_function_or_method",
        "instance",
        "_Feature"
      ],
      "window_display": false
    },
    "colab": {
      "name": "linear_regression_using_tensorflow_exercice.ipynb",
      "provenance": []
    },
    "interpreter": {
      "hash": "b3ed8e708b643839dc49c9e4479760f0fed46f4af64d471bc476f8b8b680b9fd"
    }
  },
  "cells": [
    {
      "cell_type": "markdown",
      "source": [
        "### Linear regression:"
      ],
      "metadata": {
        "id": "cHDbC2IoYzIh"
      }
    },
    {
      "cell_type": "code",
      "execution_count": 101,
      "source": [
        "import warnings \r\n",
        "\r\n",
        "warnings.filterwarnings(\"ignore\")\r\n",
        "import numpy as np\r\n",
        "import tensorflow as tf\r\n"
      ],
      "outputs": [],
      "metadata": {
        "ExecuteTime": {
          "end_time": "2021-08-27T22:56:35.445573Z",
          "start_time": "2021-08-27T22:56:35.437599Z"
        },
        "id": "K7b2xA3EYzIr"
      }
    },
    {
      "cell_type": "code",
      "execution_count": 102,
      "source": [
        "\r\n",
        "import tensorflow.compat.v1 as tf\r\n",
        "tf.compat.v1.disable_eager_execution()\r\n"
      ],
      "outputs": [],
      "metadata": {}
    },
    {
      "cell_type": "markdown",
      "source": [
        "You can use this link:\n",
        "\n",
        "https://www.roseindia.net/tensorflow/tensorflow2/tensorflow-linear-regression.shtml"
      ],
      "metadata": {
        "id": "7ALCQqser6xx"
      }
    },
    {
      "cell_type": "markdown",
      "source": [
        " Data:"
      ],
      "metadata": {
        "id": "kZqPYXpZYzIv"
      }
    },
    {
      "cell_type": "code",
      "execution_count": 103,
      "source": [
        "# Training data.\r\n",
        "# hours of study (X) vs test score (y). \r\n",
        "study = np.array([ 3, 4.5, 6, 1.2, 2, 6.9, 6.7, 5.5])          # Explanatory variable: X\r\n",
        "score = np.array([ 88, 85, 90, 80, 81, 92, 95, 90])            # Response variable: y"
      ],
      "outputs": [],
      "metadata": {
        "ExecuteTime": {
          "end_time": "2021-08-27T22:56:38.753767Z",
          "start_time": "2021-08-27T22:56:38.741776Z"
        },
        "id": "feLCIAh4YzIw"
      }
    },
    {
      "cell_type": "markdown",
      "source": [
        "## Define Variables and Placeholders: \n",
        "define the linear regression weights `a` and `b` , use tf.Variable"
      ],
      "metadata": {
        "id": "axwcJXtpYzIy"
      }
    },
    {
      "cell_type": "code",
      "execution_count": 104,
      "source": [
        "b1 = tf.Variable(1.0)                # A constant initial value.\r\n",
        "b0 = tf.Variable(1.0)                # A constant initial value."
      ],
      "outputs": [],
      "metadata": {
        "ExecuteTime": {
          "end_time": "2021-08-27T22:56:42.052804Z",
          "start_time": "2021-08-27T22:56:42.037813Z"
        },
        "id": "O9HpFJ52YzIy"
      }
    },
    {
      "cell_type": "markdown",
      "source": [
        "define the input `x` and  labels `y` placeholders, use tf.placeholder. No need to specify the shape"
      ],
      "metadata": {
        "id": "HOFmhW5oYzIz"
      }
    },
    {
      "cell_type": "code",
      "execution_count": 105,
      "source": [
        "X_ph = tf.compat.v1.placeholder(tf.float32, shape=(None))\r\n",
        "y_ph = tf.compat.v1.placeholder(tf.float32, shape=(None))\r\n"
      ],
      "outputs": [],
      "metadata": {
        "id": "uf0WKw6tYzI1"
      }
    },
    {
      "cell_type": "markdown",
      "source": [
        "####  Define the model:\r\n",
        "\r\n",
        "define your model using `a` `b` and `x` , remember : $y\\_model = a*x+b$ "
      ],
      "metadata": {}
    },
    {
      "cell_type": "code",
      "execution_count": 106,
      "source": [
        "# Model.\r\n",
        "# Not strictly necessary to apply the softmax activation. => in the end we will apply argmax() function to predict the label!\r\n",
        "# y_model = tf.nn.softmax(tf.matmul(X_ph, W) + b)\r\n",
        "# just keep the parameter inside the softmax function\r\n",
        "y_model = tf.math.multiply(X_ph, b1) + b0\r\n"
      ],
      "outputs": [],
      "metadata": {
        "id": "JSs-0Ef4YzI6"
      }
    },
    {
      "cell_type": "markdown",
      "source": [
        "## Define the loss function and the optimization method:\n",
        "\n",
        "\n",
        "\n"
      ],
      "metadata": {
        "id": "l03u4Pz2YzI7"
      }
    },
    {
      "cell_type": "code",
      "execution_count": 107,
      "source": [
        "loss = tf.reduce_mean(tf.square(y_ph - y_model))          # L2 loss."
      ],
      "outputs": [],
      "metadata": {
        "ExecuteTime": {
          "end_time": "2021-08-27T22:56:55.942927Z",
          "start_time": "2021-08-27T22:56:55.926938Z"
        },
        "id": "XNd_I4EpYzI8"
      }
    },
    {
      "cell_type": "code",
      "execution_count": 108,
      "source": [
        "#optimizer = tf.compat.v1.train.GradientDescentOptimizer(learning_rate=0.001)\r\n",
        "optimizer = tf.compat.v1.train.MomentumOptimizer(learning_rate = 0.001, momentum=0.9)   # Momentum optimizer.\r\n"
      ],
      "outputs": [],
      "metadata": {
        "ExecuteTime": {
          "end_time": "2021-08-27T22:57:00.719200Z",
          "start_time": "2021-08-27T22:57:00.701214Z"
        },
        "id": "WBxx-JhiYzI9"
      }
    },
    {
      "cell_type": "code",
      "execution_count": null,
      "source": [],
      "outputs": [],
      "metadata": {
        "id": "xn-kCREPYzI-"
      }
    },
    {
      "cell_type": "code",
      "execution_count": null,
      "source": [],
      "outputs": [],
      "metadata": {
        "id": "3jGUFMYQYzI-"
      }
    },
    {
      "cell_type": "markdown",
      "source": [
        "##  Training and Testing:\n",
        "\n",
        "**define training** : use optimizer object to minimize the loss using `minimise()` function ,the latter takes as a parameter the loss function, then store it in `train`.\n",
        "\n",
        "- initialize variables using tf.global_variable_initializer()\n",
        "- run the forward and backprobagation using sess.run on train , don't forget to feed input data using ``feed_dict`` parameter"
      ],
      "metadata": {
        "id": "yDMifTyMYzI_"
      }
    },
    {
      "cell_type": "code",
      "execution_count": 109,
      "source": [
        "n_epochs = 500                   # N# of epochs (gradient descent steps).\r\n",
        "train = optimizer.minimize(loss)                                          # Define training. Use optimizer.minimize(loss)\r\n",
        "\r\n",
        "# Define Variable initialization.\r\n",
        "init = tf.compat.v1.global_variables_initializer()\r\n",
        "                                           #Returns an Op that initializes global variablestf.global_variables_initializer().\r\n",
        "\r\n",
        "\r\n",
        "with tf.compat.v1.Session() as sess:\r\n",
        "    # Variables initialization.\r\n",
        "        init.run()\r\n",
        "        # Training.\r\n",
        "        my_feed = {X_ph:study, y_ph:score}        #************** write your code here****************####                # Prepare feed data as a dictionary. \r\n",
        "        \r\n",
        "        for i in range(n_epochs):\r\n",
        "            sess.run(train, feed_dict = my_feed)\r\n",
        "        b0_model, b1_model = sess.run([b0, b1])                   # Get the final values of the Variables.\r\n",
        "        # Testing.\r\n",
        "        \r\n",
        "        mse_value = sess.run(loss, feed_dict = my_feed)            # Calculate the in-sample MSE.\r\n",
        "        \r\n",
        "        \r\n",
        "        \r\n",
        "       \r\n"
      ],
      "outputs": [],
      "metadata": {
        "id": "7rgTfpHYYzJA"
      }
    },
    {
      "cell_type": "markdown",
      "source": [
        "## Display the result : \n",
        "the following are the expected results"
      ],
      "metadata": {
        "id": "ckFSc8U2YzJB"
      }
    },
    {
      "cell_type": "code",
      "execution_count": 110,
      "source": [
        "print(\"Parameters b0 = {:5.3f} , b1 = {:5.3f}\".format(b0_model, b1_model))"
      ],
      "outputs": [
        {
          "output_type": "stream",
          "name": "stdout",
          "text": [
            "Parameters b0 = 63.972 , b1 = 4.777\n"
          ]
        }
      ],
      "metadata": {
        "ExecuteTime": {
          "end_time": "2021-08-27T22:57:29.492748Z",
          "start_time": "2021-08-27T22:57:29.478735Z"
        },
        "id": "xp829wgaYzJC",
        "outputId": "8c84ee76-9284-41e9-bec3-0b3c24696ccd"
      }
    },
    {
      "cell_type": "code",
      "execution_count": 111,
      "source": [
        "print(\"MSE  = {:5.3f}\".format(mse_value))\r\n",
        "print(\"RMSE = {:5.3f}\".format(np.sqrt(mse_value)))"
      ],
      "outputs": [
        {
          "output_type": "stream",
          "name": "stdout",
          "text": [
            "MSE  = 36.052\n",
            "RMSE = 6.004\n"
          ]
        }
      ],
      "metadata": {
        "ExecuteTime": {
          "end_time": "2021-08-27T22:57:34.279810Z",
          "start_time": "2021-08-27T22:57:34.261821Z"
        },
        "id": "ko02W4HnYzJD",
        "outputId": "33fbfc6d-ea8f-4998-bdce-f6267b02e9e2"
      }
    },
    {
      "cell_type": "markdown",
      "source": [
        "#### 1.7. Prediction:"
      ],
      "metadata": {
        "id": "M5WZfgR6YzJD"
      }
    },
    {
      "cell_type": "code",
      "execution_count": 112,
      "source": [
        "# Define the testing data.\r\n",
        "study_new = np.array([2.5, 3.3, 4.2]).reshape(-1,1)\r\n"
      ],
      "outputs": [],
      "metadata": {
        "ExecuteTime": {
          "end_time": "2021-08-27T22:57:45.451708Z",
          "start_time": "2021-08-27T22:57:45.445711Z"
        },
        "id": "GPkgeFJIYzJE"
      }
    },
    {
      "cell_type": "markdown",
      "source": [
        "- define prediction's placeholder in x_th \n",
        "- define y_model using the parameters after training\n",
        "- define my_feed dictionary using study_new \n",
        "- run the prediction using y_model and tf.Session and store the result in y_pred_value "
      ],
      "metadata": {
        "id": "0Oqa7-TKYzJE"
      }
    },
    {
      "cell_type": "code",
      "execution_count": 113,
      "source": [
        "X_th = tf.compat.v1.placeholder(tf.float32, shape=(None))\r\n",
        "y_model = tf.math.multiply(X_th, b1_model) + b0_model\r\n"
      ],
      "outputs": [],
      "metadata": {
        "id": "Gh6OL5duYzJE"
      }
    },
    {
      "cell_type": "code",
      "execution_count": 114,
      "source": [
        "with tf.compat.v1.Session() as sess:\r\n",
        "    my_feed = {X_th: study_new}\r\n",
        "    y_pred_value = sess.run(y_model, feed_dict=my_feed)\r\n"
      ],
      "outputs": [],
      "metadata": {
        "id": "5oequXRvYzJE"
      }
    },
    {
      "cell_type": "markdown",
      "source": [
        "the following are the expected result"
      ],
      "metadata": {
        "id": "zO4qLrtpYzJF"
      }
    },
    {
      "cell_type": "code",
      "execution_count": 115,
      "source": [
        "# Predicted y values.\r\n",
        "print(y_pred_value)"
      ],
      "outputs": [
        {
          "output_type": "stream",
          "name": "stdout",
          "text": [
            "[[75.91344]\n",
            " [79.73483]\n",
            " [84.0339 ]]\n"
          ]
        }
      ],
      "metadata": {
        "ExecuteTime": {
          "end_time": "2021-08-27T22:57:55.554675Z",
          "start_time": "2021-08-27T22:57:55.541662Z"
        },
        "id": "Uvb138lBYzJF",
        "outputId": "c859f228-146d-49c8-9d1f-6908c84a6714"
      }
    },
    {
      "cell_type": "code",
      "execution_count": null,
      "source": [],
      "outputs": [],
      "metadata": {
        "id": "7ZZDQpXcYzJG"
      }
    }
  ]
}