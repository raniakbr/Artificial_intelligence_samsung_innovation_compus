{
 "cells": [
  {
   "cell_type": "markdown",
   "metadata": {},
   "source": [
    "## Quiz #0101"
   ]
  },
  {
   "cell_type": "markdown",
   "metadata": {},
   "source": [
    "#### Provide the answers in Python code:"
   ]
  },
  {
   "cell_type": "markdown",
   "metadata": {},
   "source": [
    "1).  In the class A, students' heights are:\n",
    "\n",
    "161.5 <br>\n",
    "165.9 <br>\n",
    "168.7 <br>\n",
    "163.1 <br>\n",
    "170.8 <br>\n",
    "167.2 <br>\n",
    "\n",
    "Calculate the mean height by using Python 'list' and 'for' loop:"
   ]
  },
  {
   "cell_type": "code",
   "execution_count": 5,
   "metadata": {},
   "outputs": [
    {
     "name": "stdout",
     "output_type": "stream",
     "text": [
      "The the mean height is :  166.20000000000002\n"
     ]
    }
   ],
   "source": [
    "students_heights = 161.5,165.9,168.7,163.1,170.8,167.2\r\n",
    "students_heights_list = list(students_heights)\r\n",
    "\r\n",
    "moy = 0 \r\n",
    "\r\n",
    "for i in students_heights_list :\r\n",
    "    moy += i\r\n",
    "\r\n",
    "moyenne = moy / len(students_heights_list)\r\n",
    "\r\n",
    "print(\"The the mean height is : \" , moyenne)"
   ]
  },
  {
   "cell_type": "markdown",
   "metadata": {},
   "source": [
    "2).  In the class B, students' heights are:\n",
    "\n",
    "172.5 <br>\n",
    "162.9 <br>\n",
    "161.7 <br>\n",
    "160.1 <br>\n",
    "161.8 <br>\n",
    "169.2 <br>\n",
    "\n",
    "Calculate the mean height by using Python 'list' and 'for' loop:"
   ]
  },
  {
   "cell_type": "code",
   "execution_count": 18,
   "metadata": {},
   "outputs": [
    {
     "name": "stdout",
     "output_type": "stream",
     "text": [
      "The the mean height is :  164.70000000000002\n"
     ]
    }
   ],
   "source": [
    "students_heights2 = 172.5,162.9,161.7,160.1,161.8,169.2\r\n",
    "students_heights_list2 = list(students_heights2)\r\n",
    "\r\n",
    "moy = 0 \r\n",
    "\r\n",
    "for i in students_heights_list2 :\r\n",
    "    moy += i\r\n",
    "\r\n",
    "moyenne = moy / len(students_heights_list2)\r\n",
    "\r\n",
    "print(\"The the mean height is : \" , moyenne)"
   ]
  },
  {
   "cell_type": "markdown",
   "metadata": {},
   "source": [
    "3). The class A and the class B are joined together to form the class AB. Calculate the mean height by using Python 'list' and 'for' loop:"
   ]
  },
  {
   "cell_type": "code",
   "execution_count": 32,
   "metadata": {},
   "outputs": [
    {
     "name": "stdout",
     "output_type": "stream",
     "text": [
      "[161.5, 165.9, 168.7, 163.1, 170.8, 167.2, 172.5, 162.9, 161.7, 160.1, 161.8, 169.2]\n",
      "165.45000000000002\n"
     ]
    }
   ],
   "source": [
    "students_heights2 = 172.5,162.9,161.7,160.1,161.8,169.2\r\n",
    "students_heights = 161.5,165.9,168.7,163.1,170.8,167.2\r\n",
    "students_heights_list = list(students_heights)\r\n",
    "students_heights_list2 = list(students_heights2)\r\n",
    "\r\n",
    "global_list = students_heights_list + students_heights_list2\r\n",
    "\r\n",
    "print(global_list)\r\n",
    "\r\n",
    "moy = 0 \r\n",
    "\r\n",
    "for i in global_list :\r\n",
    "    moy += i\r\n",
    "\r\n",
    "moyenne = moy / len(global_list)\r\n",
    "\r\n",
    "print(moyenne)"
   ]
  },
  {
   "cell_type": "markdown",
   "metadata": {},
   "source": [
    "4). Sort the heights of the class AB."
   ]
  },
  {
   "cell_type": "code",
   "execution_count": 28,
   "metadata": {},
   "outputs": [
    {
     "name": "stdout",
     "output_type": "stream",
     "text": [
      "[160.1, 160.1, 161.7, 161.7, 161.8, 161.8, 162.9, 162.9, 169.2, 169.2, 172.5, 172.5]\n"
     ]
    }
   ],
   "source": [
    "print(sorted(global_list))"
   ]
  },
  {
   "cell_type": "markdown",
   "metadata": {},
   "source": [
    "5). The class C is formed with students with the height less than 165. Make a list 'C' containing the heights of the class C."
   ]
  },
  {
   "cell_type": "code",
   "execution_count": 29,
   "metadata": {},
   "outputs": [
    {
     "name": "stdout",
     "output_type": "stream",
     "text": [
      "[160.1, 160.1, 161.7, 161.7, 161.8, 161.8, 162.9, 162.9]\n"
     ]
    }
   ],
   "source": [
    "c=[]\r\n",
    "for i in global_list :\r\n",
    "    if i < 165 :\r\n",
    "        c.append(i)\r\n",
    "\r\n",
    "print (c)"
   ]
  },
  {
   "cell_type": "markdown",
   "metadata": {},
   "source": [
    "6). The class D is formed with students with the height larger than 160 and less than 170. Make a list containing the heights of the class D."
   ]
  },
  {
   "cell_type": "code",
   "execution_count": 30,
   "metadata": {},
   "outputs": [
    {
     "name": "stdout",
     "output_type": "stream",
     "text": [
      "[160.1, 160.1, 161.7, 161.7, 161.8, 161.8, 162.9, 162.9, 169.2, 169.2]\n"
     ]
    }
   ],
   "source": [
    "d=[]\r\n",
    "for i in global_list :\r\n",
    "    if i < 170 and i >160 :\r\n",
    "        d.append(i)\r\n",
    "\r\n",
    "print (d)"
   ]
  }
 ],
 "metadata": {
  "interpreter": {
   "hash": "b3ed8e708b643839dc49c9e4479760f0fed46f4af64d471bc476f8b8b680b9fd"
  },
  "kernelspec": {
   "display_name": "Python 3.9.6 64-bit",
   "name": "python3"
  },
  "language_info": {
   "codemirror_mode": {
    "name": "ipython",
    "version": 3
   },
   "file_extension": ".py",
   "mimetype": "text/x-python",
   "name": "python",
   "nbconvert_exporter": "python",
   "pygments_lexer": "ipython3",
   "version": "3.9.6"
  }
 },
 "nbformat": 4,
 "nbformat_minor": 2
}