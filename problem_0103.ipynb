{
 "cells": [
  {
   "cell_type": "markdown",
   "metadata": {},
   "source": [
    "## Quiz #0103 "
   ]
  },
  {
   "cell_type": "markdown",
   "metadata": {},
   "source": [
    "#### Code the class named 'Calculator' that outputs the result as shown. "
   ]
  },
  {
   "cell_type": "code",
   "execution_count": 36,
   "metadata": {},
   "outputs": [
    {
     "name": "stdout",
     "output_type": "stream",
     "text": [
      "8\n",
      "2\n",
      "15\n",
      "1.6666666666666667\n",
      "-----------------------\n",
      "12\n",
      "8\n",
      "20\n",
      "5.0\n"
     ]
    }
   ],
   "source": [
    "class Calculator():\r\n",
    "    a=0\r\n",
    "    b=0\r\n",
    "    def __init__(self,a,b):\r\n",
    "        self.a = a\r\n",
    "        self.b = b\r\n",
    "    \r\n",
    "    def sum(self) : \r\n",
    "        return self.a+self.b\r\n",
    "    \r\n",
    "    def subtract(self) : \r\n",
    "        return self.a-self.b\r\n",
    "    \r\n",
    "    def product(self) : \r\n",
    "        return self.a * self.b\r\n",
    "\r\n",
    "    def divide(self) : \r\n",
    "        if self.b != 0 :\r\n",
    "            return self.a/self.b\r\n",
    "        else :\r\n",
    "            print(\"Error\")\r\n",
    "    \r\n",
    "   \r\n",
    "   \r\n",
    "\r\n",
    "calc1 = Calculator(5,3)\r\n",
    "calc2 = Calculator(10,2) \r\n",
    "print(calc1.sum())\r\n",
    "print(calc1.subtract())\r\n",
    "print(calc1.product())\r\n",
    "print(calc1.divide())\r\n",
    "\r\n",
    "print(\"-----------------------\")\r\n",
    "\r\n",
    "print(calc2.sum())\r\n",
    "print(calc2.subtract())\r\n",
    "print(calc2.product())\r\n",
    "print(calc2.divide())\r\n",
    "\r\n",
    "\r\n",
    "\r\n"
   ]
  },
  {
   "cell_type": "markdown",
   "metadata": {},
   "source": [
    "Test results:"
   ]
  },
  {
   "cell_type": "code",
   "execution_count": 32,
   "metadata": {},
   "outputs": [],
   "source": [
    "calc1 = Calculator(5,3)\n",
    "calc2 = Calculator(10,2)"
   ]
  },
  {
   "cell_type": "code",
   "execution_count": 33,
   "metadata": {},
   "outputs": [
    {
     "name": "stdout",
     "output_type": "stream",
     "text": [
      "8\n",
      "2\n",
      "15\n",
      "1.6666666666666667\n"
     ]
    }
   ],
   "source": [
    "print(calc1.sum())\n",
    "print(calc1.subtract())\n",
    "print(calc1.product())\n",
    "print(calc1.divide())"
   ]
  },
  {
   "cell_type": "code",
   "execution_count": 34,
   "metadata": {},
   "outputs": [
    {
     "name": "stdout",
     "output_type": "stream",
     "text": [
      "12\n",
      "8\n",
      "20\n",
      "5.0\n"
     ]
    }
   ],
   "source": [
    "print(calc2.sum())\n",
    "print(calc2.subtract())\n",
    "print(calc2.product())\n",
    "print(calc2.divide())"
   ]
  }
 ],
 "metadata": {
  "interpreter": {
   "hash": "b3ed8e708b643839dc49c9e4479760f0fed46f4af64d471bc476f8b8b680b9fd"
  },
  "kernelspec": {
   "display_name": "Python 3.9.6 64-bit",
   "name": "python3"
  },
  "language_info": {
   "codemirror_mode": {
    "name": "ipython",
    "version": 3
   },
   "file_extension": ".py",
   "mimetype": "text/x-python",
   "name": "python",
   "nbconvert_exporter": "python",
   "pygments_lexer": "ipython3",
   "version": "3.9.6"
  }
 },
 "nbformat": 4,
 "nbformat_minor": 2
}