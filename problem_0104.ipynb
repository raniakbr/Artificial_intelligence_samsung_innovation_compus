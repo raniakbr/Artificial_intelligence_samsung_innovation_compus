{
 "cells": [
  {
   "cell_type": "markdown",
   "metadata": {},
   "source": [
    "## Quiz #0104 "
   ]
  },
  {
   "cell_type": "markdown",
   "metadata": {},
   "source": [
    "#### Code the class 'Aquarium' that outputs the result as shown. "
   ]
  },
  {
   "cell_type": "code",
   "execution_count": 18,
   "metadata": {},
   "outputs": [
    {
     "name": "stdout",
     "output_type": "stream",
     "text": [
      "An Aquarium has opened!\n",
      "Turtle  is a new member of our Aquarium!\n",
      "We already have Turtle\n",
      "['Turtle']\n",
      "Dolphin  is a new member of our Aquarium!\n",
      "We already have Dolphin\n",
      "['Turtle']\n",
      "No such sea creature in the Aquarium!\n"
     ]
    }
   ],
   "source": [
    "class Aquarium:\r\n",
    "    \r\n",
    "    def __init__(self):\r\n",
    "        print(\"An Aquarium has opened!\")\r\n",
    "        self.animals =[]\r\n",
    "    \r\n",
    "    def enters(self,animal) : \r\n",
    "        if animal not in self.animals :\r\n",
    "            print (animal ,\" is a new member of our Aquarium!\")\r\n",
    "            self.animals.append(animal)\r\n",
    "        else : \r\n",
    "            print (\"We already have\", animal)\r\n",
    "\r\n",
    "    def show_all(self):\r\n",
    "        print(self.animals)\r\n",
    "\r\n",
    "    def leaves(self,animal) : \r\n",
    "        if animal in self.animals :\r\n",
    "            self.animals.remove(animal)\r\n",
    "        else : \r\n",
    "            print(\"No such sea creature in the Aquarium!\")\r\n",
    "\r\n",
    "my_aquarium = Aquarium()\r\n",
    "\r\n",
    "my_aquarium.enters('Turtle')\r\n",
    "my_aquarium.enters('Turtle')\r\n",
    "my_aquarium.show_all()\r\n",
    "my_aquarium.enters('Dolphin')\r\n",
    "my_aquarium.enters('Dolphin')\r\n",
    "my_aquarium.leaves('Dolphin')\r\n",
    "my_aquarium.show_all()\r\n",
    "my_aquarium.leaves('Dolphin')\r\n",
    "\r\n",
    "\r\n",
    "    \r\n",
    "    \r\n",
    "    "
   ]
  },
  {
   "cell_type": "markdown",
   "metadata": {},
   "source": [
    "Test results:"
   ]
  },
  {
   "cell_type": "code",
   "execution_count": 3,
   "metadata": {},
   "outputs": [
    {
     "name": "stdout",
     "output_type": "stream",
     "text": [
      "An Aquarium has opened!\n"
     ]
    }
   ],
   "source": [
    "my_aquarium = Aquarium()"
   ]
  },
  {
   "cell_type": "code",
   "execution_count": 3,
   "metadata": {},
   "outputs": [
    {
     "name": "stdout",
     "output_type": "stream",
     "text": [
      "Turtle is a new member of our Aquarium!\n"
     ]
    }
   ],
   "source": [
    "my_aquarium.enters('Turtle')"
   ]
  },
  {
   "cell_type": "code",
   "execution_count": 4,
   "metadata": {},
   "outputs": [
    {
     "name": "stdout",
     "output_type": "stream",
     "text": [
      "We already have Turtle.\n"
     ]
    }
   ],
   "source": [
    "my_aquarium.enters('Turtle')"
   ]
  },
  {
   "cell_type": "code",
   "execution_count": 5,
   "metadata": {},
   "outputs": [
    {
     "name": "stdout",
     "output_type": "stream",
     "text": [
      "Dolphin is a new member of our Aquarium!\n"
     ]
    }
   ],
   "source": [
    "my_aquarium.enters('Dolphin')"
   ]
  },
  {
   "cell_type": "code",
   "execution_count": 6,
   "metadata": {},
   "outputs": [
    {
     "name": "stdout",
     "output_type": "stream",
     "text": [
      "Sea Lion is a new member of our Aquarium!\n"
     ]
    }
   ],
   "source": [
    "my_aquarium.enters('Sea Lion')"
   ]
  },
  {
   "cell_type": "code",
   "execution_count": 7,
   "metadata": {},
   "outputs": [
    {
     "name": "stdout",
     "output_type": "stream",
     "text": [
      "Shark is a new member of our Aquarium!\n"
     ]
    }
   ],
   "source": [
    "my_aquarium.enters('Shark')"
   ]
  },
  {
   "cell_type": "code",
   "execution_count": 8,
   "metadata": {},
   "outputs": [
    {
     "name": "stdout",
     "output_type": "stream",
     "text": [
      "['Turtle', 'Dolphin', 'Sea Lion', 'Shark']\n"
     ]
    }
   ],
   "source": [
    "my_aquarium.show_all()"
   ]
  },
  {
   "cell_type": "code",
   "execution_count": 9,
   "metadata": {},
   "outputs": [],
   "source": [
    "my_aquarium.leaves(\"Sea Lion\")"
   ]
  },
  {
   "cell_type": "code",
   "execution_count": 10,
   "metadata": {},
   "outputs": [
    {
     "name": "stdout",
     "output_type": "stream",
     "text": [
      "No such sea creature in the Aquarium!\n"
     ]
    }
   ],
   "source": [
    "my_aquarium.leaves(\"Killer Whale\")"
   ]
  },
  {
   "cell_type": "code",
   "execution_count": 11,
   "metadata": {},
   "outputs": [
    {
     "name": "stdout",
     "output_type": "stream",
     "text": [
      "['Turtle', 'Dolphin', 'Shark']\n"
     ]
    }
   ],
   "source": [
    "my_aquarium.show_all()"
   ]
  },
  {
   "cell_type": "code",
   "execution_count": 12,
   "metadata": {},
   "outputs": [],
   "source": [
    "my_aquarium.leaves(\"Turtle\")"
   ]
  },
  {
   "cell_type": "code",
   "execution_count": 13,
   "metadata": {},
   "outputs": [
    {
     "name": "stdout",
     "output_type": "stream",
     "text": [
      "['Dolphin', 'Shark']\n"
     ]
    }
   ],
   "source": [
    "my_aquarium.show_all()"
   ]
  }
 ],
 "metadata": {
  "interpreter": {
   "hash": "b3ed8e708b643839dc49c9e4479760f0fed46f4af64d471bc476f8b8b680b9fd"
  },
  "kernelspec": {
   "display_name": "Python 3.9.6 64-bit",
   "name": "python3"
  },
  "language_info": {
   "codemirror_mode": {
    "name": "ipython",
    "version": 3
   },
   "file_extension": ".py",
   "mimetype": "text/x-python",
   "name": "python",
   "nbconvert_exporter": "python",
   "pygments_lexer": "ipython3",
   "version": "3.9.6"
  }
 },
 "nbformat": 4,
 "nbformat_minor": 2
}