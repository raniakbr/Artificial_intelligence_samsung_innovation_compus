{
 "cells": [
  {
   "cell_type": "markdown",
   "metadata": {},
   "source": [
    "## Quiz #0105 "
   ]
  },
  {
   "cell_type": "markdown",
   "metadata": {},
   "source": [
    "#### Assignment: \n",
    "- Write a function named 'palindrome' to test whether the entered word or sentence is a palindrome.<br>\n",
    "- Ignore capitalization, spaces, punctuation marks, symbols, etc. <br>\n",
    "- Use the properties of 'queue' and 'stack' data structures. <br>"
   ]
  },
  {
   "cell_type": "markdown",
   "metadata": {},
   "source": [
    "Palindrome examples: <br>\n",
    "- mom\n",
    "- wow\n",
    "- noon\n",
    "- level\n",
    "- radar\n",
    "- kayak\n",
    "- racecar\n",
    "- God's dog\n",
    "- Madam, I'm Adam"
   ]
  },
  {
   "cell_type": "code",
   "execution_count": 30,
   "metadata": {},
   "outputs": [
    {
     "name": "stdout",
     "output_type": "stream",
     "text": [
      "True\n",
      "True\n",
      "True\n",
      "False\n"
     ]
    }
   ],
   "source": [
    "def palindrome(d):\r\n",
    "    d_i =[]\r\n",
    "\r\n",
    "    #supprimer les caractères secondaires\r\n",
    "    \r\n",
    "    for char in d :\r\n",
    "        if char in \" ?.!/;:,'\":\r\n",
    "            d=d.replace(char,'')\r\n",
    "\r\n",
    "    #ignorer les maj\r\n",
    "\r\n",
    "    d_= list(d.upper())\r\n",
    "    for i in range(0,len(d_)) :\r\n",
    "        d_i.append(d_.pop())\r\n",
    "\r\n",
    "    if list(d.upper()) == d_i :\r\n",
    "        print(\"True\")\r\n",
    "    else:\r\n",
    "        print(\"False\")\r\n",
    "    \r\n",
    "\r\n",
    "palindrome(\"mom\")\r\n",
    "palindrome(\"Kayak\")\r\n",
    "palindrome(\"Madam, I'm Adam\")\r\n",
    "palindrome(\"hello\")\r\n",
    "\r\n",
    "\r\n",
    "    \r\n",
    "    \r\n",
    "    \r\n",
    "    "
   ]
  },
  {
   "cell_type": "markdown",
   "metadata": {},
   "source": [
    "Test results:"
   ]
  },
  {
   "cell_type": "code",
   "execution_count": 2,
   "metadata": {},
   "outputs": [
    {
     "data": {
      "text/plain": [
       "True"
      ]
     },
     "execution_count": 2,
     "metadata": {},
     "output_type": "execute_result"
    }
   ],
   "source": [
    "palindrome(\"Kayak\")"
   ]
  },
  {
   "cell_type": "code",
   "execution_count": 3,
   "metadata": {},
   "outputs": [
    {
     "data": {
      "text/plain": [
       "True"
      ]
     },
     "execution_count": 3,
     "metadata": {},
     "output_type": "execute_result"
    }
   ],
   "source": [
    "palindrome(\"Madam, I'm Adam\")"
   ]
  },
  {
   "cell_type": "code",
   "execution_count": 4,
   "metadata": {},
   "outputs": [
    {
     "data": {
      "text/plain": [
       "False"
      ]
     },
     "execution_count": 4,
     "metadata": {},
     "output_type": "execute_result"
    }
   ],
   "source": [
    "palindrome(\"Hello\")"
   ]
  },
  {
   "cell_type": "code",
   "execution_count": null,
   "metadata": {},
   "outputs": [],
   "source": []
  }
 ],
 "metadata": {
  "kernelspec": {
   "display_name": "Python 3",
   "language": "python",
   "name": "python3"
  },
  "language_info": {
   "codemirror_mode": {
    "name": "ipython",
    "version": 3
   },
   "file_extension": ".py",
   "mimetype": "text/x-python",
   "name": "python",
   "nbconvert_exporter": "python",
   "pygments_lexer": "ipython3",
   "version": "3.7.3"
  }
 },
 "nbformat": 4,
 "nbformat_minor": 2
}