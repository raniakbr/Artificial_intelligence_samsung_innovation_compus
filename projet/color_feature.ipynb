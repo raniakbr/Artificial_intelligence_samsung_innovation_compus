{
 "cells": [
  {
   "cell_type": "code",
   "execution_count": 32,
   "source": [
    "import PIL\r\n",
    "from PIL import Image\r\n",
    "import requests\r\n",
    "from io import BytesIO\r\n",
    "import webcolors\r\n",
    "import pandas as pd\r\n",
    "import os\r\n",
    "from os import listdir\r\n",
    "from os.path import isfile, join\r\n",
    "import numpy as np\r\n"
   ],
   "outputs": [],
   "metadata": {}
  },
  {
   "cell_type": "code",
   "execution_count": 33,
   "source": [
    "# renommer les images\r\n",
    "#changez ça en fonction de vos répertoires\r\n",
    "i=1\r\n",
    "for f in listdir(\"./images\"):\r\n",
    "    if isfile(join(\"./images\", f)) : \r\n",
    "        os.rename(join(\"./images\", f), join(\"./images\",str(i)+\".jpg\"))\r\n",
    "        i+=1"
   ],
   "outputs": [
    {
     "output_type": "error",
     "ename": "FileExistsError",
     "evalue": "[WinError 183] Impossible de créer un fichier déjà existant: './images\\\\10.jpg' -> './images\\\\2.jpg'",
     "traceback": [
      "\u001b[1;31m---------------------------------------------------------------------------\u001b[0m",
      "\u001b[1;31mFileExistsError\u001b[0m                           Traceback (most recent call last)",
      "\u001b[1;32m~\\AppData\\Local\\Temp/ipykernel_11160/1280075700.py\u001b[0m in \u001b[0;36m<module>\u001b[1;34m\u001b[0m\n\u001b[0;32m      3\u001b[0m \u001b[1;32mfor\u001b[0m \u001b[0mf\u001b[0m \u001b[1;32min\u001b[0m \u001b[0mlistdir\u001b[0m\u001b[1;33m(\u001b[0m\u001b[1;34m\"./images\"\u001b[0m\u001b[1;33m)\u001b[0m\u001b[1;33m:\u001b[0m\u001b[1;33m\u001b[0m\u001b[1;33m\u001b[0m\u001b[0m\n\u001b[0;32m      4\u001b[0m     \u001b[1;32mif\u001b[0m \u001b[0misfile\u001b[0m\u001b[1;33m(\u001b[0m\u001b[0mjoin\u001b[0m\u001b[1;33m(\u001b[0m\u001b[1;34m\"./images\"\u001b[0m\u001b[1;33m,\u001b[0m \u001b[0mf\u001b[0m\u001b[1;33m)\u001b[0m\u001b[1;33m)\u001b[0m \u001b[1;33m:\u001b[0m\u001b[1;33m\u001b[0m\u001b[1;33m\u001b[0m\u001b[0m\n\u001b[1;32m----> 5\u001b[1;33m         \u001b[0mos\u001b[0m\u001b[1;33m.\u001b[0m\u001b[0mrename\u001b[0m\u001b[1;33m(\u001b[0m\u001b[0mjoin\u001b[0m\u001b[1;33m(\u001b[0m\u001b[1;34m\"./images\"\u001b[0m\u001b[1;33m,\u001b[0m \u001b[0mf\u001b[0m\u001b[1;33m)\u001b[0m\u001b[1;33m,\u001b[0m \u001b[0mjoin\u001b[0m\u001b[1;33m(\u001b[0m\u001b[1;34m\"./images\"\u001b[0m\u001b[1;33m,\u001b[0m\u001b[0mstr\u001b[0m\u001b[1;33m(\u001b[0m\u001b[0mi\u001b[0m\u001b[1;33m)\u001b[0m\u001b[1;33m+\u001b[0m\u001b[1;34m\".jpg\"\u001b[0m\u001b[1;33m)\u001b[0m\u001b[1;33m)\u001b[0m\u001b[1;33m\u001b[0m\u001b[1;33m\u001b[0m\u001b[0m\n\u001b[0m\u001b[0;32m      6\u001b[0m         \u001b[0mi\u001b[0m\u001b[1;33m+=\u001b[0m\u001b[1;36m1\u001b[0m\u001b[1;33m\u001b[0m\u001b[1;33m\u001b[0m\u001b[0m\n",
      "\u001b[1;31mFileExistsError\u001b[0m: [WinError 183] Impossible de créer un fichier déjà existant: './images\\\\10.jpg' -> './images\\\\2.jpg'"
     ]
    }
   ],
   "metadata": {}
  },
  {
   "cell_type": "code",
   "execution_count": 41,
   "source": [
    "import webcolors\r\n",
    "def closest_colour(requested_colour):\r\n",
    "    min_colours = {}\r\n",
    "    for key, name in webcolors.CSS21_HEX_TO_NAMES.items():\r\n",
    "        r_c, g_c, b_c = webcolors.hex_to_rgb(key)\r\n",
    "        rd = (r_c - requested_colour[0]) ** 2\r\n",
    "        gd = (g_c - requested_colour[1]) ** 2\r\n",
    "        bd = (b_c - requested_colour[2]) ** 2\r\n",
    "        min_colours[(rd + gd + bd)] = name\r\n",
    "    return min_colours[min(min_colours.keys())]\r\n"
   ],
   "outputs": [],
   "metadata": {}
  },
  {
   "cell_type": "code",
   "execution_count": 42,
   "source": [],
   "outputs": [
    {
     "output_type": "execute_result",
     "data": {
      "text/plain": [
       "'silver'"
      ]
     },
     "metadata": {},
     "execution_count": 42
    }
   ],
   "metadata": {}
  },
  {
   "cell_type": "code",
   "execution_count": null,
   "source": [
    "def top_colos(image, n):\r\n",
    "    # convert the image to rgb\r\n",
    "    image = image.convert('RGB')\r\n",
    "\r\n",
    "    # resize the image to 300 x 300\r\n",
    "    image = image.resize((300, 300))\r\n",
    "\r\n",
    "    detected_colors = []\r\n",
    "    for x in range(image.width):\r\n",
    "        for y in range(image.height):\r\n",
    "            detected_colors.append(closest_colour(image.getpixel((x, y))))\r\n",
    "    Series_Colors = pd.Series(detected_colors)\r\n",
    "    output = Series_Colors.value_counts()/len(Series_Colors)\r\n",
    "    return(output.head(n))\r\n",
    "\r\n",
    "\r\n"
   ],
   "outputs": [],
   "metadata": {}
  },
  {
   "cell_type": "code",
   "execution_count": null,
   "source": [
    "'''# read images\r\n",
    "img = Image.open('./images/1_.jpeg')\r\n",
    "img'''\r\n"
   ],
   "outputs": [
    {
     "output_type": "execute_result",
     "data": {
      "text/plain": [
       "\"# read images\\nimg = Image.open('./images/1_.jpeg')\\nimg\""
      ]
     },
     "metadata": {},
     "execution_count": 16
    }
   ],
   "metadata": {}
  },
  {
   "cell_type": "code",
   "execution_count": 34,
   "source": [
    "list_outputs = []\r\n",
    "list_images = [f for f in listdir(\"./images\") if isfile(join(\"./images\", f))]\r\n"
   ],
   "outputs": [],
   "metadata": {}
  },
  {
   "cell_type": "code",
   "execution_count": 35,
   "source": [
    "#extraction des couleurs\r\n",
    "for image in list_images:\r\n",
    "    img = Image.open(join('./images/'+image))\r\n",
    "    list_outputs.append(list(top_colos(img, 5).index))\r\n"
   ],
   "outputs": [],
   "metadata": {}
  },
  {
   "cell_type": "code",
   "execution_count": 36,
   "source": [
    "dict_images = {}\r\n",
    "dict_images.update({\"Image\": list_images, \"color\": list_outputs})\r\n"
   ],
   "outputs": [],
   "metadata": {}
  },
  {
   "cell_type": "code",
   "execution_count": 43,
   "source": [
    "#dict_images\r\n",
    "\r\n",
    "\r\n"
   ],
   "outputs": [],
   "metadata": {}
  },
  {
   "cell_type": "code",
   "execution_count": 38,
   "source": [
    "df = pd.DataFrame(dict_images )\r\n",
    "df.head(20) "
   ],
   "outputs": [
    {
     "output_type": "execute_result",
     "data": {
      "text/html": [
       "<div>\n",
       "<style scoped>\n",
       "    .dataframe tbody tr th:only-of-type {\n",
       "        vertical-align: middle;\n",
       "    }\n",
       "\n",
       "    .dataframe tbody tr th {\n",
       "        vertical-align: top;\n",
       "    }\n",
       "\n",
       "    .dataframe thead th {\n",
       "        text-align: right;\n",
       "    }\n",
       "</style>\n",
       "<table border=\"1\" class=\"dataframe\">\n",
       "  <thead>\n",
       "    <tr style=\"text-align: right;\">\n",
       "      <th></th>\n",
       "      <th>Image</th>\n",
       "      <th>color</th>\n",
       "    </tr>\n",
       "  </thead>\n",
       "  <tbody>\n",
       "    <tr>\n",
       "      <th>0</th>\n",
       "      <td>1.jpg</td>\n",
       "      <td>[silver, gray, purple, olive, maroon]</td>\n",
       "    </tr>\n",
       "    <tr>\n",
       "      <th>1</th>\n",
       "      <td>10.jpg</td>\n",
       "      <td>[silver, white, gray, black, teal]</td>\n",
       "    </tr>\n",
       "    <tr>\n",
       "      <th>2</th>\n",
       "      <td>11.jpg</td>\n",
       "      <td>[white, silver, black, gray, maroon]</td>\n",
       "    </tr>\n",
       "    <tr>\n",
       "      <th>3</th>\n",
       "      <td>12.jpg</td>\n",
       "      <td>[white, silver, gray, black, teal]</td>\n",
       "    </tr>\n",
       "    <tr>\n",
       "      <th>4</th>\n",
       "      <td>13.jpg</td>\n",
       "      <td>[gray, black, purple, maroon, olive]</td>\n",
       "    </tr>\n",
       "    <tr>\n",
       "      <th>5</th>\n",
       "      <td>14.jpg</td>\n",
       "      <td>[silver, white, black, gray, maroon]</td>\n",
       "    </tr>\n",
       "    <tr>\n",
       "      <th>6</th>\n",
       "      <td>15.jpg</td>\n",
       "      <td>[silver, white, gray, black, olive]</td>\n",
       "    </tr>\n",
       "    <tr>\n",
       "      <th>7</th>\n",
       "      <td>16.jpg</td>\n",
       "      <td>[silver, gray, white, black, navy]</td>\n",
       "    </tr>\n",
       "    <tr>\n",
       "      <th>8</th>\n",
       "      <td>17.jpg</td>\n",
       "      <td>[silver, gray, black, maroon, olive]</td>\n",
       "    </tr>\n",
       "    <tr>\n",
       "      <th>9</th>\n",
       "      <td>18.jpg</td>\n",
       "      <td>[white, silver, gray, maroon, red]</td>\n",
       "    </tr>\n",
       "    <tr>\n",
       "      <th>10</th>\n",
       "      <td>19.jpg</td>\n",
       "      <td>[white, silver, gray, purple, orange]</td>\n",
       "    </tr>\n",
       "    <tr>\n",
       "      <th>11</th>\n",
       "      <td>2.jpg</td>\n",
       "      <td>[white, silver, gray, black, green]</td>\n",
       "    </tr>\n",
       "    <tr>\n",
       "      <th>12</th>\n",
       "      <td>20.jpg</td>\n",
       "      <td>[white, silver, gray, red, olive]</td>\n",
       "    </tr>\n",
       "    <tr>\n",
       "      <th>13</th>\n",
       "      <td>21.jpg</td>\n",
       "      <td>[white, silver, gray, black, teal]</td>\n",
       "    </tr>\n",
       "    <tr>\n",
       "      <th>14</th>\n",
       "      <td>22.jpg</td>\n",
       "      <td>[white, gray, silver, black, teal]</td>\n",
       "    </tr>\n",
       "    <tr>\n",
       "      <th>15</th>\n",
       "      <td>23.jpg</td>\n",
       "      <td>[silver, white, gray, orange, red]</td>\n",
       "    </tr>\n",
       "    <tr>\n",
       "      <th>16</th>\n",
       "      <td>24.jpg</td>\n",
       "      <td>[white, silver, gray, black, green]</td>\n",
       "    </tr>\n",
       "    <tr>\n",
       "      <th>17</th>\n",
       "      <td>25.jpg</td>\n",
       "      <td>[gray, silver, teal, olive, green]</td>\n",
       "    </tr>\n",
       "    <tr>\n",
       "      <th>18</th>\n",
       "      <td>26.jpg</td>\n",
       "      <td>[white, silver, gray, yellow, red]</td>\n",
       "    </tr>\n",
       "    <tr>\n",
       "      <th>19</th>\n",
       "      <td>27.jpg</td>\n",
       "      <td>[white, silver, gray, black, teal]</td>\n",
       "    </tr>\n",
       "  </tbody>\n",
       "</table>\n",
       "</div>"
      ],
      "text/plain": [
       "     Image                                  color\n",
       "0    1.jpg  [silver, gray, purple, olive, maroon]\n",
       "1   10.jpg     [silver, white, gray, black, teal]\n",
       "2   11.jpg   [white, silver, black, gray, maroon]\n",
       "3   12.jpg     [white, silver, gray, black, teal]\n",
       "4   13.jpg   [gray, black, purple, maroon, olive]\n",
       "5   14.jpg   [silver, white, black, gray, maroon]\n",
       "6   15.jpg    [silver, white, gray, black, olive]\n",
       "7   16.jpg     [silver, gray, white, black, navy]\n",
       "8   17.jpg   [silver, gray, black, maroon, olive]\n",
       "9   18.jpg     [white, silver, gray, maroon, red]\n",
       "10  19.jpg  [white, silver, gray, purple, orange]\n",
       "11   2.jpg    [white, silver, gray, black, green]\n",
       "12  20.jpg      [white, silver, gray, red, olive]\n",
       "13  21.jpg     [white, silver, gray, black, teal]\n",
       "14  22.jpg     [white, gray, silver, black, teal]\n",
       "15  23.jpg     [silver, white, gray, orange, red]\n",
       "16  24.jpg    [white, silver, gray, black, green]\n",
       "17  25.jpg     [gray, silver, teal, olive, green]\n",
       "18  26.jpg     [white, silver, gray, yellow, red]\n",
       "19  27.jpg     [white, silver, gray, black, teal]"
      ]
     },
     "metadata": {},
     "execution_count": 38
    }
   ],
   "metadata": {}
  }
 ],
 "metadata": {
  "orig_nbformat": 4,
  "language_info": {
   "name": "python",
   "version": "3.9.6",
   "mimetype": "text/x-python",
   "codemirror_mode": {
    "name": "ipython",
    "version": 3
   },
   "pygments_lexer": "ipython3",
   "nbconvert_exporter": "python",
   "file_extension": ".py"
  },
  "kernelspec": {
   "name": "python3",
   "display_name": "Python 3.9.6 64-bit"
  },
  "interpreter": {
   "hash": "b3ed8e708b643839dc49c9e4479760f0fed46f4af64d471bc476f8b8b680b9fd"
  }
 },
 "nbformat": 4,
 "nbformat_minor": 2
}