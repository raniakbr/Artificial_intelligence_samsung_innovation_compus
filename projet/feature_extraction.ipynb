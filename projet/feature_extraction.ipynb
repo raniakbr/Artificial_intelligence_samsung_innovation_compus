{
 "cells": [
  {
   "cell_type": "code",
   "execution_count": 2,
   "source": [
    "import PIL\r\n",
    "from PIL import Image\r\n",
    "import requests\r\n",
    "from io import BytesIO\r\n",
    "import webcolors\r\n",
    "import pandas as pd\r\n",
    "import os\r\n",
    "from os import listdir\r\n",
    "from os.path import isfile, join\r\n",
    "import numpy as np\r\n",
    "import cv2\r\n",
    "import matplotlib.pyplot as plt\r\n",
    "from scipy import misc, ndimage\r\n",
    "from PIL import ImageEnhance\r\n",
    "\r\n"
   ],
   "outputs": [],
   "metadata": {}
  },
  {
   "cell_type": "code",
   "execution_count": 3,
   "source": [
    "'''# renommer les images à executer une seule fois !\r\n",
    "#changez ça en fonction de vos répertoires\r\n",
    "i=1\r\n",
    "for f in listdir(\"./images\"):\r\n",
    "    if isfile(join(\"./images\", f)) : \r\n",
    "        os.rename(join(\"./images\", f), join(\"./images\",str(i)+\".jpg\"))\r\n",
    "        i+=1\r\n",
    "'''"
   ],
   "outputs": [
    {
     "output_type": "execute_result",
     "data": {
      "text/plain": [
       "'# renommer les images à executer une seule fois !\\n#changez ça en fonction de vos répertoires\\ni=1\\nfor f in listdir(\"./images\"):\\n    if isfile(join(\"./images\", f)) : \\n        os.rename(join(\"./images\", f), join(\"./images\",str(i)+\".jpg\"))\\n        i+=1\\n'"
      ]
     },
     "metadata": {},
     "execution_count": 3
    }
   ],
   "metadata": {}
  },
  {
   "cell_type": "code",
   "execution_count": 4,
   "source": [
    "#fonction RGB ==> color_name\r\n",
    "def closest_colour(requested_colour):\r\n",
    "    min_colours = {}\r\n",
    "    for key, name in webcolors.CSS21_HEX_TO_NAMES.items():\r\n",
    "        r_c, g_c, b_c = webcolors.hex_to_rgb(key)\r\n",
    "        rd = (r_c - requested_colour[0]) ** 2\r\n",
    "        gd = (g_c - requested_colour[1]) ** 2\r\n",
    "        bd = (b_c - requested_colour[2]) ** 2\r\n",
    "        min_colours[(rd + gd + bd)] = name\r\n",
    "    return min_colours[min(min_colours.keys())]\r\n"
   ],
   "outputs": [],
   "metadata": {}
  },
  {
   "cell_type": "code",
   "execution_count": 5,
   "source": [
    "#useless pour le moment \r\n",
    "def paper_exp(image) : \r\n",
    "    detected_colors = []\r\n",
    "    white_parts= 0\r\n",
    "    image = image.resize((300, 300))\r\n",
    "    top_left = image.crop((0, 0, 150, 150))\r\n",
    "    top_right = image.crop((150, 0, 300, 150))\r\n",
    "    bottom_left = image.crop((0, 150, 150, 300))\r\n",
    "    bottom_right = image.crop((150, 150, 300, 300))\r\n",
    "    '''for part in [top_left , top_right , bottom_left , bottom_right]:\r\n",
    "        for x in range(part.width) :\r\n",
    "            for y in range(part.height) : \r\n",
    "                detected_colors.append(closest_colour(image.getpixel((x, y))))'''\r\n",
    "    for part in [top_left, top_right, bottom_left, bottom_right]:\r\n",
    "        if ((str(top_colos(part, 1).index[0])) == 'white' and (top_colos(part, 1))[0] > 0.99 ):\r\n",
    "            white_parts += 1\r\n",
    "    return white_parts         \r\n",
    "    \r\n"
   ],
   "outputs": [],
   "metadata": {}
  },
  {
   "cell_type": "code",
   "execution_count": 6,
   "source": [
    "#retourne le nbr de contour dans un dessin exploitée comme étant le nombre de traits qui forme le dessin\r\n",
    "def contouring(image): \r\n",
    "    gray = cv2.cvtColor(image, cv2.COLOR_BGR2GRAY)\r\n",
    "    edged = cv2.Canny(gray, 30, 200)\r\n",
    "    contours, hierarchy = cv2.findContours(edged,\r\n",
    "                                           cv2.RETR_EXTERNAL, cv2.CHAIN_APPROX_NONE)\r\n",
    "    return len(contours)\r\n"
   ],
   "outputs": [],
   "metadata": {}
  },
  {
   "cell_type": "code",
   "execution_count": 7,
   "source": [
    "#retourne n couleurs dominantes\r\n",
    "def top_colors(image, n):\r\n",
    "    # convert the image to rgb\r\n",
    "    image = image.convert('RGB')\r\n",
    "\r\n",
    "    # resize the image to 300 x 300\r\n",
    "    image = image.resize((300, 300))\r\n",
    "\r\n",
    "    detected_colors = []\r\n",
    "    for x in range(image.width):\r\n",
    "        for y in range(image.height):\r\n",
    "            detected_colors.append(closest_colour(image.getpixel((x, y))))\r\n",
    "    Series_Colors = pd.Series(detected_colors)\r\n",
    "    output = Series_Colors.value_counts()/len(Series_Colors)\r\n",
    "    return(output.head(n))\r\n",
    "\r\n",
    "\r\n"
   ],
   "outputs": [],
   "metadata": {}
  },
  {
   "cell_type": "code",
   "execution_count": 8,
   "source": [
    "#retourne le pourcentage de surface exploitée du support ainsi que la position de cette dernière par rapport à x et y\r\n",
    "def exp_area(image):\r\n",
    "    gray = cv2.cvtColor(image, cv2.COLOR_BGR2GRAY)\r\n",
    "    blur = cv2.GaussianBlur(gray, (5, 5), 0)\r\n",
    "    thresh = cv2.threshold(\r\n",
    "        blur, 0, 255, cv2.THRESH_BINARY_INV + cv2.THRESH_OTSU)[1]\r\n",
    "    x, y, w, h = cv2.boundingRect(thresh)\r\n",
    "    return round((w*h)/(image.shape[0]*image.shape[1])*100, 2), round((x)/(image.shape[0])*100, 2), round((y)/(image.shape[1])*100, 2)\r\n",
    "    \r\n"
   ],
   "outputs": [],
   "metadata": {}
  },
  {
   "cell_type": "code",
   "execution_count": 13,
   "source": [
    "#initialisation \r\n",
    "list_outputs = []\r\n",
    "#list_white_parts = []\r\n",
    "list_contours = []\r\n",
    "list_exp_areas=[]\r\n",
    "list_positions=[]\r\n",
    "\r\n",
    "#récupère la listes de noms de fichier\r\n",
    "list_images = [f for f in listdir(\"./images\") if isfile(join(\"./images\", f))]\r\n"
   ],
   "outputs": [],
   "metadata": {}
  },
  {
   "cell_type": "code",
   "execution_count": 14,
   "source": [
    "#extraction des couleurs\r\n",
    "for image in list_images:\r\n",
    "    print(\"traitement sur : \"+image)\r\n",
    "    img = Image.open(join('./images/'+image))\r\n",
    "    list_outputs.append(list(top_colors(img, 5).index))\r\n",
    "    img = cv2.imread(join('./images/'+image))\r\n",
    "    list_contours.append(contouring(img))\r\n",
    "    area, x, y = exp_area(img)\r\n",
    "    list_exp_areas.append(area)\r\n",
    "    list_positions.append([x,y])\r\n"
   ],
   "outputs": [
    {
     "output_type": "stream",
     "name": "stdout",
     "text": [
      "traitement sur : 1.jpg\n",
      "traitement sur : 1.png\n",
      "traitement sur : 2.jpg\n",
      "traitement sur : 3.jpg\n",
      "traitement sur : 5.png\n",
      "traitement sur : 6.png\n",
      "traitement sur : 9.png\n"
     ]
    }
   ],
   "metadata": {}
  },
  {
   "cell_type": "code",
   "execution_count": 23,
   "source": [
    "dict_images = {}\r\n",
    "'''dict_images.update({\"Image\": list_images, \"color\": list_outputs,\r\n",
    "                   \"white_part\": list_white_parts, \"contour\": list_contours,\"exp_area\":list_exp_areas , 'position' : list_positions})\r\n",
    "'''\r\n",
    "dict_images.update({\"Image\": list_images, \"color\": list_outputs, 'position': list_positions, \"nbr_contour\": list_contours,\r\n",
    "                   \"exp_area\": list_exp_areas, \"density\": [i / j for i, j in zip(list_contours, list_exp_areas)]})\r\n"
   ],
   "outputs": [],
   "metadata": {}
  },
  {
   "cell_type": "code",
   "execution_count": 21,
   "source": [
    "df = pd.DataFrame(dict_images)\r\n",
    "df"
   ],
   "outputs": [
    {
     "output_type": "execute_result",
     "data": {
      "text/html": [
       "<div>\n",
       "<style scoped>\n",
       "    .dataframe tbody tr th:only-of-type {\n",
       "        vertical-align: middle;\n",
       "    }\n",
       "\n",
       "    .dataframe tbody tr th {\n",
       "        vertical-align: top;\n",
       "    }\n",
       "\n",
       "    .dataframe thead th {\n",
       "        text-align: right;\n",
       "    }\n",
       "</style>\n",
       "<table border=\"1\" class=\"dataframe\">\n",
       "  <thead>\n",
       "    <tr style=\"text-align: right;\">\n",
       "      <th></th>\n",
       "      <th>Image</th>\n",
       "      <th>color</th>\n",
       "      <th>nbr_contour</th>\n",
       "      <th>exp_area</th>\n",
       "      <th>density</th>\n",
       "      <th>position</th>\n",
       "    </tr>\n",
       "  </thead>\n",
       "  <tbody>\n",
       "    <tr>\n",
       "      <th>0</th>\n",
       "      <td>1.jpg</td>\n",
       "      <td>[white, silver, gray, yellow, teal]</td>\n",
       "      <td>510</td>\n",
       "      <td>89.26</td>\n",
       "      <td>5.713646</td>\n",
       "      <td>[0.0, 7.25]</td>\n",
       "    </tr>\n",
       "    <tr>\n",
       "      <th>1</th>\n",
       "      <td>1.png</td>\n",
       "      <td>[white, silver, green, olive, lime]</td>\n",
       "      <td>26</td>\n",
       "      <td>90.56</td>\n",
       "      <td>0.287102</td>\n",
       "      <td>[0.0, 6.38]</td>\n",
       "    </tr>\n",
       "    <tr>\n",
       "      <th>2</th>\n",
       "      <td>2.jpg</td>\n",
       "      <td>[white, silver, gray, yellow, teal]</td>\n",
       "      <td>1374</td>\n",
       "      <td>95.77</td>\n",
       "      <td>14.346873</td>\n",
       "      <td>[0.0, 2.38]</td>\n",
       "    </tr>\n",
       "    <tr>\n",
       "      <th>3</th>\n",
       "      <td>3.jpg</td>\n",
       "      <td>[white, silver, gray, orange, yellow]</td>\n",
       "      <td>1263</td>\n",
       "      <td>96.92</td>\n",
       "      <td>13.031366</td>\n",
       "      <td>[0.0, 2.25]</td>\n",
       "    </tr>\n",
       "    <tr>\n",
       "      <th>4</th>\n",
       "      <td>5.png</td>\n",
       "      <td>[silver, gray, olive, orange, maroon]</td>\n",
       "      <td>0</td>\n",
       "      <td>86.49</td>\n",
       "      <td>0.000000</td>\n",
       "      <td>[5.19, 7.0]</td>\n",
       "    </tr>\n",
       "    <tr>\n",
       "      <th>5</th>\n",
       "      <td>6.png</td>\n",
       "      <td>[black, gray, white, silver, teal]</td>\n",
       "      <td>65</td>\n",
       "      <td>100.00</td>\n",
       "      <td>0.650000</td>\n",
       "      <td>[0.0, 0.0]</td>\n",
       "    </tr>\n",
       "    <tr>\n",
       "      <th>6</th>\n",
       "      <td>9.png</td>\n",
       "      <td>[gray, silver, white, black, teal]</td>\n",
       "      <td>125</td>\n",
       "      <td>100.00</td>\n",
       "      <td>1.250000</td>\n",
       "      <td>[0.0, 0.0]</td>\n",
       "    </tr>\n",
       "  </tbody>\n",
       "</table>\n",
       "</div>"
      ],
      "text/plain": [
       "   Image                                  color  nbr_contour  exp_area  \\\n",
       "0  1.jpg    [white, silver, gray, yellow, teal]          510     89.26   \n",
       "1  1.png    [white, silver, green, olive, lime]           26     90.56   \n",
       "2  2.jpg    [white, silver, gray, yellow, teal]         1374     95.77   \n",
       "3  3.jpg  [white, silver, gray, orange, yellow]         1263     96.92   \n",
       "4  5.png  [silver, gray, olive, orange, maroon]            0     86.49   \n",
       "5  6.png     [black, gray, white, silver, teal]           65    100.00   \n",
       "6  9.png     [gray, silver, white, black, teal]          125    100.00   \n",
       "\n",
       "     density     position  \n",
       "0   5.713646  [0.0, 7.25]  \n",
       "1   0.287102  [0.0, 6.38]  \n",
       "2  14.346873  [0.0, 2.38]  \n",
       "3  13.031366  [0.0, 2.25]  \n",
       "4   0.000000  [5.19, 7.0]  \n",
       "5   0.650000   [0.0, 0.0]  \n",
       "6   1.250000   [0.0, 0.0]  "
      ]
     },
     "metadata": {},
     "execution_count": 21
    }
   ],
   "metadata": {}
  },
  {
   "cell_type": "markdown",
   "source": [
    "# NOTES \r\n",
    "- je dois regrouper les couleurs \r\n"
   ],
   "metadata": {}
  },
  {
   "cell_type": "markdown",
   "source": [],
   "metadata": {}
  }
 ],
 "metadata": {
  "orig_nbformat": 4,
  "language_info": {
   "name": "python",
   "version": "3.9.6",
   "mimetype": "text/x-python",
   "codemirror_mode": {
    "name": "ipython",
    "version": 3
   },
   "pygments_lexer": "ipython3",
   "nbconvert_exporter": "python",
   "file_extension": ".py"
  },
  "kernelspec": {
   "name": "python3",
   "display_name": "Python 3.9.6 64-bit"
  },
  "interpreter": {
   "hash": "b3ed8e708b643839dc49c9e4479760f0fed46f4af64d471bc476f8b8b680b9fd"
  }
 },
 "nbformat": 4,
 "nbformat_minor": 2
}