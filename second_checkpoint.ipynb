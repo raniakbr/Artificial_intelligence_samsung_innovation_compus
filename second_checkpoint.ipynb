{
 "cells": [
  {
   "cell_type": "code",
   "execution_count": 1,
   "metadata": {},
   "outputs": [
    {
     "name": "stdout",
     "output_type": "stream",
     "text": [
      "2002\n",
      "2009\n",
      "2016\n",
      "2023\n",
      "2037\n",
      "2044\n",
      "2051\n",
      "2058\n",
      "2072\n",
      "2079\n",
      "2086\n",
      "2093\n",
      "2107\n",
      "2114\n",
      "2121\n",
      "2128\n",
      "2142\n",
      "2149\n",
      "2156\n",
      "2163\n",
      "2177\n",
      "2184\n",
      "2191\n",
      "2198\n",
      "2212\n",
      "2219\n",
      "2226\n",
      "2233\n",
      "2247\n",
      "2254\n",
      "2261\n",
      "2268\n",
      "2282\n",
      "2289\n",
      "2296\n",
      "2303\n",
      "2317\n",
      "2324\n",
      "2331\n",
      "2338\n",
      "2352\n",
      "2359\n",
      "2366\n",
      "2373\n",
      "2387\n",
      "2394\n",
      "2401\n",
      "2408\n",
      "2422\n",
      "2429\n",
      "2436\n",
      "2443\n",
      "2457\n",
      "2464\n",
      "2471\n",
      "2478\n",
      "2492\n",
      "2499\n",
      "2506\n",
      "2513\n",
      "2527\n",
      "2534\n",
      "2541\n",
      "2548\n",
      "2562\n",
      "2569\n",
      "2576\n",
      "2583\n",
      "2597\n",
      "2604\n",
      "2611\n",
      "2618\n",
      "2632\n",
      "2639\n",
      "2646\n",
      "2653\n",
      "2667\n",
      "2674\n",
      "2681\n",
      "2688\n",
      "2702\n",
      "2709\n",
      "2716\n",
      "2723\n",
      "2737\n",
      "2744\n",
      "2751\n",
      "2758\n",
      "2772\n",
      "2779\n",
      "2786\n",
      "2793\n",
      "2807\n",
      "2814\n",
      "2821\n",
      "2828\n",
      "2842\n",
      "2849\n",
      "2856\n",
      "2863\n",
      "2877\n",
      "2884\n",
      "2891\n",
      "2898\n",
      "2912\n",
      "2919\n",
      "2926\n",
      "2933\n",
      "2947\n",
      "2954\n",
      "2961\n",
      "2968\n",
      "2982\n",
      "2989\n",
      "2996\n",
      "3003\n",
      "3017\n",
      "3024\n",
      "3031\n",
      "3038\n",
      "3052\n",
      "3059\n",
      "3066\n",
      "3073\n",
      "3087\n",
      "3094\n",
      "3101\n",
      "3108\n",
      "3122\n",
      "3129\n",
      "3136\n",
      "3143\n",
      "3157\n",
      "3164\n",
      "3171\n",
      "3178\n",
      "3192\n",
      "3199\n"
     ]
    }
   ],
   "source": [
    "#question 1 \r\n",
    "for i in range(2000,3201):\r\n",
    "    if i%7 == 0 and i%5 !=0 : \r\n",
    "        print(i) \r\n"
   ]
  },
  {
   "cell_type": "code",
   "execution_count": 8,
   "metadata": {},
   "outputs": [
    {
     "name": "stdout",
     "output_type": "stream",
     "text": [
      "le factoriel de :  5  est : 120\n"
     ]
    }
   ],
   "source": [
    "#question 2 \r\n",
    "\r\n",
    "n = 5\r\n",
    "fact = 1\r\n",
    "\r\n",
    "for i in range(1,n+1) : \r\n",
    "    fact = fact*i\r\n",
    "\r\n",
    "print(\"le factoriel de : \",n,\" est :\",fact)"
   ]
  },
  {
   "cell_type": "code",
   "execution_count": 10,
   "metadata": {},
   "outputs": [
    {
     "name": "stdout",
     "output_type": "stream",
     "text": [
      "{1: 1, 2: 4, 3: 9, 4: 16, 5: 25, 6: 36, 7: 49, 8: 64}\n"
     ]
    }
   ],
   "source": [
    "#question 3 \r\n",
    "\r\n",
    "dict_cube = {}\r\n",
    "n = 8\r\n",
    "\r\n",
    "for i in range(1,n+1):\r\n",
    "    dict_cube.update({i:i*i})\r\n",
    "\r\n",
    "print(dict_cube)"
   ]
  },
  {
   "cell_type": "code",
   "execution_count": 11,
   "metadata": {},
   "outputs": [
    {
     "name": "stdout",
     "output_type": "stream",
     "text": [
      "GoyCode\n"
     ]
    }
   ],
   "source": [
    "#question 4 \r\n",
    "\r\n",
    "indice = 2\r\n",
    "string =\"GoMyCode\"\r\n",
    "print(string[:indice]+ string[indice+1:])"
   ]
  },
  {
   "cell_type": "code",
   "execution_count": 13,
   "metadata": {},
   "outputs": [
    {
     "name": "stdout",
     "output_type": "stream",
     "text": [
      "Array :  [[0 1]\n",
      " [2 3]\n",
      " [4 5]]\n",
      "List :  [[0, 1], [2, 3], [4, 5]]\n"
     ]
    }
   ],
   "source": [
    "#question 5 \r\n",
    "\r\n",
    "import numpy as np\r\n",
    "\r\n",
    "array_1 = np.array([[0,1],[2,3],[4,5]])\r\n",
    "print(\"Array : \" ,array_1)\r\n",
    "\r\n",
    "print(\"List : \", array_1.tolist())"
   ]
  },
  {
   "cell_type": "code",
   "execution_count": 14,
   "metadata": {},
   "outputs": [
    {
     "name": "stdout",
     "output_type": "stream",
     "text": [
      "[[ 1. -1.]\n",
      " [-1.  1.]]\n"
     ]
    }
   ],
   "source": [
    "#question 6 \r\n",
    "\r\n",
    "\r\n",
    "array_2 = np.array([[0,1,2]])\r\n",
    "\r\n",
    "array_3 = np.array([[2,1,0]])\r\n",
    "\r\n",
    "print(np.cov(array_2,array_3))\r\n"
   ]
  },
  {
   "cell_type": "code",
   "execution_count": 17,
   "metadata": {},
   "outputs": [
    {
     "name": "stdout",
     "output_type": "stream",
     "text": [
      "(18, 22, 24)\n"
     ]
    }
   ],
   "source": [
    "#question 7 \r\n",
    "from math import *\r\n",
    "\r\n",
    "C = 50\r\n",
    "H = 30\r\n",
    "D = 100,150,180\r\n",
    "\r\n",
    "print(tuple(map(lambda n : int(sqrt((2*n*C)/H)),D)))"
   ]
  }
 ],
 "metadata": {
  "interpreter": {
   "hash": "b3ed8e708b643839dc49c9e4479760f0fed46f4af64d471bc476f8b8b680b9fd"
  },
  "kernelspec": {
   "display_name": "Python 3.9.6 64-bit",
   "name": "python3"
  },
  "language_info": {
   "codemirror_mode": {
    "name": "ipython",
    "version": 3
   },
   "file_extension": ".py",
   "mimetype": "text/x-python",
   "name": "python",
   "nbconvert_exporter": "python",
   "pygments_lexer": "ipython3",
   "version": "3.9.6"
  },
  "orig_nbformat": 4
 },
 "nbformat": 4,
 "nbformat_minor": 2
}