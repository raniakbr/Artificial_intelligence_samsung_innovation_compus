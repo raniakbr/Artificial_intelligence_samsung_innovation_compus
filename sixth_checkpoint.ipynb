{
    "cells": [
        {
            "cell_type": "markdown",
            "source": [
                "# Handle Data"
            ],
            "metadata": {}
        },
        {
            "cell_type": "code",
            "execution_count": 35,
            "source": [
                "import csv\r\n",
                "\r\n",
                "with open('iris.data.txt', 'r') as csvfile:\r\n",
                "    lines = csv.reader(csvfile)\r\n",
                "    \r\n",
                "#Next we need to split the data into a training dataset \r\n",
                "\r\n",
                "import csv\r\n",
                "\r\n",
                "import random\r\n",
                "\r\n",
                "def loadDataset(filename, split, trainingSet=[] , testSet=[]):\r\n",
                "\r\n",
                "    with open(filename, 'r') as csvfile:\r\n",
                "\r\n",
                "        lines = csv.reader(csvfile)\r\n",
                "\r\n",
                "        dataset = list(lines)\r\n",
                "\r\n",
                "        for x in range(len(dataset)-1):\r\n",
                "\r\n",
                "            for y in range(4):\r\n",
                "\r\n",
                "                dataset[x][y] = float(dataset[x][y])\r\n",
                "\r\n",
                "            if random.random() < split:\r\n",
                "                trainingSet.append(dataset[x][:])\r\n",
                "            else:\r\n",
                "                testSet.append(dataset[x][:])\r\n",
                "    return (trainingSet , testSet)\r\n",
                "    \r\n",
                "\r\n"
            ],
            "outputs": [],
            "metadata": {}
        },
        {
            "cell_type": "markdown",
            "source": [
                "# Similarity"
            ],
            "metadata": {}
        },
        {
            "cell_type": "code",
            "execution_count": 36,
            "source": [
                "import math\r\n",
                "import numpy as np\r\n",
                "def euclideanDistance ( instance1 , instance2 , lenght) : \r\n",
                "    somme = 0\r\n",
                "    for i in range(0,lenght) : \r\n",
                "        somme += (instance1[i] - instance2[i]) ** 2\r\n",
                "    return np.sqrt(somme)\r\n",
                "\r\n",
                "    "
            ],
            "outputs": [],
            "metadata": {}
        },
        {
            "cell_type": "markdown",
            "source": [
                "# Neighbors"
            ],
            "metadata": {}
        },
        {
            "cell_type": "code",
            "execution_count": 37,
            "source": [
                "import operator\r\n",
                "\r\n",
                "def getNeighbors(trainingSet, testInstance, k):\r\n",
                "\r\n",
                "    distances = []\r\n",
                "\r\n",
                "    length = len(testInstance)-1\r\n",
                "    for x in range(len(trainingSet)):\r\n",
                "\r\n",
                "        dist = euclideanDistance(testInstance, trainingSet[x], length)\r\n",
                "\r\n",
                "        distances.append((trainingSet[x], dist))\r\n",
                "\r\n",
                "    distances.sort(key=operator.itemgetter(1))\r\n",
                "\r\n",
                "    neighbors = []\r\n",
                "\r\n",
                "    for x in range(k):\r\n",
                "\r\n",
                "        neighbors.append(distances[x][0])\r\n",
                "\r\n",
                "    return neighbors\r\n",
                "    \r\n",
                "\r\n",
                "\r\n"
            ],
            "outputs": [],
            "metadata": {}
        },
        {
            "cell_type": "markdown",
            "source": [
                "# Response"
            ],
            "metadata": {}
        },
        {
            "cell_type": "code",
            "execution_count": 38,
            "source": [
                "def getResponse(neighbors):\r\n",
                "\r\n",
                "    classVotes = {}\r\n",
                "\r\n",
                "    for x in range(len(neighbors)):\r\n",
                "\r\n",
                "        response = neighbors[x][len(neighbors[x])-1]\r\n",
                "        if response in list(classVotes.keys()) :\r\n",
                "            classVotes.update({response : classVotes[response]+1})\r\n",
                "        else : \r\n",
                "            classVotes.update({response : 1})\r\n",
                "\r\n",
                "   # Complete the if clause\r\n",
                "\r\n",
                "    sortedVotes = sorted(classVotes.items(), key=operator.itemgetter(1), reverse=True)\r\n",
                "\r\n",
                "    return sortedVotes[0][0]\r\n",
                "\r\n"
            ],
            "outputs": [],
            "metadata": {}
        },
        {
            "cell_type": "markdown",
            "source": [
                "# Accuracy"
            ],
            "metadata": {}
        },
        {
            "cell_type": "code",
            "execution_count": 39,
            "source": [
                "def getAccuracy(testSet, predictions):\r\n",
                "\r\n",
                "    correct = 0 \r\n",
                "    for i in range(0 , len(testSet)): \r\n",
                "        if testSet[i][4] == predictions[i]  : \r\n",
                "            correct += 1 \r\n",
                "\r\n",
                "    return (correct/float(len(testSet))) * 100.0  \r\n",
                "\r\n"
            ],
            "outputs": [],
            "metadata": {}
        },
        {
            "cell_type": "markdown",
            "source": [
                "# MAIN"
            ],
            "metadata": {}
        },
        {
            "cell_type": "code",
            "execution_count": 44,
            "source": [
                "import matplotlib.pyplot as plt\r\n",
                "def main () : \r\n",
                "\r\n",
                "    trainingSet , testSet = loadDataset('iris.data.txt', 0.66)\r\n",
                "    predections = []\r\n",
                "    m= 1 \r\n",
                "    acc = []\r\n",
                "    for k in range(1 , 41 ) :\r\n",
                "        for instance in testSet : \r\n",
                "            neighbors = getNeighbors(trainingSet , instance, k)\r\n",
                "            \r\n",
                "            response = getResponse(neighbors)\r\n",
                "            if m == 1 : \r\n",
                "                print(\"First instance : \" , instance[0:4])\r\n",
                "                print(\"First instance neighbors : \" ,neighbors)\r\n",
                "                print(\"first instance predection : \",response)\r\n",
                "                m+=1\r\n",
                "                \r\n",
                "            predections.append(response)\r\n",
                "        \r\n",
                "        acc.append(getAccuracy(testSet , predections))\r\n",
                "        if m == 2 :\r\n",
                "            print(\"k = 1  accurency : \",acc[0])\r\n",
                "            m+=1\r\n",
                "    print(\"\\n \\nAccurencies : \" ,acc )\r\n",
                "    \r\n",
                "    plt.plot(range(1,41),acc)\r\n",
                "    plt.xlabel('Value K for KNN')\r\n",
                "    plt.ylabel('Testing Accuracy')\r\n",
                "\r\n",
                "        \r\n",
                "    \r\n",
                "main()"
            ],
            "outputs": [
                {
                    "output_type": "stream",
                    "name": "stdout",
                    "text": [
                        "First instance :  [5.1, 3.5, 1.4, 0.2]\n",
                        "First instance neighbors :  [[5.1, 3.5, 1.4, 0.2, 'Iris-setosa']]\n",
                        "first instance predection :  Iris-setosa\n",
                        "k = 1  accurency :  100.0\n",
                        "\n",
                        " \n",
                        "Accurency :  [100.0, 100.0, 100.0, 100.0, 100.0, 100.0, 100.0, 100.0, 100.0, 100.0, 100.0, 100.0, 100.0, 100.0, 100.0, 100.0, 100.0, 100.0, 100.0, 100.0, 100.0, 100.0, 100.0, 100.0, 100.0, 100.0, 100.0, 100.0, 100.0, 100.0, 100.0, 100.0, 100.0, 100.0, 100.0, 100.0, 100.0, 100.0, 100.0, 100.0]\n"
                    ]
                },
                {
                    "output_type": "display_data",
                    "data": {
                        "text/plain": [
                            "<Figure size 432x288 with 1 Axes>"
                        ],
                        "image/png": "[encoded data removed]"
                    },
                    "metadata": {
                        "needs_background": "light"
                    }
                }
            ],
            "metadata": {}
        },
        {
            "cell_type": "markdown",
            "source": [
                "# Manhatta distance "
            ],
            "metadata": {}
        },
        {
            "cell_type": "code",
            "execution_count": 41,
            "source": [
                "def manhattanDistance( instance1 , instance2 , lenght) : \r\n",
                "    somme = 0\r\n",
                "    for i in range(0,lenght) : \r\n",
                "        somme += (instance1[i] - instance2[i]) ** 2\r\n",
                "    return np.abs(somme)"
            ],
            "outputs": [],
            "metadata": {}
        },
        {
            "cell_type": "code",
            "execution_count": 42,
            "source": [
                "import operator\r\n",
                "\r\n",
                "def getNeighbors_manhattan(trainingSet, testInstance, k):\r\n",
                "\r\n",
                "    distances = []\r\n",
                "    length = len(testInstance)-1\r\n",
                "    for x in range(len(trainingSet)):\r\n",
                "        dist = manhattanDistance(testInstance, trainingSet[x], length)\r\n",
                "        distances.append((trainingSet[x], dist))\r\n",
                "    distances.sort(key=operator.itemgetter(1))\r\n",
                "\r\n",
                "    neighbors = []\r\n",
                "\r\n",
                "    for x in range(k):\r\n",
                "        neighbors.append(distances[x][0])\r\n",
                "\r\n",
                "    return neighbors"
            ],
            "outputs": [],
            "metadata": {}
        },
        {
            "cell_type": "code",
            "execution_count": 43,
            "source": [
                "import matplotlib.pyplot as plt\r\n",
                "\r\n",
                "def main () : \r\n",
                "\r\n",
                "    trainingSet , testSet = loadDataset('iris.data.txt', 0.66)\r\n",
                "    predections = []\r\n",
                "    m= 1 \r\n",
                "    acc = []\r\n",
                "    for k in range(1 ,41 ) :\r\n",
                "        for instance in testSet : \r\n",
                "            neighbors = getNeighbors_manhattan(trainingSet , instance, k)\r\n",
                "            \r\n",
                "            response = getResponse(neighbors)\r\n",
                "            if m == 1 : \r\n",
                "                print(\"First instance : \" , instance[0:4])\r\n",
                "                print(\"First instance neighbors : \" ,neighbors)\r\n",
                "                print(\"first instance predection : \",response)\r\n",
                "                m+=1\r\n",
                "                \r\n",
                "            predections.append(response)\r\n",
                "        \r\n",
                "        acc.append(getAccuracy(testSet , predections))\r\n",
                "        if m == 2 :\r\n",
                "            print(\"k = 1  accurency : \",acc[0])\r\n",
                "            m+=1\r\n",
                "    print(\"\\n \\nAccurencies : \" ,acc )\r\n",
                "    \r\n",
                "    plt.plot(range(1,41),acc)\r\n",
                "    plt.xlabel('Value K for KNN')\r\n",
                "    plt.ylabel('Testing Accuracy')\r\n",
                "\r\n",
                "        \r\n",
                "    \r\n",
                "main()"
            ],
            "outputs": [
                {
                    "output_type": "stream",
                    "name": "stdout",
                    "text": [
                        "First instance :  [5.1, 3.5, 1.4, 0.2]\n",
                        "First instance neighbors :  [[5.1, 3.5, 1.4, 0.2, 'Iris-setosa']]\n",
                        "first instance predection :  Iris-setosa\n",
                        "k = 1  accurency :  98.09523809523809\n",
                        "\n",
                        " \n",
                        "Accurency :  [98.09523809523809, 98.09523809523809, 98.09523809523809, 98.09523809523809, 98.09523809523809, 98.09523809523809, 98.09523809523809, 98.09523809523809, 98.09523809523809, 98.09523809523809, 98.09523809523809, 98.09523809523809, 98.09523809523809, 98.09523809523809, 98.09523809523809, 98.09523809523809, 98.09523809523809, 98.09523809523809, 98.09523809523809, 98.09523809523809, 98.09523809523809, 98.09523809523809, 98.09523809523809, 98.09523809523809, 98.09523809523809, 98.09523809523809, 98.09523809523809, 98.09523809523809, 98.09523809523809, 98.09523809523809, 98.09523809523809, 98.09523809523809, 98.09523809523809, 98.09523809523809, 98.09523809523809, 98.09523809523809, 98.09523809523809, 98.09523809523809, 98.09523809523809, 98.09523809523809]\n"
                    ]
                },
                {
                    "output_type": "display_data",
                    "data": {
                        "text/plain": [
                            "<Figure size 432x288 with 1 Axes>"
                        ],
                        "image/png": "[encoded data removed]"
                    },
                    "metadata": {
                        "needs_background": "light"
                    }
                }
            ],
            "metadata": {}
        }
    ],
    "metadata": {
        "orig_nbformat": 4,
        "language_info": {
            "name": "python",
            "version": "3.9.6",
            "mimetype": "text/x-python",
            "codemirror_mode": {
                "name": "ipython",
                "version": 3
            },
            "pygments_lexer": "ipython3",
            "nbconvert_exporter": "python",
            "file_extension": ".py"
        },
        "kernelspec": {
            "name": "python3",
            "display_name": "Python 3.9.6 64-bit"
        },
        "interpreter": {
            "hash": "b3ed8e708b643839dc49c9e4479760f0fed46f4af64d471bc476f8b8b680b9fd"
        }
    },
    "nbformat": 4,
    "nbformat_minor": 2
}