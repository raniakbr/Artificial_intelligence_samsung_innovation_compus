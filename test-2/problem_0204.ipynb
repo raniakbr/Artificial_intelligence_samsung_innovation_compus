{
 "cells": [
  {
   "cell_type": "markdown",
   "source": [
    "## Quiz #0204"
   ],
   "metadata": {}
  },
  {
   "cell_type": "code",
   "execution_count": 11,
   "source": [
    "import pandas as pd\r\n",
    "import numpy as np\r\n",
    "import os\r\n",
    "import matplotlib.pyplot as plt\r\n",
    "%matplotlib inline"
   ],
   "outputs": [],
   "metadata": {}
  },
  {
   "cell_type": "markdown",
   "source": [
    "#### Read in the data."
   ],
   "metadata": {}
  },
  {
   "cell_type": "code",
   "execution_count": 12,
   "source": [
    "# Go to the directory where the data file is located. \r\n",
    "# os.chdir(r'~~')                # Please, replace the path with your own."
   ],
   "outputs": [],
   "metadata": {}
  },
  {
   "cell_type": "code",
   "execution_count": 13,
   "source": [
    "df = pd.read_csv('data_coffeeshop.csv', header='infer',na_values=[' '])"
   ],
   "outputs": [],
   "metadata": {}
  },
  {
   "cell_type": "code",
   "execution_count": 14,
   "source": [
    "df.shape"
   ],
   "outputs": [
    {
     "output_type": "execute_result",
     "data": {
      "text/plain": [
       "(43182, 3)"
      ]
     },
     "metadata": {},
     "execution_count": 14
    }
   ],
   "metadata": {}
  },
  {
   "cell_type": "code",
   "execution_count": 15,
   "source": [
    "df.head(5)\r\n",
    "\r\n"
   ],
   "outputs": [
    {
     "output_type": "execute_result",
     "data": {
      "text/plain": [
       "   yearOfStart CurrentState  sizeOfsite\n",
       "0       2008.0           In       20.80\n",
       "1       2010.0           In      212.72\n",
       "2       2013.0           In       20.04\n",
       "3       2012.0           In       64.17\n",
       "4       2002.0          Out       11.40"
      ],
      "text/html": [
       "<div>\n",
       "<style scoped>\n",
       "    .dataframe tbody tr th:only-of-type {\n",
       "        vertical-align: middle;\n",
       "    }\n",
       "\n",
       "    .dataframe tbody tr th {\n",
       "        vertical-align: top;\n",
       "    }\n",
       "\n",
       "    .dataframe thead th {\n",
       "        text-align: right;\n",
       "    }\n",
       "</style>\n",
       "<table border=\"1\" class=\"dataframe\">\n",
       "  <thead>\n",
       "    <tr style=\"text-align: right;\">\n",
       "      <th></th>\n",
       "      <th>yearOfStart</th>\n",
       "      <th>CurrentState</th>\n",
       "      <th>sizeOfsite</th>\n",
       "    </tr>\n",
       "  </thead>\n",
       "  <tbody>\n",
       "    <tr>\n",
       "      <th>0</th>\n",
       "      <td>2008.0</td>\n",
       "      <td>In</td>\n",
       "      <td>20.80</td>\n",
       "    </tr>\n",
       "    <tr>\n",
       "      <th>1</th>\n",
       "      <td>2010.0</td>\n",
       "      <td>In</td>\n",
       "      <td>212.72</td>\n",
       "    </tr>\n",
       "    <tr>\n",
       "      <th>2</th>\n",
       "      <td>2013.0</td>\n",
       "      <td>In</td>\n",
       "      <td>20.04</td>\n",
       "    </tr>\n",
       "    <tr>\n",
       "      <th>3</th>\n",
       "      <td>2012.0</td>\n",
       "      <td>In</td>\n",
       "      <td>64.17</td>\n",
       "    </tr>\n",
       "    <tr>\n",
       "      <th>4</th>\n",
       "      <td>2002.0</td>\n",
       "      <td>Out</td>\n",
       "      <td>11.40</td>\n",
       "    </tr>\n",
       "  </tbody>\n",
       "</table>\n",
       "</div>"
      ]
     },
     "metadata": {},
     "execution_count": 15
    }
   ],
   "metadata": {}
  },
  {
   "cell_type": "markdown",
   "source": [
    "#### Answer the following questions."
   ],
   "metadata": {}
  },
  {
   "cell_type": "markdown",
   "source": [
    "1). Make a frequency table of 'yearOfStart' and visualize by year. \r\n",
    "- Sort by the year.\r\n",
    "- Draw a line plot from 1997 to 2014. <= Hint: plt.xlim()"
   ],
   "metadata": {}
  },
  {
   "cell_type": "code",
   "execution_count": 20,
   "source": [
    "df_ = df.sort_values(by = \"yearOfStart\" ).groupby(\"yearOfStart\").count()\r\n",
    "\r\n",
    "df_[\"freq\"] =df_.CurrentState\r\n",
    "df_=df_.drop([\"CurrentState\",\"sizeOfsite\"], axis=1)\r\n",
    "print(df_)\r\n",
    "plt.plot(df_)\r\n",
    "\r\n",
    "plt.xlim(1997,2014)\r\n",
    "\r\n",
    "\r\n"
   ],
   "outputs": [
    {
     "output_type": "stream",
     "name": "stdout",
     "text": [
      "             freq\n",
      "yearOfStart      \n",
      "1964.0          2\n",
      "1966.0          2\n",
      "1967.0          3\n",
      "1968.0          1\n",
      "1969.0          2\n",
      "1970.0          4\n",
      "1971.0          6\n",
      "1972.0          3\n",
      "1974.0          1\n",
      "1975.0          2\n",
      "1976.0          5\n",
      "1979.0          4\n",
      "1980.0          9\n",
      "1981.0          8\n",
      "1982.0         12\n",
      "1983.0          9\n",
      "1984.0         11\n",
      "1985.0         18\n",
      "1986.0         21\n",
      "1987.0         21\n",
      "1988.0         26\n",
      "1989.0         23\n",
      "1990.0         25\n",
      "1991.0         28\n",
      "1992.0         37\n",
      "1993.0         50\n",
      "1994.0         48\n",
      "1995.0         48\n",
      "1996.0         41\n",
      "1997.0         54\n",
      "1998.0         54\n",
      "1999.0         46\n",
      "2000.0         89\n",
      "2001.0        183\n",
      "2002.0        398\n",
      "2003.0        799\n",
      "2004.0        648\n",
      "2005.0        654\n",
      "2006.0        863\n",
      "2007.0       1233\n",
      "2008.0       1579\n",
      "2009.0       2489\n",
      "2010.0       4172\n",
      "2011.0       5942\n",
      "2012.0       6315\n",
      "2013.0       7270\n",
      "2014.0       9905\n"
     ]
    },
    {
     "output_type": "execute_result",
     "data": {
      "text/plain": [
       "<AxesSubplot:>"
      ]
     },
     "metadata": {},
     "execution_count": 20
    },
    {
     "output_type": "display_data",
     "data": {
      "text/plain": [
       "<Figure size 432x288 with 1 Axes>"
      ],
      "image/png": "[encoded data removed]"
     },
     "metadata": {
      "needs_background": "light"
     }
    }
   ],
   "metadata": {}
  },
  {
   "cell_type": "code",
   "execution_count": null,
   "source": [],
   "outputs": [],
   "metadata": {}
  },
  {
   "cell_type": "markdown",
   "source": [
    "2). Now, split the data by the current state of business ('In' or 'Out' of business). Then, visualize the yearly trend of the 'yearOfStart' frequencies. \r\n",
    "- Sort by the year.\r\n",
    "- Draw two overlapping line plots from 1997 to 2014.\r\n",
    "- Use the 'figure' object."
   ],
   "metadata": {}
  },
  {
   "cell_type": "code",
   "execution_count": 17,
   "source": [
    "df_ = df.sort_values(by = \"yearOfStart\" )\r\n",
    "\r\n"
   ],
   "outputs": [],
   "metadata": {}
  },
  {
   "cell_type": "code",
   "execution_count": 18,
   "source": [
    "df_1= df[df.CurrentState == \"In\"]\r\n",
    "df_1 =df_1.sort_values(by = \"yearOfStart\" ).groupby(\"yearOfStart\").count()\r\n",
    "plt.plot( df_1.index, df_1.sizeOfsite  )\r\n",
    "df_2= df[df.CurrentState == \"Out\"]\r\n",
    "df_2 =df_2.sort_values(by = \"yearOfStart\" ).groupby(\"yearOfStart\").count()\r\n",
    "plt.plot( df_2.index, df_2.sizeOfsite  )\r\n",
    "\r\n",
    "plt.xlim(1997,2014)"
   ],
   "outputs": [
    {
     "output_type": "execute_result",
     "data": {
      "text/plain": [
       "(1997.0, 2014.0)"
      ]
     },
     "metadata": {},
     "execution_count": 18
    },
    {
     "output_type": "display_data",
     "data": {
      "text/plain": [
       "<Figure size 432x288 with 1 Axes>"
      ],
      "image/png": "[encoded data removed]"
     },
     "metadata": {
      "needs_background": "light"
     }
    }
   ],
   "metadata": {}
  },
  {
   "cell_type": "code",
   "execution_count": 19,
   "source": [
    "df_ = df.sort_values(by = \"yearOfStart\" ).groupby(\"yearOfStart\").count()\r\n",
    "\r\n",
    "df_[\"freq\"] =df_.CurrentState\r\n",
    "df_=df_.drop([\"CurrentState\",\"sizeOfsite\"], axis=1)\r\n",
    "print(df_)\r\n",
    "plt.plot(df_.index,df_.values,color = 'blue', linestyle='--',label='In Business')"
   ],
   "outputs": [
    {
     "output_type": "stream",
     "name": "stdout",
     "text": [
      "             freq\n",
      "yearOfStart      \n",
      "1964.0          2\n",
      "1966.0          2\n",
      "1967.0          3\n",
      "1968.0          1\n",
      "1969.0          2\n",
      "1970.0          4\n",
      "1971.0          6\n",
      "1972.0          3\n",
      "1974.0          1\n",
      "1975.0          2\n",
      "1976.0          5\n",
      "1979.0          4\n",
      "1980.0          9\n",
      "1981.0          8\n",
      "1982.0         12\n",
      "1983.0          9\n",
      "1984.0         11\n",
      "1985.0         18\n",
      "1986.0         21\n",
      "1987.0         21\n",
      "1988.0         26\n",
      "1989.0         23\n",
      "1990.0         25\n",
      "1991.0         28\n",
      "1992.0         37\n",
      "1993.0         50\n",
      "1994.0         48\n",
      "1995.0         48\n",
      "1996.0         41\n",
      "1997.0         54\n",
      "1998.0         54\n",
      "1999.0         46\n",
      "2000.0         89\n",
      "2001.0        183\n",
      "2002.0        398\n",
      "2003.0        799\n",
      "2004.0        648\n",
      "2005.0        654\n",
      "2006.0        863\n",
      "2007.0       1233\n",
      "2008.0       1579\n",
      "2009.0       2489\n",
      "2010.0       4172\n",
      "2011.0       5942\n",
      "2012.0       6315\n",
      "2013.0       7270\n",
      "2014.0       9905\n"
     ]
    },
    {
     "output_type": "execute_result",
     "data": {
      "text/plain": [
       "[<matplotlib.lines.Line2D at 0x115d12da070>]"
      ]
     },
     "metadata": {},
     "execution_count": 19
    },
    {
     "output_type": "display_data",
     "data": {
      "text/plain": [
       "<Figure size 432x288 with 1 Axes>"
      ],
      "image/png": "[encoded data removed]"
     },
     "metadata": {
      "needs_background": "light"
     }
    }
   ],
   "metadata": {}
  },
  {
   "cell_type": "markdown",
   "source": [
    "3). From the results of 1) and 2), how can you describe the trend in general?"
   ],
   "metadata": {}
  },
  {
   "cell_type": "markdown",
   "source": [
    "- Around the year 2008, began a steep increase in the number of new coffee shops.\n",
    "- As of the year 2014, more coffee shops opened in the past 5 years are still in business rather than going out of business."
   ],
   "metadata": {}
  },
  {
   "cell_type": "code",
   "execution_count": null,
   "source": [],
   "outputs": [],
   "metadata": {}
  }
 ],
 "metadata": {
  "kernelspec": {
   "display_name": "Python 3",
   "language": "python",
   "name": "python3"
  },
  "language_info": {
   "codemirror_mode": {
    "name": "ipython",
    "version": 3
   },
   "file_extension": ".py",
   "mimetype": "text/x-python",
   "name": "python",
   "nbconvert_exporter": "python",
   "pygments_lexer": "ipython3",
   "version": "3.7.3"
  }
 },
 "nbformat": 4,
 "nbformat_minor": 2
}