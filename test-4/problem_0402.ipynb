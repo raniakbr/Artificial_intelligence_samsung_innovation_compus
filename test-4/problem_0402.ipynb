{
  "nbformat": 4,
  "nbformat_minor": 2,
  "metadata": {
    "kernelspec": {
      "name": "python3",
      "display_name": "Python 3.9.6 64-bit"
    },
    "language_info": {
      "codemirror_mode": {
        "name": "ipython",
        "version": 3
      },
      "file_extension": ".py",
      "mimetype": "text/x-python",
      "name": "python",
      "nbconvert_exporter": "python",
      "pygments_lexer": "ipython3",
      "version": "3.9.6"
    },
    "colab": {
      "name": "problem_0402.ipynb",
      "provenance": []
    },
    "interpreter": {
      "hash": "b3ed8e708b643839dc49c9e4479760f0fed46f4af64d471bc476f8b8b680b9fd"
    }
  },
  "cells": [
    {
      "cell_type": "markdown",
      "source": [
        "## Quiz #0402"
      ],
      "metadata": {
        "id": "fymIZnE2HiSk"
      }
    },
    {
      "cell_type": "markdown",
      "source": [
        "### \"OLS solution\""
      ],
      "metadata": {
        "id": "ev6UMwZsHiSq"
      }
    },
    {
      "cell_type": "code",
      "execution_count": 1,
      "source": [
        "import numpy as np\r\n",
        "import pandas as pd"
      ],
      "outputs": [],
      "metadata": {
        "id": "KjB62CZXHiSs"
      }
    },
    {
      "cell_type": "markdown",
      "source": [
        "#### Answer the following question by providing Python code:\n",
        "<br>\n",
        "study = an array that contains the hours of study. This is the explanatory variable. <br>\n",
        "score = an array that contains the test scores. This is the response variable."
      ],
      "metadata": {
        "id": "anHya6yqHiSt"
      }
    },
    {
      "cell_type": "code",
      "execution_count": 9,
      "source": [
        "study = np.array([ 3, 4.5, 6, 1.2, 2, 6.9, 6.7, 5.5]).reshape(-1,1)\r\n",
        "score = np.array([ 88, 85, 90, 80, 81, 92, 95, 90]).reshape(-1,1)\r\n",
        "study.shape"
      ],
      "outputs": [
        {
          "output_type": "execute_result",
          "data": {
            "text/plain": [
              "(8, 1)"
            ]
          },
          "metadata": {},
          "execution_count": 9
        }
      ],
      "metadata": {
        "id": "medl6inpHiSu"
      }
    },
    {
      "cell_type": "markdown",
      "source": [
        "1). Define the 'linerRegression' class to match the output shown below:"
      ],
      "metadata": {
        "id": "DmOxv3DsHiSv"
      }
    },
    {
      "cell_type": "code",
      "execution_count": 52,
      "source": [
        "class linearRegression:\r\n",
        "    def __init__(self):\r\n",
        "      return \r\n",
        "        \r\n",
        "    def train(self, input_X, input_Y):\r\n",
        "        n = input_X.shape[0]                                      # Number of observations.\r\n",
        "        k = input_X.shape[1]                                      # Number of explanatory variables.\r\n",
        "        \r\n",
        "\r\n",
        "        X  = input_X.mean()\r\n",
        "        Y = input_Y.mean()\r\n",
        "\r\n",
        "        SS_xy = np.sum(input_Y*input_X) - n*Y*X\r\n",
        "        SS_xx = np.sum(input_X*input_X) - n*X*X\r\n",
        "  \r\n",
        "        # Regression Coefficients by OLS.\r\n",
        "        self.beta = SS_xy/SS_xx\r\n",
        "        #print(self.beta)\r\n",
        "        # Residuals.\r\n",
        "        self.residuals = Y - np.dot(X,self.beta)\r\n",
        "        #print(self.residuals)\r\n",
        "        \r\n",
        "        # R^2.\r\n",
        "         \r\n",
        "        #<Your code goes in here>\r\n",
        "        Y_ = self.beta * input_X + self.residuals\r\n",
        "        SS_yy = np.sum((input_Y-Y)**2)\r\n",
        "        SS_yy_ = np.sum((input_Y-Y_)**2)\r\n",
        "       \r\n",
        "        r2 = 1 - SS_yy_/SS_yy\r\n",
        "        # Summary.\r\n",
        "        #print(np.round(r2,2))\r\n",
        "        #<Your code goes in here>\r\n",
        "        self.summary  = pd.DataFrame([self.residuals , self.beta ,'R^2 = '+str(np.round(r2,6))] , index=['Intercept', 'X1','----------'])\r\n",
        "        self.summary.columns = ['Coefficient']\r\n",
        "        return  \r\n",
        "    \r\n",
        "\r\n",
        "\r\n",
        "    def output(self):\r\n",
        "      return self.summary"
      ],
      "outputs": [],
      "metadata": {
        "id": "cB51PpzbHiSw"
      }
    },
    {
      "cell_type": "markdown",
      "source": [
        "**Sample run:**"
      ],
      "metadata": {
        "id": "TTNJUDEMHiSy"
      }
    },
    {
      "cell_type": "code",
      "execution_count": 53,
      "source": [
        "LR = linearRegression()                    # Create a linear regression object.\r\n",
        "LR.train(study, score)                     # Train.\r\n",
        "LR.output()                                # Display the training result."
      ],
      "outputs": [
        {
          "output_type": "execute_result",
          "data": {
            "text/plain": [
              "               Coefficient\n",
              "Intercept         77.68467\n",
              "X1                2.221303\n",
              "----------  R^2 = 0.845842"
            ],
            "text/html": [
              "<div>\n",
              "<style scoped>\n",
              "    .dataframe tbody tr th:only-of-type {\n",
              "        vertical-align: middle;\n",
              "    }\n",
              "\n",
              "    .dataframe tbody tr th {\n",
              "        vertical-align: top;\n",
              "    }\n",
              "\n",
              "    .dataframe thead th {\n",
              "        text-align: right;\n",
              "    }\n",
              "</style>\n",
              "<table border=\"1\" class=\"dataframe\">\n",
              "  <thead>\n",
              "    <tr style=\"text-align: right;\">\n",
              "      <th></th>\n",
              "      <th>Coefficient</th>\n",
              "    </tr>\n",
              "  </thead>\n",
              "  <tbody>\n",
              "    <tr>\n",
              "      <th>Intercept</th>\n",
              "      <td>77.68467</td>\n",
              "    </tr>\n",
              "    <tr>\n",
              "      <th>X1</th>\n",
              "      <td>2.221303</td>\n",
              "    </tr>\n",
              "    <tr>\n",
              "      <th>----------</th>\n",
              "      <td>R^2 = 0.845842</td>\n",
              "    </tr>\n",
              "  </tbody>\n",
              "</table>\n",
              "</div>"
            ]
          },
          "metadata": {},
          "execution_count": 53
        }
      ],
      "metadata": {
        "id": "u6tzBl78HiSz",
        "outputId": "1b1bb499-caa2-4066-9ca3-c432837ad970"
      }
    },
    {
      "cell_type": "code",
      "execution_count": null,
      "source": [],
      "outputs": [],
      "metadata": {
        "id": "XbUPcW1nHiS2"
      }
    }
  ]
}