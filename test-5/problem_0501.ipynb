{
  "nbformat": 4,
  "nbformat_minor": 2,
  "metadata": {
    "kernelspec": {
      "name": "python3",
      "display_name": "Python 3.9.6 64-bit"
    },
    "language_info": {
      "codemirror_mode": {
        "name": "ipython",
        "version": 3
      },
      "file_extension": ".py",
      "mimetype": "text/x-python",
      "name": "python",
      "nbconvert_exporter": "python",
      "pygments_lexer": "ipython3",
      "version": "3.9.6"
    },
    "colab": {
      "name": "problem_0501.ipynb",
      "provenance": []
    },
    "interpreter": {
      "hash": "b3ed8e708b643839dc49c9e4479760f0fed46f4af64d471bc476f8b8b680b9fd"
    }
  },
  "cells": [
    {
      "cell_type": "markdown",
      "source": [
        "## Quiz #0501"
      ],
      "metadata": {
        "id": "rjgrimodz8si"
      }
    },
    {
      "cell_type": "markdown",
      "source": [
        "### \"Logistic Regression and Gradient Descent Algorithm\""
      ],
      "metadata": {
        "id": "jKWQCplWz8sm"
      }
    },
    {
      "cell_type": "markdown",
      "source": [
        "#### Answer the following questions by providing Python code:\n",
        "#### Objectives:\n",
        "- Code a logistic regression class using only the NumPy library.\n",
        "- Implement in Python the Sigmoid function.\n",
        "- Implement in Python the Gradient of the logarithmic likelihood.\n",
        "- Implement in Python the Gradient Descent Algorithm."
      ],
      "metadata": {
        "id": "ii_vxXjRz8sp"
      }
    },
    {
      "cell_type": "code",
      "execution_count": 47,
      "source": [
        "import numpy as np\r\n",
        "import pandas as pd\r\n",
        "from sklearn.datasets import load_breast_cancer\r\n",
        "from sklearn.model_selection import train_test_split"
      ],
      "outputs": [],
      "metadata": {
        "id": "qPXzVLLez8ss"
      }
    },
    {
      "cell_type": "markdown",
      "source": [
        "#### Read in data:"
      ],
      "metadata": {
        "id": "NfGrSwGhz8sv"
      }
    },
    {
      "cell_type": "code",
      "execution_count": 48,
      "source": [
        "# Load data.\r\n",
        "data = load_breast_cancer()\r\n",
        "# Explanatory variables.\r\n",
        "X = data['data']\r\n",
        "# Relabel such that 0 = 'benign' and 1 = malignant.\r\n",
        "Y = 1 - data['target']"
      ],
      "outputs": [],
      "metadata": {
        "id": "5v7cO1Jez8sv"
      }
    },
    {
      "cell_type": "code",
      "execution_count": 49,
      "source": [
        "# Split the dataset into training and testing.\r\n",
        "X_train, X_test, Y_train, Y_test = train_test_split(X, Y, test_size=0.4, random_state=1234)"
      ],
      "outputs": [],
      "metadata": {
        "id": "RfwOovCoz8sw"
      }
    },
    {
      "cell_type": "markdown",
      "source": [
        "1). Define the 'sigmoid' and 'gradient' functions to produce the output shown below:"
      ],
      "metadata": {
        "id": "18dR-OLBz8sy"
      }
    },
    {
      "cell_type": "code",
      "execution_count": 50,
      "source": [
        "def sigmoid(x):\r\n",
        "       # <Your code goes in here>\r\n",
        "       return 1 / (1 + np.exp(-x))\r\n",
        "\r\n",
        "\r\n",
        "       "
      ],
      "outputs": [],
      "metadata": {
        "id": "yPOYE1H2z8sz"
      }
    },
    {
      "cell_type": "markdown",
      "source": [
        "2). Define the 'LogisticRegression' class to produce the output shown below:"
      ],
      "metadata": {
        "id": "fW8tGbtKz8s3"
      }
    },
    {
      "cell_type": "code",
      "execution_count": 51,
      "source": [
        "class LogisticRegression:\r\n",
        "    def __init__(self, learn_rate):\r\n",
        "        self.rate = learn_rate\r\n",
        "        self.n_nodes = None\r\n",
        "        self.beta = None\r\n",
        "        \r\n",
        "    def train(self, input_X, input_Y, n_epochs):\r\n",
        "\r\n",
        "       # <Your code goes in here>\r\n",
        "       n_s , n_f = input_X.shape\r\n",
        "       self.w = np.zeros(n_f)\r\n",
        "       self.b = 0\r\n",
        "       n_epochs = n_epochs\r\n",
        "\r\n",
        "       for i in range(n_epochs) : \r\n",
        "           linear_model  = np.dot(input_X , self.w) + self.b\r\n",
        "           y_predicted = sigmoid(linear_model)\r\n",
        "\r\n",
        "           self.w -= self.rate *(1 / n_s) * np.dot(input_X.T, (y_predicted - input_Y))\r\n",
        "           #dw = gradient(linear_model,input_Y,self.w)\r\n",
        "           self.b -= self.rate  *(1 / n_s)* np.sum(y_predicted - input_Y)\r\n",
        "\r\n",
        "    \r\n",
        "    def query(self, input_X, cutoff=0.5):\r\n",
        "       # <Your code goes in here>\r\n",
        "       linear_model = np.dot(input_X, self.w) + self.b\r\n",
        "       Y_predicted = sigmoid(linear_model)\r\n",
        "       classes = [1 if i > cutoff else 0 for i in Y_predicted]\r\n",
        "       return classes\r\n",
        "       #\r\n",
        "       #\r\n",
        "             \r\n"
      ],
      "outputs": [],
      "metadata": {
        "id": "ZnWTClEYz8s4"
      }
    },
    {
      "cell_type": "markdown",
      "source": [
        "#### Sample run:"
      ],
      "metadata": {
        "id": "Q4LW6q4tz8s5"
      }
    },
    {
      "cell_type": "code",
      "execution_count": 52,
      "source": [
        "# Hyperparameter for the learner.\r\n",
        "learning_rate = 0.001"
      ],
      "outputs": [],
      "metadata": {
        "id": "LF-BtAahz8s6"
      }
    },
    {
      "cell_type": "code",
      "execution_count": 53,
      "source": [
        "# Train and predict.\r\n",
        "LR = LogisticRegression(learning_rate)\r\n",
        "LR.train(X_train, Y_train, 2000)\r\n",
        "Y_pred = LR.query(X_test,cutoff=0.5)"
      ],
      "outputs": [
        {
          "output_type": "stream",
          "name": "stderr",
          "text": [
            "C:\\Users\\Rania\\AppData\\Local\\Temp/ipykernel_20808/481401287.py:3: RuntimeWarning: overflow encountered in exp\n",
            "  return 1 / (1 + np.exp(-x))\n"
          ]
        }
      ],
      "metadata": {
        "id": "qJKt4sffz8s7"
      }
    },
    {
      "cell_type": "code",
      "execution_count": 54,
      "source": [
        "# Display the accuracy.\r\n",
        "import sklearn\r\n",
        "\r\n",
        "acc = sklearn.metrics.accuracy_score(Y_pred , Y_test)\r\n",
        "print('Accuracy : {}'.format(np.round(acc,3)))"
      ],
      "outputs": [
        {
          "output_type": "stream",
          "name": "stdout",
          "text": [
            "Accuracy : 0.904\n"
          ]
        }
      ],
      "metadata": {
        "id": "xiQ7YM0iz8s8"
      }
    },
    {
      "cell_type": "code",
      "execution_count": null,
      "source": [],
      "outputs": [],
      "metadata": {
        "id": "gqZh9Tztz8s9"
      }
    }
  ]
}